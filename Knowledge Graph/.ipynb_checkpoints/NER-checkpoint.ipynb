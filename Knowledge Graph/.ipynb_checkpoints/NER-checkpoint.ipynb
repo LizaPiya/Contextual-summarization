{
 "cells": [
  {
   "cell_type": "code",
   "execution_count": 2,
   "id": "15c4ef46-c959-4728-aad5-ee0af63977fe",
   "metadata": {
    "tags": []
   },
   "outputs": [],
   "source": [
    "!pip install -q transformers huggingface_hub\n",
    "!pip install -q --upgrade accelerate\n",
    "!pip install -q -U bitsandbytes\n"
   ]
  },
  {
   "cell_type": "code",
   "execution_count": 3,
   "id": "7fbe9137-f1a9-4fe8-ab95-bea2b8c9339a",
   "metadata": {
    "tags": []
   },
   "outputs": [],
   "source": [
    "!pip install --upgrade --quiet langchain neo4j langchain"
   ]
  },
  {
   "cell_type": "code",
   "execution_count": 4,
   "id": "b086aa34-6607-4eb9-aab3-f567b8a03149",
   "metadata": {
    "tags": []
   },
   "outputs": [],
   "source": [
    "!pip install -q langchain-community\n",
    "\n"
   ]
  },
  {
   "cell_type": "code",
   "execution_count": 5,
   "id": "3701fc5a-cc3f-4bd4-835e-7ef3c64e18c2",
   "metadata": {
    "tags": []
   },
   "outputs": [
    {
     "data": {
      "text/html": [
       "<div>\n",
       "<style scoped>\n",
       "    .dataframe tbody tr th:only-of-type {\n",
       "        vertical-align: middle;\n",
       "    }\n",
       "\n",
       "    .dataframe tbody tr th {\n",
       "        vertical-align: top;\n",
       "    }\n",
       "\n",
       "    .dataframe thead th {\n",
       "        text-align: right;\n",
       "    }\n",
       "</style>\n",
       "<table border=\"1\" class=\"dataframe\">\n",
       "  <thead>\n",
       "    <tr style=\"text-align: right;\">\n",
       "      <th></th>\n",
       "      <th>note_id</th>\n",
       "      <th>input</th>\n",
       "      <th>target</th>\n",
       "      <th>input_tokens</th>\n",
       "      <th>target_tokens</th>\n",
       "    </tr>\n",
       "  </thead>\n",
       "  <tbody>\n",
       "    <tr>\n",
       "      <th>0</th>\n",
       "      <td>16002318-DS-17</td>\n",
       "      <td>&lt;SEX&gt; F &lt;SERVICE&gt; SURGERY &lt;ALLERGIES&gt; Iodine /...</td>\n",
       "      <td>This is a ___ yo F admitted to the hospital af...</td>\n",
       "      <td>1195</td>\n",
       "      <td>75</td>\n",
       "    </tr>\n",
       "    <tr>\n",
       "      <th>1</th>\n",
       "      <td>15638884-DS-4</td>\n",
       "      <td>&lt;SEX&gt; M &lt;SERVICE&gt; MEDICINE &lt;ALLERGIES&gt; Augment...</td>\n",
       "      <td>Mr. ___ is a ___ yo man with CAD with prior MI...</td>\n",
       "      <td>3496</td>\n",
       "      <td>1143</td>\n",
       "    </tr>\n",
       "    <tr>\n",
       "      <th>2</th>\n",
       "      <td>12435705-DS-14</td>\n",
       "      <td>&lt;SEX&gt; M &lt;SERVICE&gt; MEDICINE &lt;ALLERGIES&gt; ibuprof...</td>\n",
       "      <td>Mr. ___ is a ___ w/ Ph+ve ALL on dasatanib and...</td>\n",
       "      <td>5591</td>\n",
       "      <td>1098</td>\n",
       "    </tr>\n",
       "    <tr>\n",
       "      <th>3</th>\n",
       "      <td>12413577-DS-4</td>\n",
       "      <td>&lt;SEX&gt; F &lt;SERVICE&gt; OBSTETRICS/GYNECOLOGY &lt;ALLER...</td>\n",
       "      <td>On ___, Ms. ___ was admitted to the gynecology...</td>\n",
       "      <td>1119</td>\n",
       "      <td>221</td>\n",
       "    </tr>\n",
       "    <tr>\n",
       "      <th>4</th>\n",
       "      <td>17967161-DS-29</td>\n",
       "      <td>&lt;SEX&gt; M &lt;SERVICE&gt; SURGERY &lt;ALLERGIES&gt; lisinopr...</td>\n",
       "      <td>Mr. ___ underwent an angiogram on ___ which sh...</td>\n",
       "      <td>3307</td>\n",
       "      <td>439</td>\n",
       "    </tr>\n",
       "    <tr>\n",
       "      <th>5</th>\n",
       "      <td>16956007-DS-20</td>\n",
       "      <td>&lt;SEX&gt; M &lt;SERVICE&gt; SURGERY &lt;ALLERGIES&gt; Codeine ...</td>\n",
       "      <td>Mr. ___ is a ___ who underwent an exploratory ...</td>\n",
       "      <td>4168</td>\n",
       "      <td>1209</td>\n",
       "    </tr>\n",
       "    <tr>\n",
       "      <th>6</th>\n",
       "      <td>16919911-DS-15</td>\n",
       "      <td>&lt;SEX&gt; F &lt;SERVICE&gt; MEDICINE &lt;ALLERGIES&gt; Penicil...</td>\n",
       "      <td>This is a ___ year old female with a recent di...</td>\n",
       "      <td>2059</td>\n",
       "      <td>208</td>\n",
       "    </tr>\n",
       "    <tr>\n",
       "      <th>7</th>\n",
       "      <td>15682570-DS-25</td>\n",
       "      <td>&lt;SEX&gt; M &lt;SERVICE&gt; MEDICINE &lt;ALLERGIES&gt; No Know...</td>\n",
       "      <td>___ w/ h/o CAD ___ CABG LIMA to LAD, SVG to D1...</td>\n",
       "      <td>2215</td>\n",
       "      <td>451</td>\n",
       "    </tr>\n",
       "    <tr>\n",
       "      <th>8</th>\n",
       "      <td>12135369-DS-24</td>\n",
       "      <td>&lt;SEX&gt; F &lt;SERVICE&gt; MEDICINE &lt;ALLERGIES&gt; Compazi...</td>\n",
       "      <td>Ms ___ is a ___ year old woman with a history ...</td>\n",
       "      <td>2132</td>\n",
       "      <td>416</td>\n",
       "    </tr>\n",
       "    <tr>\n",
       "      <th>9</th>\n",
       "      <td>11906321-DS-20</td>\n",
       "      <td>&lt;SEX&gt; M &lt;SERVICE&gt; NEUROSURGERY &lt;ALLERGIES&gt; Pat...</td>\n",
       "      <td>The patient was admitted to the neurosurgery s...</td>\n",
       "      <td>2347</td>\n",
       "      <td>316</td>\n",
       "    </tr>\n",
       "    <tr>\n",
       "      <th>10</th>\n",
       "      <td>17384661-DS-20</td>\n",
       "      <td>&lt;SEX&gt; M &lt;SERVICE&gt; UROLOGY &lt;ALLERGIES&gt; No Known...</td>\n",
       "      <td>Mr. ___ was admitted to Dr. ___ Urology servic...</td>\n",
       "      <td>1452</td>\n",
       "      <td>171</td>\n",
       "    </tr>\n",
       "    <tr>\n",
       "      <th>11</th>\n",
       "      <td>11162709-DS-18</td>\n",
       "      <td>&lt;SEX&gt; M &lt;SERVICE&gt; MEDICINE &lt;ALLERGIES&gt; Sulfa (...</td>\n",
       "      <td>___ yoM with PMH notable for hx of left ICA an...</td>\n",
       "      <td>2469</td>\n",
       "      <td>420</td>\n",
       "    </tr>\n",
       "    <tr>\n",
       "      <th>12</th>\n",
       "      <td>19473355-DS-13</td>\n",
       "      <td>&lt;SEX&gt; M &lt;SERVICE&gt; SURGERY &lt;ALLERGIES&gt; No Known...</td>\n",
       "      <td>Mr. ___ is a ___ year old male with AAA who wa...</td>\n",
       "      <td>1593</td>\n",
       "      <td>259</td>\n",
       "    </tr>\n",
       "    <tr>\n",
       "      <th>13</th>\n",
       "      <td>14711846-DS-15</td>\n",
       "      <td>&lt;SEX&gt; F &lt;SERVICE&gt; MEDICINE &lt;ALLERGIES&gt; Gold Sa...</td>\n",
       "      <td>Ms. ___ was admitted for diagnosis and treatme...</td>\n",
       "      <td>3140</td>\n",
       "      <td>415</td>\n",
       "    </tr>\n",
       "    <tr>\n",
       "      <th>14</th>\n",
       "      <td>18094090-DS-35</td>\n",
       "      <td>&lt;SEX&gt; F &lt;SERVICE&gt; MEDICINE &lt;ALLERGIES&gt; Penicil...</td>\n",
       "      <td>Patient is a ___ year old woman with history o...</td>\n",
       "      <td>2346</td>\n",
       "      <td>528</td>\n",
       "    </tr>\n",
       "    <tr>\n",
       "      <th>15</th>\n",
       "      <td>16047293-DS-34</td>\n",
       "      <td>&lt;SEX&gt; M &lt;SERVICE&gt; MEDICINE &lt;ALLERGIES&gt; Penicil...</td>\n",
       "      <td>___ year-old male with PMH of diastolic heart ...</td>\n",
       "      <td>1747</td>\n",
       "      <td>144</td>\n",
       "    </tr>\n",
       "    <tr>\n",
       "      <th>16</th>\n",
       "      <td>15690160-DS-11</td>\n",
       "      <td>&lt;SEX&gt; F &lt;SERVICE&gt; NEUROLOGY &lt;ALLERGIES&gt; No Dru...</td>\n",
       "      <td>Her neuro exam has been asymptomatic since adm...</td>\n",
       "      <td>2438</td>\n",
       "      <td>18</td>\n",
       "    </tr>\n",
       "    <tr>\n",
       "      <th>17</th>\n",
       "      <td>18477272-DS-18</td>\n",
       "      <td>&lt;SEX&gt; F &lt;SERVICE&gt; OBSTETRICS/GYNECOLOGY &lt;ALLER...</td>\n",
       "      <td>On ___, Ms. ___ was admitted to the gynecology...</td>\n",
       "      <td>1192</td>\n",
       "      <td>154</td>\n",
       "    </tr>\n",
       "    <tr>\n",
       "      <th>18</th>\n",
       "      <td>10476129-DS-14</td>\n",
       "      <td>&lt;SEX&gt; F &lt;SERVICE&gt; MEDICINE &lt;ALLERGIES&gt; No Know...</td>\n",
       "      <td>BRIEF COURSE: ___ with limited PMH presented w...</td>\n",
       "      <td>2998</td>\n",
       "      <td>1119</td>\n",
       "    </tr>\n",
       "    <tr>\n",
       "      <th>19</th>\n",
       "      <td>19868904-DS-20</td>\n",
       "      <td>&lt;SEX&gt; F &lt;SERVICE&gt; NEUROLOGY &lt;ALLERGIES&gt; No Kno...</td>\n",
       "      <td>Ms. ___ was admitted to the neurology service ...</td>\n",
       "      <td>2072</td>\n",
       "      <td>221</td>\n",
       "    </tr>\n",
       "  </tbody>\n",
       "</table>\n",
       "</div>"
      ],
      "text/plain": [
       "           note_id                                              input  \\\n",
       "0   16002318-DS-17  <SEX> F <SERVICE> SURGERY <ALLERGIES> Iodine /...   \n",
       "1    15638884-DS-4  <SEX> M <SERVICE> MEDICINE <ALLERGIES> Augment...   \n",
       "2   12435705-DS-14  <SEX> M <SERVICE> MEDICINE <ALLERGIES> ibuprof...   \n",
       "3    12413577-DS-4  <SEX> F <SERVICE> OBSTETRICS/GYNECOLOGY <ALLER...   \n",
       "4   17967161-DS-29  <SEX> M <SERVICE> SURGERY <ALLERGIES> lisinopr...   \n",
       "5   16956007-DS-20  <SEX> M <SERVICE> SURGERY <ALLERGIES> Codeine ...   \n",
       "6   16919911-DS-15  <SEX> F <SERVICE> MEDICINE <ALLERGIES> Penicil...   \n",
       "7   15682570-DS-25  <SEX> M <SERVICE> MEDICINE <ALLERGIES> No Know...   \n",
       "8   12135369-DS-24  <SEX> F <SERVICE> MEDICINE <ALLERGIES> Compazi...   \n",
       "9   11906321-DS-20  <SEX> M <SERVICE> NEUROSURGERY <ALLERGIES> Pat...   \n",
       "10  17384661-DS-20  <SEX> M <SERVICE> UROLOGY <ALLERGIES> No Known...   \n",
       "11  11162709-DS-18  <SEX> M <SERVICE> MEDICINE <ALLERGIES> Sulfa (...   \n",
       "12  19473355-DS-13  <SEX> M <SERVICE> SURGERY <ALLERGIES> No Known...   \n",
       "13  14711846-DS-15  <SEX> F <SERVICE> MEDICINE <ALLERGIES> Gold Sa...   \n",
       "14  18094090-DS-35  <SEX> F <SERVICE> MEDICINE <ALLERGIES> Penicil...   \n",
       "15  16047293-DS-34  <SEX> M <SERVICE> MEDICINE <ALLERGIES> Penicil...   \n",
       "16  15690160-DS-11  <SEX> F <SERVICE> NEUROLOGY <ALLERGIES> No Dru...   \n",
       "17  18477272-DS-18  <SEX> F <SERVICE> OBSTETRICS/GYNECOLOGY <ALLER...   \n",
       "18  10476129-DS-14  <SEX> F <SERVICE> MEDICINE <ALLERGIES> No Know...   \n",
       "19  19868904-DS-20  <SEX> F <SERVICE> NEUROLOGY <ALLERGIES> No Kno...   \n",
       "\n",
       "                                               target  input_tokens  \\\n",
       "0   This is a ___ yo F admitted to the hospital af...          1195   \n",
       "1   Mr. ___ is a ___ yo man with CAD with prior MI...          3496   \n",
       "2   Mr. ___ is a ___ w/ Ph+ve ALL on dasatanib and...          5591   \n",
       "3   On ___, Ms. ___ was admitted to the gynecology...          1119   \n",
       "4   Mr. ___ underwent an angiogram on ___ which sh...          3307   \n",
       "5   Mr. ___ is a ___ who underwent an exploratory ...          4168   \n",
       "6   This is a ___ year old female with a recent di...          2059   \n",
       "7   ___ w/ h/o CAD ___ CABG LIMA to LAD, SVG to D1...          2215   \n",
       "8   Ms ___ is a ___ year old woman with a history ...          2132   \n",
       "9   The patient was admitted to the neurosurgery s...          2347   \n",
       "10  Mr. ___ was admitted to Dr. ___ Urology servic...          1452   \n",
       "11  ___ yoM with PMH notable for hx of left ICA an...          2469   \n",
       "12  Mr. ___ is a ___ year old male with AAA who wa...          1593   \n",
       "13  Ms. ___ was admitted for diagnosis and treatme...          3140   \n",
       "14  Patient is a ___ year old woman with history o...          2346   \n",
       "15  ___ year-old male with PMH of diastolic heart ...          1747   \n",
       "16  Her neuro exam has been asymptomatic since adm...          2438   \n",
       "17  On ___, Ms. ___ was admitted to the gynecology...          1192   \n",
       "18  BRIEF COURSE: ___ with limited PMH presented w...          2998   \n",
       "19  Ms. ___ was admitted to the neurology service ...          2072   \n",
       "\n",
       "    target_tokens  \n",
       "0              75  \n",
       "1            1143  \n",
       "2            1098  \n",
       "3             221  \n",
       "4             439  \n",
       "5            1209  \n",
       "6             208  \n",
       "7             451  \n",
       "8             416  \n",
       "9             316  \n",
       "10            171  \n",
       "11            420  \n",
       "12            259  \n",
       "13            415  \n",
       "14            528  \n",
       "15            144  \n",
       "16             18  \n",
       "17            154  \n",
       "18           1119  \n",
       "19            221  "
      ]
     },
     "execution_count": 5,
     "metadata": {},
     "output_type": "execute_result"
    }
   ],
   "source": [
    "import pandas as pd\n",
    "\n",
    "# Define the bucket and file names\n",
    "bucket_name = 'mimicivliza'  # Replace with your bucket name\n",
    "mimic_iv_bhc = f's3://{bucket_name}/sample_data_100.csv'\n",
    "\n",
    "# Load the files\n",
    "mimic_iv_bhc_100 = pd.read_csv(mimic_iv_bhc)\n",
    "\n",
    "# Display the data\n",
    "mimic_iv_bhc_100.head(20)"
   ]
  },
  {
   "cell_type": "code",
   "execution_count": 6,
   "id": "d9eeea42-620c-4cc8-a492-8afd894b5c4e",
   "metadata": {
    "tags": []
   },
   "outputs": [
    {
     "name": "stdout",
     "output_type": "stream",
     "text": [
      "<SEX> F <SERVICE> SURGERY <ALLERGIES> Iodine / Thallium-201 / Blue Dye / Iodine-Iodine Containing <ATTENDING> ___. <CHIEF COMPLAINT> Morbid obesity, BMI of 51 <MAJOR SURGICAL OR INVASIVE PROCEDURE> lap gastric bypass <HISTORY OF PRESENT ILLNESS> The patient is a ___ woman with history of obesity, multiple medical problems with a history of 7 pound weight loss and regain. Comorbid conditions include sleep apnea, hypothyroidism, back pain, iron deficiency anemia and headaches. The patient has significant allergies particularly to the blue dye and iodine. The patient was evaluated at ___ ___ ___ Program deemed a good candidate for surgical weight loss. She understands the risks, benefits and alternatives of weight loss surgery. She agrees to diet, exercise, support group and lifelong medical follow-up particularly for B12, calcium and folate levels. <PAST MEDICAL HISTORY> Past medical history includes sleep apnea, hypothyroidism, back pain, urticaria for which she is on chronic steroids, iron deficiency anemia, and headaches <SOCIAL HISTORY> ___ <FAMILY HISTORY> Family history of obesity with mother. <PHYSICAL EXAM> PHYSICAL EXAM ON ADMISSION: GEN: no acute distress BMI is 51. Alert and oriented. HEENT: Neck is supple. PULM: Breathing comfortably. Lungs clear to auscultation. CV: RRR ABD: Abdomen is soft and nontender with a lower abdominal scar. Upper and lower extremities, good range of motion, good strength. Gait and station normal. <PERTINENT RESULTS> ___ 12: 07PM HCT-36.3 <MEDICATIONS ON ADMISSION> Levothyroxine 100 mcg daily for hypothyroid; Zyrtec 10 mg twice a day as needed, Benadryl 25 mg at bedtime for seasonal allergies, chronic hives; Albuterol sulfate two puffs q 6 hours if needed for wheezing (has not used so far); Fioricet 50 mg-325 mg-40 mg once a day as needed for migraine headaches; Clobetasol 0.05% ointment to affected areas twice a day for rash; its Tylenol ___ mg-650 mg every 4 to 6 hours as needed for pain/headache; Ferrous sulfate 325 mg for iron deficiency, multivitamin once a day and vitamin D 1000 units once a day for nutritional supplementation <DISCHARGE MEDICATIONS> 1. Roxicet ___ mg/5 mL Solution Sig: Ten (10) mls PO every four (4) hours. Disp: *500 ccs* Refills: *0* 2. Colace 50 mg/5 mL Liquid Sig: ___ mls PO twice a day. Disp: *500 mls* Refills: *0* 3. Zantac 15 mg/mL Syrup Sig: Five (5) mls PO twice a day. Disp: *500 mls* Refills: *2* 4. Levothyroxine 100 mcg Tablet Sig: One (1) Tablet PO DAILY (Daily). 5. Albuterol Sulfate 90 mcg/Actuation HFA Aerosol Inhaler Sig: ___ Puffs Inhalation Q6H (every 6 hours) as needed for wheeze. 6. Diphenhydramine HCl 25 mg Capsule Sig: One (1) Capsule PO Q4H (every 4 hours) as needed for itch/hives. <DISCHARGE DISPOSITION> Home <DISCHARGE DIAGNOSIS> Morbid Obesity <DISCHARGE CONDITION> Afebrile with vital signs stable <FOLLOWUP INSTRUCTIONS> ___ <DISCHARGE INSTRUCTIONS> You are being discharged on medications to treat the pain from your operation. These medications will make you drowsy and impair your ability to drive a motor vehicle or operate machinery safely. You MUST refrain from such activities while taking these medications. Please call your doctor or return to the emergency room if you have any of the following: * You experience new chest pain, pressure, squeezing or tightness. * New or worsening cough or wheezing. * If you are vomiting and cannot keep in fluids or your medications. * You are getting dehydrated due to continued vomiting, diarrhea or other reasons. Signs of dehydration include dry mouth, rapid heartbeat or feeling dizzy or faint when standing. * You see blood or dark/black material when you vomit or have a bowel movement. * You have shaking chills, or a fever greater than 101.5 (F) degrees or 38(C) degrees. * Any serious change in your symptoms, or any new symptoms that concern you. * Please resume all regular home medications and take any new meds as ordered. Activity: No heavy lifting of items ___ pounds for 6 weeks. You may resume moderate exercise at your discretion, no abdominal exercises. Wound Care: You may shower 48 hours after surgery, no tub baths or swimming. If there is clear drainage from your incisions, cover with clean, dry gauze. Your steri-strips will fall off on their own. Please remove any remaining strips ___ days after surgery. Please call the doctor if you have increased pain, swelling, redness, or drainage from the incision sites. Please stay on Bariatric stage 3 diet until your follow appointment. Please do not drink from a straw or chew gum. Please take Flintstones chewable tablets daily. \n"
     ]
    }
   ],
   "source": [
    "print(mimic_iv_bhc_100['input'].iloc[0])"
   ]
  },
  {
   "cell_type": "code",
   "execution_count": 7,
   "id": "be15f8c2-c86a-4bd7-943b-1801eb3e7b0e",
   "metadata": {
    "tags": []
   },
   "outputs": [
    {
     "name": "stdout",
     "output_type": "stream",
     "text": [
      "note_id                                       16002318-DS-17\n",
      "input      <SEX> F <SERVICE> SURGERY <ALLERGIES> Iodine /...\n",
      "Name: 0, dtype: object\n"
     ]
    }
   ],
   "source": [
    "# Extract 'note_id' and 'input' columns and save to a new dataframe\n",
    "NER = mimic_iv_bhc_100[['note_id', 'input']]\n",
    "\n",
    "# Display the first few rows of the new dataframe to verify\n",
    "NER.head(2)\n",
    "print(NER[['note_id', 'input']].iloc[0])"
   ]
  },
  {
   "cell_type": "code",
   "execution_count": 9,
   "id": "1d52c0b1-a68a-45ce-89b5-5df591ffa94e",
   "metadata": {
    "tags": []
   },
   "outputs": [
    {
     "name": "stdout",
     "output_type": "stream",
     "text": [
      "<SEX> M <SERVICE> NEUROSURGERY <ALLERGIES> Patient recorded as having No Known Allergies to Drugs <ATTENDING> ___. <CHIEF COMPLAINT> headache past ten days <MAJOR SURGICAL OR INVASIVE PROCEDURE> Image guided right craniotomy for tumor resection <HISTORY OF PRESENT ILLNESS> Mr. ___ is a ___ y/o male who was in good health until 10 days ago, when he began having gradually worsening headaches. These were right-sided and throbbing and initially controlled with over the counter analgesics, but are now refractory to these. He has had no visual changes in association, no N/V or drowsiness. He does not appreciate worsening with cough/strain or sneezing. The patient denies other difficulties, such as weakness, numbness/tingling, visual loss or diplopia, speech abnormalities, gait difficulties, vertigo, dysarthria or dysphagia. He was taken to an outside hospital today, where head CT revealed an intracranial mass lesion. He was given decadron and sent to ___ ER. <PAST MEDICAL HISTORY> renal cell carcinoma s/p L nephrectomy in ___, no xrt/chemo <SOCIAL HISTORY> ___ <FAMILY HISTORY> negative for past malignancies <PHYSICAL EXAM> VS 97.9 60 150/100 12 97% Gen Awake, cooperative, NAD HEENT NC/AT, no scleral icterus noted, MMM, no lesions noted in oropharynx Neck Supple, no carotid bruits appreciated. No nuchal rigidity Lungs CTA bilaterally CV RRR, nl S1S2, no M/R/G noted Abd soft, NT/ND, normoactive bowel sounds, no masses or organomegaly noted Ext No C/C/E b/l Skin no rashes or lesions noted NEURO EXAM MS ___, alert and oriented x 3. Speech fluent, with normal naming, reading, comprehension and repetition. Able to follow both midline and appendicular commands. No apraxia. No dysarthria. CN I: not tested CN II: Visual fields were full to confrontation, but with extinction on the left to double simultaneous stimulation. Pupils 4->2 b/l. CN III, IV, VI: EOMI no nystagmus or diplopia CN V: intact to LT throughout; CN VII: slight L NLF flattening and asymmetry CN VIII: hearing intact to FR b/l CN IX, X: palate rises symmetrically CN XI: shrug ___ and symmetric CN XII: tongue midline and agile Motor Normal bulk and tone. No pronator drift D B T WE FE FF IP Q H DF PF TE L ___ ___ Sensory intact to light touch, pinprick, joint position sense, vibration throughout. No extinction to double simultaneous stimulation. Reflexes Br Bi Tri Pat Ach Toes L ___ 2 1 down R ___ 2 1 down Coordination Fine finger movements, rapid alternating movements, finger-to-nose, and heel-to-shin were all normal <PERTINENT RESULTS> ___ 04: 30PM ___ PTT-26.8 ___ ___ 04: 30PM PLT COUNT-156 ___ 04: 30PM NEUTS-87.7* LYMPHS-10.9* MONOS-1.0* EOS-0.3 BASOS-0.1 ___ 04: 30PM WBC-6.7 RBC-5.41 HGB-15.8 HCT-47.0 MCV-87 MCH-29.2 MCHC-33.7 RDW-13.2 ___ 04: 30PM estGFR-Using this ___ 04: 30PM GLUCOSE-107* UREA N-19 CREAT-1.4* SODIUM-140 POTASSIUM-4.4 CHLORIDE-106 TOTAL CO2-25 ANION GAP-13 MR HEAD W & W/O CONTRAST ___ 5: 37 AM MR HEAD W & W/O CONTRAST Reason: evaluate lesion Contrast: MAGNEVIST UNDERLYING MEDICAL CONDITION: ___ year old man with intracranial mass lesion REASON FOR THIS EXAMINATION: evaluate lesion CONTRAINDICATIONS for IV CONTRAST: None. INDICATION: ___ mid patient, with endocranial mass lesion, to evaluate lesion. PRIOR STUDIES: CT of the head done on ___. TECHNIQUE: Multiplanar T1- and T2-weighted imaging of the head was performed without and with IV contrast. FINDINGS: There is a large heterogeneous mass lesion, in the right temporoparietal lobes, with areas of hemorrhage, cystic change, necrosis and large solid enhancing component. The solid competent measures 5.0 x 4.3 cm. There is entrapment of the right temporal horn. There is surrounding significant vasogenic edema, with a leftward shift of subfalcine herniation; measuring approximately 1 cm is unchanged, allowing for technical differences, compared to the prior CT. Mass effect on the right lateral ventricle, is unchanged. There is a 1.7 x 1.6 cm round focus of increased signal on the FLAIR, with enhancement on the post-contrast images in the left parapharyngeal space, which corresponds to an abnormally enlarged lymph node, on correlation with the CT angiogram performed on the same day (series 9, image 1), however, this is not completely included on our present study. IMPRESSION: 1. Large heterogeneous mass lesion in the right parietal and temporal lobes, with cystic, necrotic, hemorrhagic and solid components, the solid competent measuring 5.0 cm, with significant surrounding edema, mass effect and subfalcine herniation, and entrapment of the right temporal horn without significant change since the CT head done the day before. 2. 1.7-cm enhancing focus in the left parapharyngeal region, representing an abnormally enlarged lymph node, representing metastatic involvement. However, this is not completely included on our present study. MR HEAD W & W/O CONTRAST ___ 2: 41 ___ MR HEAD W & W/O CONTRAST Reason: residual mass? Contrast: MAGNEVIST UNDERLYING MEDICAL CONDITION: ___ year old man with parietal mass s/p resection REASON FOR THIS EXAMINATION: residual mass? CONTRAINDICATIONS for IV CONTRAST: None. GADOLINIUM-ENHANCED MR SCAN OF THE BRAIN HISTORY: Status post resection of right parietal mass. Assess for residual tumor. TECHNIQUE: Multiplanar T1- and T2-weighted brain imaging was obtained pre- and post-gadolinium administration. COMPARISON STUDY: MR scan of the brain from ___. FINDINGS: There is a lace-like pattern of enhancement along the anteromedial aspect of the right temporal lobe, apparently surrounding the right temporal horn body. There is persistent mild dilatation of the right temporal horn tip, but substantially reduced in extent compared to the prior preoperative study. Additionally, there is presumed hemorrhage along the operative tract, more peripherally situated within the posterior aspect of the right temporal lobe. The extensive edema surrounding the formerly very large tumor appears unaltered in extent. However, overall, there is somewhat less mass effect, though there is still leftward subfalcine herniation present. Numerous tiny areas of elevated T2 signal are seen within the white matter of both cerebral hemispheres, presumably representing chronic small vessel infarctions or post- inflammatory residua. There is soft tissue swelling, subgaleal in locale at the craniotomy site and there is a possible fluid collection or surgical material within the crescent- shaped space between the dura spanning the craniotomy flap and the inner table of the flap itself. There is redemonstration of the well- defined, rounded 21 mm area of contrast enhancement in the left parapharyngeal fat area. Its sharp margination seems most consistent with a benign neoplastic process (question neurogenic tumor). This location would be very unusual for a lymph node or metastatic disease, as was suggested on the previous report. CONCLUSION: Findings suggest that there is residual tumor in the region of the right temporal lobe surrounding the right temporal horn, with mild residual entrapment of this portion of the right lateral ventricle, as described above. Pathology pending at time of discharge <MEDICATIONS ON ADMISSION> None <DISCHARGE MEDICATIONS> 1. Acetaminophen 325 mg Tablet Sig: ___ Tablets PO Q6H (every 6 hours) as needed for pain or fever. 2. Atenolol 25 mg Tablet Sig: 0.5 Tablet PO BID (2 times a day). Disp: *30 Tablet(s)* Refills: *0* 3. Phenytoin Sodium Extended 100 mg Capsule Sig: One (1) Capsule PO TID (3 times a day). Disp: *90 Capsule(s)* Refills: *0* 4. Docusate Sodium 100 mg Capsule Sig: One (1) Capsule PO BID (2 times a day). Disp: *60 Capsule(s)* Refills: *0* 5. Dexamethasone 2 mg Tablet Sig: One (1) Tablet PO tid (). Disp: *90 Tablet(s)* Refills: *0* <DISCHARGE DISPOSITION> Home <DISCHARGE DIAGNOSIS> Brain tumor <DISCHARGE CONDITION> Stable <FOLLOWUP INSTRUCTIONS> ___ <DISCHARGE INSTRUCTIONS> DISCHARGE INSTRUCTIONS FOR CRANIOTOMY/HEAD INJURY -Have a family member check your incision daily for signs of infection -Take your pain medicine as prescribed -Exercise should be limited to walking; no lifting, straining, excessive bending -You may wash your hair only after sutures and/or staples have been removed -You may shower before this time with assistance and use of a shower cap -Increase your intake of fluids and fiber as pain medicine (narcotics) can cause constipation -Unless directed by your doctor, do not take any anti-inflammatory medicines such as Motrin, aspirin, Advil, Ibuprofen etc. -If you have been prescribed an anti-seizure medicine, take it as prescribed and follow up with laboratory blood drawing as ordered -Clearance to drive and return to work will be addressed at your post-operative office visit CALL YOUR SURGEON IMMEDIATELY IF YOU EXPERIENCE ANY OF THE FOLLOWING: -New onset of tremors or seizures -Any confusion or change in mental status -Any numbness, tingling, weakness in your extremities -Pain or headache that is continually increasing or not relieved by pain medication -Any signs of infection at the wound site: redness, swelling, tenderness, drainage -Fever greater than or equal to 101° F \n"
     ]
    }
   ],
   "source": [
    "print(NER['input'].iloc[9])"
   ]
  },
  {
   "cell_type": "code",
   "execution_count": 10,
   "id": "3a5ccb6a-6f87-468d-8468-cac411494aca",
   "metadata": {
    "tags": []
   },
   "outputs": [],
   "source": [
    "from huggingface_hub import login\n",
    "\n",
    "# Use your Hugging Face token\n",
    "login(\"\")"
   ]
  },
  {
   "cell_type": "code",
   "execution_count": 11,
   "id": "0dc22453-7065-44ac-87dd-c35a724d639c",
   "metadata": {
    "tags": []
   },
   "outputs": [
    {
     "data": {
      "text/plain": [
       "note_id    100\n",
       "input      100\n",
       "dtype: int64"
      ]
     },
     "execution_count": 11,
     "metadata": {},
     "output_type": "execute_result"
    }
   ],
   "source": [
    "NER.nunique()"
   ]
  },
  {
   "cell_type": "code",
   "execution_count": 12,
   "id": "4480169f-8341-488b-a459-2843cb396ac3",
   "metadata": {
    "tags": []
   },
   "outputs": [
    {
     "name": "stdout",
     "output_type": "stream",
     "text": [
      "\n",
      "=== Starting NER Processing ===\n",
      "\n",
      "=== Starting DataFrame Processing ===\n",
      "\n",
      "Initializing MimicNERProcessor...\n",
      "Loading tokenizer from samrawal/bert-base-uncased_clinical-ner\n"
     ]
    },
    {
     "data": {
      "application/vnd.jupyter.widget-view+json": {
       "model_id": "4a9f63fe369944d780933c93154eca9c",
       "version_major": 2,
       "version_minor": 0
      },
      "text/plain": [
       "tokenizer_config.json:   0%|          | 0.00/300 [00:00<?, ?B/s]"
      ]
     },
     "metadata": {},
     "output_type": "display_data"
    },
    {
     "data": {
      "application/vnd.jupyter.widget-view+json": {
       "model_id": "729702b683fb469dbd6b111e5681c3d6",
       "version_major": 2,
       "version_minor": 0
      },
      "text/plain": [
       "config.json:   0%|          | 0.00/895 [00:00<?, ?B/s]"
      ]
     },
     "metadata": {},
     "output_type": "display_data"
    },
    {
     "data": {
      "application/vnd.jupyter.widget-view+json": {
       "model_id": "137404d5602a422786d9a4bbaaa78669",
       "version_major": 2,
       "version_minor": 0
      },
      "text/plain": [
       "vocab.txt:   0%|          | 0.00/232k [00:00<?, ?B/s]"
      ]
     },
     "metadata": {},
     "output_type": "display_data"
    },
    {
     "name": "stdout",
     "output_type": "stream",
     "text": [
      "Loading model...\n"
     ]
    },
    {
     "data": {
      "application/vnd.jupyter.widget-view+json": {
       "model_id": "f0490ee8969a48e69825bf847bfe1d4f",
       "version_major": 2,
       "version_minor": 0
      },
      "text/plain": [
       "pytorch_model.bin:   0%|          | 0.00/436M [00:00<?, ?B/s]"
      ]
     },
     "metadata": {},
     "output_type": "display_data"
    },
    {
     "data": {
      "application/vnd.jupyter.widget-view+json": {
       "model_id": "fd80ad3dd4114a158446103155de905f",
       "version_major": 2,
       "version_minor": 0
      },
      "text/plain": [
       "model.safetensors:   0%|          | 0.00/436M [00:00<?, ?B/s]"
      ]
     },
     "metadata": {},
     "output_type": "display_data"
    },
    {
     "name": "stderr",
     "output_type": "stream",
     "text": [
      "Device set to use cuda:0\n"
     ]
    },
    {
     "name": "stdout",
     "output_type": "stream",
     "text": [
      "Using device: cuda\n",
      "Initializing NER pipeline...\n",
      "NER pipeline initialized successfully\n"
     ]
    },
    {
     "name": "stderr",
     "output_type": "stream",
     "text": [
      "Extracting entities:   2%|▏         | 2/100 [00:10<08:26,  5.17s/it]You seem to be using the pipelines sequentially on GPU. In order to maximize efficiency please use a dataset\n",
      "Extracting entities: 100%|██████████| 100/100 [00:35<00:00,  2.80it/s]"
     ]
    },
    {
     "name": "stdout",
     "output_type": "stream",
     "text": [
      "\n",
      "Extraction Statistics:\n",
      "Notes with problems: 100\n",
      "Notes with treatments: 99\n",
      "Notes with tests: 98\n",
      "\n",
      "Results preview:\n",
      "                                            problems  \\\n",
      "0  [101, 7 pound weight loss, a fever, a lower ab...   \n",
      "1  [+, -, 1 cm area, a \" cyst \", a 2cm distal cbd...   \n",
      "2  [a 0. 7 x 0. 7 x 0. 7 cm simple cyst, a 2. 1 x...   \n",
      "3  [a third - degree uterine prolapse, abnormal v...   \n",
      "4  [101, abuse, acute pancreatitis, angina, anter...   \n",
      "\n",
      "                                          treatments  \\\n",
      "0  [abdominal exercises, albuterol sulfate, all, ...   \n",
      "1  [a bankart repair, a nicotine patch, a stent, ...   \n",
      "2  [2, a prolonged course, ampicillin, anti -, an...   \n",
      "3  [a stool softener, acetaminophen, admissionmis...   \n",
      "4  [a, a 3 mm x 40 mm balloon percutaneous transl...   \n",
      "\n",
      "                                               tests  \n",
      "0                 [b12, bmi, calcium, physical exam]  \n",
      "1  [., _, a, a ct scan, absbaso, abseos, abslymp,...  \n",
      "2  [16s rdna primer set, aa, abl, acid fast cultu...  \n",
      "3  [hct, hgb, mch, mchc, mcv, nadr, physical exam...  \n",
      "4  [angap, blood, blood calcium, blood ck (, bloo...  \n"
     ]
    },
    {
     "name": "stderr",
     "output_type": "stream",
     "text": [
      "\n"
     ]
    }
   ],
   "source": [
    "from transformers import AutoTokenizer, AutoModelForTokenClassification, pipeline\n",
    "import pandas as pd\n",
    "from typing import Dict, List\n",
    "import torch\n",
    "from tqdm import tqdm\n",
    "\n",
    "\n",
    "class MimicNERProcessor:\n",
    "    def __init__(self, confidence_threshold: float = 0.75, max_token_length: int = 512, overlap: int = 50):\n",
    "        \"\"\"\n",
    "        Initialize the MimicNERProcessor with a specified confidence threshold.\n",
    "        Uses the samrawal/bert-base-uncased_clinical-ner model for NER.\n",
    "        \"\"\"\n",
    "        print(\"\\nInitializing MimicNERProcessor...\")\n",
    "        self.model_name = \"samrawal/bert-base-uncased_clinical-ner\"\n",
    "        print(f\"Loading tokenizer from {self.model_name}\")\n",
    "        self.tokenizer = AutoTokenizer.from_pretrained(self.model_name)\n",
    "        print(\"Loading model...\")\n",
    "        self.model = AutoModelForTokenClassification.from_pretrained(self.model_name)\n",
    "        self.confidence_threshold = confidence_threshold\n",
    "        self.max_token_length = max_token_length\n",
    "        self.overlap = overlap\n",
    "\n",
    "        device = 0 if torch.cuda.is_available() else -1\n",
    "        print(f\"Using device: {'cuda' if device == 0 else 'cpu'}\")\n",
    "        print(\"Initializing NER pipeline...\")\n",
    "        self.ner_pipeline = pipeline(\n",
    "            \"ner\",\n",
    "            model=self.model,\n",
    "            tokenizer=self.tokenizer,\n",
    "            aggregation_strategy=\"simple\",\n",
    "            device=device\n",
    "        )\n",
    "        print(\"NER pipeline initialized successfully\")\n",
    "\n",
    "    def preprocess_text(self, text: str) -> str:\n",
    "        \"\"\"\n",
    "        Preprocess the input text by ensuring it's a string and removing NaN values.\n",
    "        \"\"\"\n",
    "        if pd.isna(text):\n",
    "            print(\"Found NaN text\")\n",
    "            return \"\"\n",
    "        return str(text).strip()\n",
    "\n",
    "    def split_text_into_chunks(self, text: str) -> List[str]:\n",
    "        \"\"\"\n",
    "        Split text into overlapping chunks that fit the model's token limit.\n",
    "        \"\"\"\n",
    "        encoded = self.tokenizer.encode_plus(\n",
    "            text,\n",
    "            max_length=self.max_token_length,\n",
    "            truncation=False,\n",
    "            return_offsets_mapping=False,\n",
    "        )\n",
    "        input_ids = encoded['input_ids']\n",
    "        chunks = []\n",
    "\n",
    "        for i in range(0, len(input_ids), self.max_token_length - self.overlap):\n",
    "            chunk = input_ids[i:i + self.max_token_length]\n",
    "            chunks.append(self.tokenizer.decode(chunk, skip_special_tokens=True))\n",
    "        return chunks\n",
    "\n",
    "    def extract_entities(self, text: str) -> Dict[str, List[str]]:\n",
    "        \"\"\"\n",
    "        Extract entities from the clinical note using the NER pipeline.\n",
    "        Handles subword tokens to merge into meaningful entities.\n",
    "        \"\"\"\n",
    "        text = self.preprocess_text(text)\n",
    "        if not text:\n",
    "            return {\"PROBLEM\": [], \"TREATMENT\": [], \"TEST\": []}\n",
    "\n",
    "        try:\n",
    "            chunks = self.split_text_into_chunks(text)\n",
    "            entities = {\"PROBLEM\": [], \"TREATMENT\": [], \"TEST\": []}\n",
    "            current_entity = \"\"\n",
    "            last_entity_type = None\n",
    "\n",
    "            for chunk in chunks:\n",
    "                ner_results = self.ner_pipeline(chunk)\n",
    "\n",
    "                for entity in ner_results:\n",
    "                    if entity['score'] > self.confidence_threshold:\n",
    "                        entity_text = entity['word']\n",
    "                        entity_type = entity['entity_group'].upper()\n",
    "\n",
    "                        # Merge subwords\n",
    "                        if entity_text.startswith(\"##\"):\n",
    "                            current_entity += entity_text[2:]  # Append subword\n",
    "                        else:\n",
    "                            # Save the last entity if complete\n",
    "                            if current_entity and last_entity_type == entity_type:\n",
    "                                entities[last_entity_type].append(current_entity.strip())\n",
    "                            current_entity = entity_text\n",
    "                            last_entity_type = entity_type\n",
    "\n",
    "            # Add the last buffered entity\n",
    "            if current_entity and last_entity_type:\n",
    "                entities[last_entity_type].append(current_entity.strip())\n",
    "\n",
    "            # Remove duplicates and sort entities\n",
    "            return {k: sorted(list(set(v))) for k, v in entities.items()}\n",
    "\n",
    "        except Exception as e:\n",
    "            print(f\"Error in extract_entities: {str(e)}\")\n",
    "            return {\"PROBLEM\": [], \"TREATMENT\": [], \"TEST\": []}\n",
    "\n",
    "\n",
    "def process_dataframe(\n",
    "    df: pd.DataFrame,\n",
    "    text_column: str = 'input',\n",
    "    confidence_threshold: float = 0.75\n",
    ") -> pd.DataFrame:\n",
    "    \"\"\"\n",
    "    Process clinical notes DataFrame to extract entities using MimicNERProcessor.\n",
    "    \"\"\"\n",
    "    print(\"\\n=== Starting DataFrame Processing ===\")\n",
    "    processor = MimicNERProcessor(confidence_threshold=confidence_threshold)\n",
    "    result_df = df.copy()\n",
    "\n",
    "    tqdm.pandas(desc=\"Extracting entities\")\n",
    "    result_df['entities'] = result_df[text_column].progress_apply(processor.extract_entities)\n",
    "\n",
    "    # Expand entities into separate columns\n",
    "    result_df['problems'] = result_df['entities'].apply(lambda x: x.get(\"PROBLEM\", []))\n",
    "    result_df['treatments'] = result_df['entities'].apply(lambda x: x.get(\"TREATMENT\", []))\n",
    "    result_df['tests'] = result_df['entities'].apply(lambda x: x.get(\"TEST\", []))\n",
    "\n",
    "    # Print extraction statistics\n",
    "    print(\"\\nExtraction Statistics:\")\n",
    "    print(f\"Notes with problems: {sum(len(p) > 0 for p in result_df['problems'])}\")\n",
    "    print(f\"Notes with treatments: {sum(len(p) > 0 for p in result_df['treatments'])}\")\n",
    "    print(f\"Notes with tests: {sum(len(p) > 0 for p in result_df['tests'])}\")\n",
    "\n",
    "    return result_df\n",
    "\n",
    "\n",
    "if __name__ == \"__main__\":\n",
    "    print(\"\\n=== Starting NER Processing ===\")\n",
    "    if 'NER' not in globals():\n",
    "        raise ValueError(\"The NER DataFrame is not defined!\")\n",
    "    \n",
    "    processed_df = process_dataframe(\n",
    "        df=NER,\n",
    "        text_column='input',\n",
    "        confidence_threshold=0.2\n",
    "    )\n",
    "\n",
    "    print(\"\\nResults preview:\")\n",
    "    print(processed_df[['problems', 'treatments', 'tests']].head())\n"
   ]
  },
  {
   "cell_type": "code",
   "execution_count": 13,
   "id": "acadeae2-85b6-41ea-ac30-cd55837f1744",
   "metadata": {
    "tags": []
   },
   "outputs": [
    {
     "name": "stdout",
     "output_type": "stream",
     "text": [
      "['- to - shin', 'alternating movements', 'anion gap', 'basos', 'br bi tri pat ach toes l', 'chloride', 'creat', 'ct of the head', 'double simultaneous stimulation', 'eos', 'estgfr', 'finger - to - nose', 'glucose', 'hct', 'hgb', 'joint position sense', 'light touch', 'lymphs', 'mch', 'mchc', 'mcv', 'monos', 'multiplanar t1 - and t2 - weighted imaging of the head', 'neuts', 'our', 'p resection', 'pinprick', 'plt count', 'potassium', 'prior studies', 'ptt', 'r', 'rbc', 'rdw', 'reflexes', 'resection', 'results', 'sodium', 'the', 'the ct angiogram', 'the post - contrast images', 'total co2', 'urea n', 'wbc']\n"
     ]
    }
   ],
   "source": [
    "print(processed_df['tests'].iloc[9])"
   ]
  },
  {
   "cell_type": "code",
   "execution_count": 14,
   "id": "67629779-3a7b-41e1-a1b1-3c8fe9e0f9ac",
   "metadata": {
    "tags": []
   },
   "outputs": [
    {
     "data": {
      "text/html": [
       "<div>\n",
       "<style scoped>\n",
       "    .dataframe tbody tr th:only-of-type {\n",
       "        vertical-align: middle;\n",
       "    }\n",
       "\n",
       "    .dataframe tbody tr th {\n",
       "        vertical-align: top;\n",
       "    }\n",
       "\n",
       "    .dataframe thead th {\n",
       "        text-align: right;\n",
       "    }\n",
       "</style>\n",
       "<table border=\"1\" class=\"dataframe\">\n",
       "  <thead>\n",
       "    <tr style=\"text-align: right;\">\n",
       "      <th></th>\n",
       "      <th>note_id</th>\n",
       "      <th>input</th>\n",
       "      <th>entities</th>\n",
       "      <th>problems</th>\n",
       "      <th>treatments</th>\n",
       "      <th>tests</th>\n",
       "    </tr>\n",
       "  </thead>\n",
       "  <tbody>\n",
       "    <tr>\n",
       "      <th>0</th>\n",
       "      <td>16002318-DS-17</td>\n",
       "      <td>&lt;SEX&gt; F &lt;SERVICE&gt; SURGERY &lt;ALLERGIES&gt; Iodine /...</td>\n",
       "      <td>{'PROBLEM': ['101', '7 pound weight loss', 'a ...</td>\n",
       "      <td>[101, 7 pound weight loss, a fever, a lower ab...</td>\n",
       "      <td>[abdominal exercises, albuterol sulfate, all, ...</td>\n",
       "      <td>[b12, bmi, calcium, physical exam]</td>\n",
       "    </tr>\n",
       "    <tr>\n",
       "      <th>1</th>\n",
       "      <td>15638884-DS-4</td>\n",
       "      <td>&lt;SEX&gt; M &lt;SERVICE&gt; MEDICINE &lt;ALLERGIES&gt; Augment...</td>\n",
       "      <td>{'PROBLEM': ['+', '-', '1 cm area', 'a \" cyst ...</td>\n",
       "      <td>[+, -, 1 cm area, a \" cyst \", a 2cm distal cbd...</td>\n",
       "      <td>[a bankart repair, a nicotine patch, a stent, ...</td>\n",
       "      <td>[., _, a, a ct scan, absbaso, abseos, abslymp,...</td>\n",
       "    </tr>\n",
       "    <tr>\n",
       "      <th>2</th>\n",
       "      <td>12435705-DS-14</td>\n",
       "      <td>&lt;SEX&gt; M &lt;SERVICE&gt; MEDICINE &lt;ALLERGIES&gt; ibuprof...</td>\n",
       "      <td>{'PROBLEM': ['a 0. 7 x 0. 7 x 0. 7 cm simple c...</td>\n",
       "      <td>[a 0. 7 x 0. 7 x 0. 7 cm simple cyst, a 2. 1 x...</td>\n",
       "      <td>[2, a prolonged course, ampicillin, anti -, an...</td>\n",
       "      <td>[16s rdna primer set, aa, abl, acid fast cultu...</td>\n",
       "    </tr>\n",
       "    <tr>\n",
       "      <th>3</th>\n",
       "      <td>12413577-DS-4</td>\n",
       "      <td>&lt;SEX&gt; F &lt;SERVICE&gt; OBSTETRICS/GYNECOLOGY &lt;ALLER...</td>\n",
       "      <td>{'PROBLEM': ['a third - degree uterine prolaps...</td>\n",
       "      <td>[a third - degree uterine prolapse, abnormal v...</td>\n",
       "      <td>[a stool softener, acetaminophen, admissionmis...</td>\n",
       "      <td>[hct, hgb, mch, mchc, mcv, nadr, physical exam...</td>\n",
       "    </tr>\n",
       "    <tr>\n",
       "      <th>4</th>\n",
       "      <td>17967161-DS-29</td>\n",
       "      <td>&lt;SEX&gt; M &lt;SERVICE&gt; SURGERY &lt;ALLERGIES&gt; lisinopr...</td>\n",
       "      <td>{'PROBLEM': ['101', 'abuse', 'acute pancreatit...</td>\n",
       "      <td>[101, abuse, acute pancreatitis, angina, anter...</td>\n",
       "      <td>[a, a 3 mm x 40 mm balloon percutaneous transl...</td>\n",
       "      <td>[angap, blood, blood calcium, blood ck (, bloo...</td>\n",
       "    </tr>\n",
       "  </tbody>\n",
       "</table>\n",
       "</div>"
      ],
      "text/plain": [
       "          note_id                                              input  \\\n",
       "0  16002318-DS-17  <SEX> F <SERVICE> SURGERY <ALLERGIES> Iodine /...   \n",
       "1   15638884-DS-4  <SEX> M <SERVICE> MEDICINE <ALLERGIES> Augment...   \n",
       "2  12435705-DS-14  <SEX> M <SERVICE> MEDICINE <ALLERGIES> ibuprof...   \n",
       "3   12413577-DS-4  <SEX> F <SERVICE> OBSTETRICS/GYNECOLOGY <ALLER...   \n",
       "4  17967161-DS-29  <SEX> M <SERVICE> SURGERY <ALLERGIES> lisinopr...   \n",
       "\n",
       "                                            entities  \\\n",
       "0  {'PROBLEM': ['101', '7 pound weight loss', 'a ...   \n",
       "1  {'PROBLEM': ['+', '-', '1 cm area', 'a \" cyst ...   \n",
       "2  {'PROBLEM': ['a 0. 7 x 0. 7 x 0. 7 cm simple c...   \n",
       "3  {'PROBLEM': ['a third - degree uterine prolaps...   \n",
       "4  {'PROBLEM': ['101', 'abuse', 'acute pancreatit...   \n",
       "\n",
       "                                            problems  \\\n",
       "0  [101, 7 pound weight loss, a fever, a lower ab...   \n",
       "1  [+, -, 1 cm area, a \" cyst \", a 2cm distal cbd...   \n",
       "2  [a 0. 7 x 0. 7 x 0. 7 cm simple cyst, a 2. 1 x...   \n",
       "3  [a third - degree uterine prolapse, abnormal v...   \n",
       "4  [101, abuse, acute pancreatitis, angina, anter...   \n",
       "\n",
       "                                          treatments  \\\n",
       "0  [abdominal exercises, albuterol sulfate, all, ...   \n",
       "1  [a bankart repair, a nicotine patch, a stent, ...   \n",
       "2  [2, a prolonged course, ampicillin, anti -, an...   \n",
       "3  [a stool softener, acetaminophen, admissionmis...   \n",
       "4  [a, a 3 mm x 40 mm balloon percutaneous transl...   \n",
       "\n",
       "                                               tests  \n",
       "0                 [b12, bmi, calcium, physical exam]  \n",
       "1  [., _, a, a ct scan, absbaso, abseos, abslymp,...  \n",
       "2  [16s rdna primer set, aa, abl, acid fast cultu...  \n",
       "3  [hct, hgb, mch, mchc, mcv, nadr, physical exam...  \n",
       "4  [angap, blood, blood calcium, blood ck (, bloo...  "
      ]
     },
     "execution_count": 14,
     "metadata": {},
     "output_type": "execute_result"
    }
   ],
   "source": [
    "processed_df.head(5)"
   ]
  },
  {
   "cell_type": "code",
   "execution_count": 15,
   "id": "2c5ac5f2-ed31-4f81-86ed-457cc2a24543",
   "metadata": {
    "tags": []
   },
   "outputs": [],
   "source": [
    "# Save processed_df as a CSV file\n",
    "processed_df.to_csv(\"processed_df.csv\", index=False)\n"
   ]
  },
  {
   "cell_type": "code",
   "execution_count": 11,
   "id": "5dc7eb4b-2cbc-407c-a47d-6d4b4ec33718",
   "metadata": {
    "tags": []
   },
   "outputs": [
    {
     "name": "stdout",
     "output_type": "stream",
     "text": [
      "          note_id                                              input  \\\n",
      "0  16002318-DS-17  <SEX> F <SERVICE> SURGERY <ALLERGIES> Iodine /...   \n",
      "1   15638884-DS-4  <SEX> M <SERVICE> MEDICINE <ALLERGIES> Augment...   \n",
      "2  12435705-DS-14  <SEX> M <SERVICE> MEDICINE <ALLERGIES> ibuprof...   \n",
      "3   12413577-DS-4  <SEX> F <SERVICE> OBSTETRICS/GYNECOLOGY <ALLER...   \n",
      "4  17967161-DS-29  <SEX> M <SERVICE> SURGERY <ALLERGIES> lisinopr...   \n",
      "\n",
      "                                            entities  \\\n",
      "0  {'PROBLEM': ['101', '7 pound weight loss', 'a ...   \n",
      "1  {'PROBLEM': ['+', '-', '1 cm area', 'a \" cyst ...   \n",
      "2  {'PROBLEM': ['a 0. 7 x 0. 7 x 0. 7 cm simple c...   \n",
      "3  {'PROBLEM': ['a third - degree uterine prolaps...   \n",
      "4  {'PROBLEM': ['101', 'abuse', 'acute pancreatit...   \n",
      "\n",
      "                                            problems  \\\n",
      "0  ['101', '7 pound weight loss', 'a fever', 'a l...   \n",
      "1  ['+', '-', '1 cm area', 'a \" cyst \"', 'a 2cm d...   \n",
      "2  ['a 0. 7 x 0. 7 x 0. 7 cm simple cyst', 'a 2. ...   \n",
      "3  ['a third - degree uterine prolapse', 'abnorma...   \n",
      "4  ['101', 'abuse', 'acute pancreatitis', 'angina...   \n",
      "\n",
      "                                          treatments  \\\n",
      "0  ['abdominal exercises', 'albuterol sulfate', '...   \n",
      "1  ['a bankart repair', 'a nicotine patch', 'a st...   \n",
      "2  ['2', 'a prolonged course', 'ampicillin', 'ant...   \n",
      "3  ['a stool softener', 'acetaminophen', 'admissi...   \n",
      "4  ['a', 'a 3 mm x 40 mm balloon percutaneous tra...   \n",
      "\n",
      "                                               tests  \n",
      "0         ['b12', 'bmi', 'calcium', 'physical exam']  \n",
      "1  ['.', '_', 'a', 'a ct scan', 'absbaso', 'abseo...  \n",
      "2  ['16s rdna primer set', 'aa', 'abl', 'acid fas...  \n",
      "3  ['hct', 'hgb', 'mch', 'mchc', 'mcv', 'nadr', '...  \n",
      "4  ['angap', 'blood', 'blood calcium', 'blood ck ...  \n"
     ]
    }
   ],
   "source": [
    "\n",
    "\n",
    "# Load the saved CSV file into a new DataFrame\n",
    "new_df = pd.read_csv(\"processed_df.csv\")\n",
    "\n",
    "# Display the new DataFrame to verify\n",
    "print(new_df.head())\n"
   ]
  },
  {
   "cell_type": "code",
   "execution_count": 12,
   "id": "ed0ceb6f-5158-468a-bcc5-0bf113aab228",
   "metadata": {
    "tags": []
   },
   "outputs": [
    {
     "data": {
      "text/plain": [
       "'<SEX> F <SERVICE> MEDICINE <ALLERGIES> Penicillins / Strawberry / Citrus Flavor <ATTENDING> ___. <CHIEF COMPLAINT> Shortness of breath. <MAJOR SURGICAL OR INVASIVE PROCEDURE> -Paracentesis (5L fluid removed) ___. -Thoracentesis, right side ___. <HISTORY OF PRESENT ILLNESS> This is a ___ year old female with a recent diagnosis of ovarian cancer. On a recent admission for new ascites and new effusion in the setting of omemental caking, fluid was positive for adenocarcinoma (ovarian). Cells stained positive for WT-1, cytokeratin 7 and focally for ER. She is followed by Dr. ___ who is helping to arrange initial treatment with chemotherapy prior to surgery. The patient is becoming increasingly symtpommatic (short of breath, unable to walk up stairs) from her effusion and continues to have abdominal pain from both her ascites and her renal stones. She is planning for Lithotripsy on ___. It is felt that a therapeutic thoracentesis and paracentesis prior to initiation of chemotherapy would be appropriate. <PAST MEDICAL HISTORY> PAST ONCOLOGIC HISTORY: -====== Several weeks prior to ___ patient developed shortness of breath and has had difficulty getting around. She reports abdominal distention. She is fairly fatigued. A CT scan recently performed revealed a \"huge\" amount of ascites with caking of the omentum and also bilateral pleural effusions, left greater than right. A pleural tap was performed on ___. This thoracentesis yielded 500 mL of serous fluid. The pathology from this pleural aspiration shows adenocarcinoma. Her most recent pelvic ultrasound was obtained on ___ and this revealed a stable fibroid uterus with a normal left ovary. The right ovary was not clearly identified and there was a moderate amount of ascites. Essentially, the only disease that she has at this point that is visible is the fluid and the omental cake. All told; however, this is consistent with a primary peritoneal cancer. Her CA-125 level is notably elevated at 226 and she has had a normal CEA level drawn. PAST MEDICAL HISTORY: -==== -Morbid obesity -Low back pain -Depression -OSA, severe, on nasal CPAP (setting 11) -Nephrolithiasis (calcium oxalate) -Hyperlipidemia -Mild aortic insufficiency with a history of prior use of fenfluramine -Perimenopausal mood disorder <SOCIAL HISTORY> ___ <FAMILY HISTORY> She reports her brother had skin cancer (in his ___) and a nephew of hers had testicular cancer (at age ___. She has one aunts who developed breast cancer (in her ___). Another aunt had an unknown cancer. <PHYSICAL EXAM> Vitals - T 96.3, BP 114/63, HR 80, RR 22, 02 sat 94% on 1L. Tm 98.6, 114-138/60-69, 80-88, 22, 94-95% on 1L GENERAL: NAD SKIN: warm and well perfused, no excoriations or lesions, no rashes HEENT: AT/NC, EOMI, anicteric sclera, pink conjunctiva, patent nares, MMM, good dentition, nontender supple neck. CARDIAC: regular, distant heart sounds, S1/S2, soft systolic murmur LUNG: decreased breath sounds at bases. Left side with decreased sounds to midback. No crackles. ABDOMEN: soft, distended, +BS, tender in all quadrants, with LLQ most severe per patient, no rebound/guarding M/S: moving all extremities well, no cyanosis, clubbing or edema, no obvious deformities PULSES: 2+ DP pulses bilaterally NEURO: CN II-XII intact <PERTINENT RESULTS> Labs on admission: ___ 07: 05AM BLOOD Glucose-119* UreaN-16 Creat-1.1 Na-140 K-4.5 Cl-104 HCO3-26 AnGap-15 ___ 07: 05AM BLOOD ALT-9 AST-13 LD(___)-554* AlkPhos-78 TotBili-0.5 ___ 07: 05AM BLOOD Albumin-3.4 Calcium-8.8 Phos-4.3 Mg-2.5 Iron-26* ___ 07: 05AM BLOOD calTIBC-181* Hapto-425* Ferritn-357* TRF-139* ___ 04: 45PM BLOOD CA125-171* ___ 07: 05AM BLOOD WBC-8.3 RBC-3.92* Hgb-10.4* Hct-32.2* MCV-82 MCH-26.5* MCHC-32.2 RDW-16.7* Plt ___ ___ 07: 05AM BLOOD ___ PTT-24.3 ___ Labs on discharge: ___ 07: 05AM BLOOD WBC-12.6*# RBC-3.81* Hgb-9.9* Hct-31.2* MCV-82 MCH-26.1* MCHC-31.8 RDW-16.4* Plt ___ ___ 07: 05AM BLOOD Glucose-152* UreaN-13 Creat-0.8 Na-142 K-4.8 Cl-106 HCO3-26 AnGap-15 ___ 07: 05AM BLOOD LD(LDH)-428* ___ 07: 05AM BLOOD Calcium-8.7 Phos-3.3 Mg-2.6 Peritoneal fluid ___: POSITIVE FOR MALIGNANT CELLS consistent with adenocarcinoma (see note). Note: The cytologic features are consistent with the patient\\'s prior Mullerian primary diagnosis. One hemepath slide was reviewed (778M ___ and showed similar findings. CTA chest ___: 1. No evidence of aortic dissection or pulmonary embolism. Please note the subsegmental branches are somewhat limited as described above. 2. Interval increase in now moderate-to-large bilateral pleural effusions which may account for the patient\\'s dyspnea. There is compression atelectasis of a large portion of both lower lobes. Pleural fluid ___: POSITIVE FOR MALIGNANT CELLS, consistent with adenocarcinoma. Note: The cytologic features are consistent with patient\\'s known Mullerian primary diagnosis. <MEDICATIONS ON ADMISSION> - Albuterol Sulfate 90 mcg HFA Aerosol Inhaler 2 puffs q4hrs PRN - Percocet 54/325mg ___ tab q4 PRN - Lorazepam 1 mg Tablet q4 PRN anxiety - Prochlorperazine 10 mg 1 Tab TID PRN - Tylenol prn - Senna PRN - Colace PRN <DISCHARGE MEDICATIONS> 1. Oxycodone-Acetaminophen ___ mg Tablet Sig: ___ Tablets PO Q4H (every 4 hours) as needed. 2. Docusate Sodium 100 mg Capsule Sig: One (1) Capsule PO BID (2 times a day) as needed for constipation. 3. Senna 8.6 mg Tablet Sig: One (1) Tablet PO BID (2 times a day) as needed for constipation. 4. Lorazepam 1 mg Tablet Sig: One (1) Tablet PO Q4H (every 4 hours) as needed. Disp: *90 Tablet(s)* Refills: *0* 5. Prochlorperazine Maleate 10 mg Tablet Sig: One (1) Tablet PO Q6H (every 6 hours) as needed for nausea. Disp: *40 Tablet(s)* Refills: *2* 6. Ondansetron 8 mg Tablet, Rapid Dissolve Sig: One (1) Tablet, Rapid Dissolve PO every eight (8) hours as needed for nausea. Disp: *40 Tablet, Rapid Dissolve(s)* Refills: *2* 7. Albuterol 90 mcg/Actuation Aerosol Sig: Two (2) Puff Inhalation Q4H (every 4 hours) as needed. <DISCHARGE DISPOSITION> Home With Service Facility: ___ <DISCHARGE DIAGNOSIS> -Ovarian cancer -Nephrolithiasis <DISCHARGE CONDITION> Stable, afebrile. <FOLLOWUP INSTRUCTIONS> ___ <DISCHARGE INSTRUCTIONS> You were admitted for initiation of chemotherapy. You received Carboplatin and Taxol on ___ which you tolerated well. Your Lithotripsy on ___ should not be affected. You will follow up with Dr. ___ further chemotherapy. Please call ___ tomorrow, as your previously scheduled appointment for ___ be moved since you have already received your first cycle of chemotherapy during this admission. You are being prescribed Ondansteron (Zofran) for nausea. Your remaining medications were not changed. You should also continue to take Compazine (Prochlorperazine) as needed for nausea. Please return to the hospital or call your doctor if you have temperature greater than 101, shortness of breath, worsening difficulty with swallowing, chest pain, abdominal pain, diarrhea, or any other symptoms that you are concerned about. '"
      ]
     },
     "execution_count": 12,
     "metadata": {},
     "output_type": "execute_result"
    }
   ],
   "source": [
    "new_df['input'].iloc[6]"
   ]
  },
  {
   "cell_type": "code",
   "execution_count": 14,
   "id": "10b6f63f-4b1a-4fc8-91e7-77d25f4373a7",
   "metadata": {
    "tags": []
   },
   "outputs": [
    {
     "data": {
      "text/plain": [
       "'[\\'a\\', \\'abdominal distention\\', \\'abdominal pain\\', \\'adenocarcinoma\\', \\'all\\', \\'anicteric sclera\\', \\'anxiety\\', \\'any other symptoms\\', \\'aortic dissection\\', \\'ascites\\', \\'both lower lobes\\', \\'breast cancer\\', \\'bs\\', \\'caking of the omentum\\', \\'chest pain\\', \\'clubbing\\', \\'compression atelectasis\\', \\'crackles\\', \\'cyanosis\\', \\'decreased breath sounds at bases\\', \\'decreased sounds to midback\\', \\'depression\\', \\'diarrhea\\', \\'difficulty getting around\\', \\'disease\\', \\'distended\\', \\'edema\\', \\'elevateda\\', \\'excoriations\\', \\'fibroid ut\\', \\'guarding\\', \\'her ascites\\', \\'her effusion\\', \\'huge \" amount\\', \\'hyperlipidemia\\', \\'increase\\', \\'increasingly\\', \\'interval increase\\', \\'large portion\\', \\'lesions\\', \\'llq\\', \\'low back pain\\', \\'malignant cells\\', \\'moderate - to - large bilateral pleural effusions\\', \\'morbid obesity\\', \\'murmur\\', \\'nad\\', \\'nephrolithiasis\\', \\'new ascites\\', \\'nontender\\', \\'now\\', \\'osa\\', \\'ovarian cancer\\', \\'patent nares\\', \\'perimenopausal mood disorder\\', \\'pink conjunctiva\\', \\'pleural fluid\\', \\'pulmonary embolism\\', \\'rashes\\', \\'rebound\\', \\'serous fluid\\', \\'short of breath\\', \\'shortness of breath\\', \\'skin cancer\\', \\'symtpommatic\\', \\'tender\\', \\'testicular cancer\\', \\'the fluid\\', \\'the omental cake\\', \"the patient \\' s dyspnea\", \\'this pleural aspiration\\', \\'unable to\\', \\'worsening difficulty with swallowing\\']'"
      ]
     },
     "execution_count": 14,
     "metadata": {},
     "output_type": "execute_result"
    }
   ],
   "source": [
    "new_df['problems'].iloc[6]"
   ]
  },
  {
   "cell_type": "code",
   "execution_count": null,
   "id": "68a55a61-a6b7-430b-95dd-93d7519e0077",
   "metadata": {},
   "outputs": [],
   "source": []
  }
 ],
 "metadata": {
  "kernelspec": {
   "display_name": "conda_pytorch_p310",
   "language": "python",
   "name": "conda_pytorch_p310"
  },
  "language_info": {
   "codemirror_mode": {
    "name": "ipython",
    "version": 3
   },
   "file_extension": ".py",
   "mimetype": "text/x-python",
   "name": "python",
   "nbconvert_exporter": "python",
   "pygments_lexer": "ipython3",
   "version": "3.10.14"
  }
 },
 "nbformat": 4,
 "nbformat_minor": 5
}

{
 "cells": [
  {
   "cell_type": "code",
   "execution_count": 1,
   "id": "79da711b-01d2-4be5-807b-4d9192ac0d1e",
   "metadata": {
    "tags": []
   },
   "outputs": [],
   "source": [
    "!pip install -q nltk bert-score\n",
    "!pip install -q rouge-metric"
   ]
  },
  {
   "cell_type": "code",
   "execution_count": 3,
   "id": "53d0fe66-8fc6-4ba6-95fa-756169b5e3a9",
   "metadata": {
    "tags": []
   },
   "outputs": [
    {
     "name": "stdout",
     "output_type": "stream",
     "text": [
      "                                               input  \\\n",
      "0  Good afternoon, champ, how you holding up? Goo...   \n",
      "1  What brings you in here today? Hi, I'm um, I'm...   \n",
      "2  Do you have any known allergies to medications...   \n",
      "3  How may I help you today? Yeah I've had, a fev...   \n",
      "4  It sounds like that you're experiencing some c...   \n",
      "\n",
      "                                              output  \\\n",
      "0  Subjective:\\n- Symptoms: Lower back pain, radi...   \n",
      "1  Subjective:\\n- Presenting with dry cough for 1...   \n",
      "2  Subjective:\\n- No known allergies to medicatio...   \n",
      "3  Subjective:\\n- Fever and dry cough started 4 d...   \n",
      "4  Subjective:\\n- Presenting with chest pain for ...   \n",
      "\n",
      "                                     id  \\\n",
      "0  39a26c55-f710-4272-8609-2a725ef6d068   \n",
      "1  b1448089-3c41-423a-9737-0ed25e0e99c8   \n",
      "2  78cf9b57-3a1f-41df-ba55-af3bbe843228   \n",
      "3  44be7957-be23-4cc9-a5e2-cb7139dc2079   \n",
      "4  3324cd95-1729-4b0b-8916-dba010ac811e   \n",
      "\n",
      "                                            entities  \\\n",
      "0  {'PROBLEM': ['radiculopathy', 'the pain', 'wea...   \n",
      "1  {'PROBLEM': ['known sick contacts', 'flu - lik...   \n",
      "2  {'PROBLEM': ['known allergies'], 'TREATMENT': ...   \n",
      "3  {'PROBLEM': ['hee', 'sp', 'blood', 'symptoms',...   \n",
      "4  {'PROBLEM': ['significant stress', 'chronic co...   \n",
      "\n",
      "                                            problems  \\\n",
      "0  ['radiculopathy', 'the pain', 'weakness in the...   \n",
      "1  ['known sick contacts', 'flu - like illness', ...   \n",
      "2                                ['known allergies']   \n",
      "3  ['hee', 'sp', 'blood', 'symptoms', 'w', 'um', ...   \n",
      "4  ['significant stress', 'chronic conditions', '...   \n",
      "\n",
      "                                          treatments  \\\n",
      "0  ['anti - inflammatory medications', 'treatment...   \n",
      "1  ['appendect', 'omy', 'infection control measur...   \n",
      "2                                    ['medications']   \n",
      "3                                   ['multivitamin']   \n",
      "4      ['advil', 'tu', 'ms', 'tylenol', 'treatment']   \n",
      "\n",
      "                                               tests  \\\n",
      "0  ['differential diagnoses', 'x - rays of the lo...   \n",
      "1                 ['sw', 'covid', 'swab', 'testing']   \n",
      "2                                                 []   \n",
      "3                   ['covid', 'swab', 'temperature']   \n",
      "4  ['physical examination', 's signs', 'vital', '...   \n",
      "\n",
      "                                        reduced_text  \\\n",
      "0  <|begin_of_text|>Good afternoon, champ, how yo...   \n",
      "1  <|begin_of_text|>What brings you in here today...   \n",
      "2  <|begin_of_text|>Do you have any known allergi...   \n",
      "3  <|begin_of_text|>How may I help you today? Yea...   \n",
      "4  <|begin_of_text|>It sounds like that you're ex...   \n",
      "\n",
      "                                   generated_summary  \n",
      "0  You are a WORLD-CLASS EXPERT AT WRITING CLINIC...  \n",
      "1  You are a WORLD-CLASS EXPERT AT WRITING CLINIC...  \n",
      "2  You are a WORLD-CLASS EXPERT AT WRITING CLINIC...  \n",
      "3  You are a WORLD-CLASS EXPERT AT WRITING CLINIC...  \n",
      "4  You are a WORLD-CLASS EXPERT AT WRITING CLINIC...  \n"
     ]
    }
   ],
   "source": [
    "import pandas as pd\n",
    "\n",
    "# Load the saved CSV file\n",
    "generated_summaries_soap_complete = pd.read_csv(\"summarized_output.csv\")\n",
    "\n",
    "# Verify the data\n",
    "print(generated_summaries_soap_complete.head())"
   ]
  },
  {
   "cell_type": "code",
   "execution_count": 4,
   "id": "07d3b91b-d263-4ec7-9977-aceb1050df62",
   "metadata": {},
   "outputs": [
    {
     "name": "stdout",
     "output_type": "stream",
     "text": [
      "                                               input  \\\n",
      "0  Good afternoon, champ, how you holding up? Goo...   \n",
      "1  What brings you in here today? Hi, I'm um, I'm...   \n",
      "2  Do you have any known allergies to medications...   \n",
      "3  How may I help you today? Yeah I've had, a fev...   \n",
      "4  It sounds like that you're experiencing some c...   \n",
      "\n",
      "                                              output  \\\n",
      "0  Subjective:\\n- Symptoms: Lower back pain, radi...   \n",
      "1  Subjective:\\n- Presenting with dry cough for 1...   \n",
      "2  Subjective:\\n- No known allergies to medicatio...   \n",
      "3  Subjective:\\n- Fever and dry cough started 4 d...   \n",
      "4  Subjective:\\n- Presenting with chest pain for ...   \n",
      "\n",
      "                                     id  \\\n",
      "0  39a26c55-f710-4272-8609-2a725ef6d068   \n",
      "1  b1448089-3c41-423a-9737-0ed25e0e99c8   \n",
      "2  78cf9b57-3a1f-41df-ba55-af3bbe843228   \n",
      "3  44be7957-be23-4cc9-a5e2-cb7139dc2079   \n",
      "4  3324cd95-1729-4b0b-8916-dba010ac811e   \n",
      "\n",
      "                                            entities  \\\n",
      "0  {'PROBLEM': ['radiculopathy', 'the pain', 'wea...   \n",
      "1  {'PROBLEM': ['known sick contacts', 'flu - lik...   \n",
      "2  {'PROBLEM': ['known allergies'], 'TREATMENT': ...   \n",
      "3  {'PROBLEM': ['hee', 'sp', 'blood', 'symptoms',...   \n",
      "4  {'PROBLEM': ['significant stress', 'chronic co...   \n",
      "\n",
      "                                            problems  \\\n",
      "0  ['radiculopathy', 'the pain', 'weakness in the...   \n",
      "1  ['known sick contacts', 'flu - like illness', ...   \n",
      "2                                ['known allergies']   \n",
      "3  ['hee', 'sp', 'blood', 'symptoms', 'w', 'um', ...   \n",
      "4  ['significant stress', 'chronic conditions', '...   \n",
      "\n",
      "                                          treatments  \\\n",
      "0  ['anti - inflammatory medications', 'treatment...   \n",
      "1  ['appendect', 'omy', 'infection control measur...   \n",
      "2                                    ['medications']   \n",
      "3                                   ['multivitamin']   \n",
      "4      ['advil', 'tu', 'ms', 'tylenol', 'treatment']   \n",
      "\n",
      "                                               tests  \\\n",
      "0  ['differential diagnoses', 'x - rays of the lo...   \n",
      "1                 ['sw', 'covid', 'swab', 'testing']   \n",
      "2                                                 []   \n",
      "3                   ['covid', 'swab', 'temperature']   \n",
      "4  ['physical examination', 's signs', 'vital', '...   \n",
      "\n",
      "                                        reduced_text  \\\n",
      "0  <|begin_of_text|>Good afternoon, champ, how yo...   \n",
      "1  <|begin_of_text|>What brings you in here today...   \n",
      "2  <|begin_of_text|>Do you have any known allergi...   \n",
      "3  <|begin_of_text|>How may I help you today? Yea...   \n",
      "4  <|begin_of_text|>It sounds like that you're ex...   \n",
      "\n",
      "                                   generated_summary  \n",
      "0  You are a WORLD-CLASS EXPERT AT WRITING CLINIC...  \n",
      "1  You are a WORLD-CLASS EXPERT AT WRITING CLINIC...  \n",
      "2  You are a WORLD-CLASS EXPERT AT WRITING CLINIC...  \n",
      "3  You are a WORLD-CLASS EXPERT AT WRITING CLINIC...  \n",
      "4  You are a WORLD-CLASS EXPERT AT WRITING CLINIC...  \n",
      "Computing BLEU and ROUGE-L scores...\n"
     ]
    },
    {
     "name": "stderr",
     "output_type": "stream",
     "text": [
      "Processing Rows: 100%|██████████| 100/100 [00:03<00:00, 25.29row/s]\n"
     ]
    },
    {
     "name": "stdout",
     "output_type": "stream",
     "text": [
      "\n",
      "Computing BERTScore...\n"
     ]
    },
    {
     "data": {
      "application/vnd.jupyter.widget-view+json": {
       "model_id": "dfa928e3d0dd44fe92f87cd9dd4736b9",
       "version_major": 2,
       "version_minor": 0
      },
      "text/plain": [
       "tokenizer_config.json:   0%|          | 0.00/25.0 [00:00<?, ?B/s]"
      ]
     },
     "metadata": {},
     "output_type": "display_data"
    },
    {
     "data": {
      "application/vnd.jupyter.widget-view+json": {
       "model_id": "90b2ccc65b69471e93956c649df4d050",
       "version_major": 2,
       "version_minor": 0
      },
      "text/plain": [
       "config.json:   0%|          | 0.00/482 [00:00<?, ?B/s]"
      ]
     },
     "metadata": {},
     "output_type": "display_data"
    },
    {
     "data": {
      "application/vnd.jupyter.widget-view+json": {
       "model_id": "2cdde361c19842b68a65454f312b6167",
       "version_major": 2,
       "version_minor": 0
      },
      "text/plain": [
       "vocab.json:   0%|          | 0.00/899k [00:00<?, ?B/s]"
      ]
     },
     "metadata": {},
     "output_type": "display_data"
    },
    {
     "data": {
      "application/vnd.jupyter.widget-view+json": {
       "model_id": "48aee0af5c1142e6978ab1e497d918ae",
       "version_major": 2,
       "version_minor": 0
      },
      "text/plain": [
       "merges.txt:   0%|          | 0.00/456k [00:00<?, ?B/s]"
      ]
     },
     "metadata": {},
     "output_type": "display_data"
    },
    {
     "data": {
      "application/vnd.jupyter.widget-view+json": {
       "model_id": "a411aedb28fe4852821bb6e3933e443b",
       "version_major": 2,
       "version_minor": 0
      },
      "text/plain": [
       "tokenizer.json:   0%|          | 0.00/1.36M [00:00<?, ?B/s]"
      ]
     },
     "metadata": {},
     "output_type": "display_data"
    },
    {
     "name": "stderr",
     "output_type": "stream",
     "text": [
      "Xet Storage is enabled for this repo, but the 'hf_xet' package is not installed. Falling back to regular HTTP download. For better performance, install the package with: `pip install huggingface_hub[hf_xet]` or `pip install hf_xet`\n"
     ]
    },
    {
     "data": {
      "application/vnd.jupyter.widget-view+json": {
       "model_id": "3a6153f4fa4c450da51bb77f30733e88",
       "version_major": 2,
       "version_minor": 0
      },
      "text/plain": [
       "model.safetensors:   0%|          | 0.00/1.42G [00:00<?, ?B/s]"
      ]
     },
     "metadata": {},
     "output_type": "display_data"
    },
    {
     "name": "stderr",
     "output_type": "stream",
     "text": [
      "Some weights of RobertaModel were not initialized from the model checkpoint at roberta-large and are newly initialized: ['pooler.dense.bias', 'pooler.dense.weight']\n",
      "You should probably TRAIN this model on a down-stream task to be able to use it for predictions and inference.\n",
      "Some weights of RobertaModel were not initialized from the model checkpoint at roberta-large and are newly initialized: ['pooler.dense.bias', 'pooler.dense.weight']\n",
      "You should probably TRAIN this model on a down-stream task to be able to use it for predictions and inference.\n",
      "Some weights of RobertaModel were not initialized from the model checkpoint at roberta-large and are newly initialized: ['pooler.dense.bias', 'pooler.dense.weight']\n",
      "You should probably TRAIN this model on a down-stream task to be able to use it for predictions and inference.\n",
      "Some weights of RobertaModel were not initialized from the model checkpoint at roberta-large and are newly initialized: ['pooler.dense.bias', 'pooler.dense.weight']\n",
      "You should probably TRAIN this model on a down-stream task to be able to use it for predictions and inference.\n"
     ]
    },
    {
     "name": "stdout",
     "output_type": "stream",
     "text": [
      "\n",
      "Evaluation Metrics (in percentages):\n",
      "Average BLEU-1: 11.545791495966942 %\n",
      "Average BLEU-2: 6.085986052986498 %\n",
      "Average ROUGE-L: 10.698332475527389 %\n",
      "Average BERT P: 80.50110596418381 %\n",
      "Average BERT R: 84.0757542848587 %\n",
      "Average BERT F1: 82.24017286300659 %\n",
      "\n",
      "Standard Deviations (in percentages):\n",
      "BLEU-1 Std: 5.491333362619107 %\n",
      "BLEU-2 Std: 4.177290634566192 %\n",
      "ROUGE-L Std: 4.468480836822641 %\n",
      "BERT P Std: 1.6490731969112913 %\n",
      "BERT R Std: 2.9839974015914583 %\n",
      "BERT F1 Std: 2.21179424193905 %\n",
      "\n",
      "Results saved to 'soap_evaluation_results.csv'\n"
     ]
    }
   ],
   "source": [
    "import pandas as pd\n",
    "import time\n",
    "from tqdm import tqdm\n",
    "from nltk.translate.bleu_score import sentence_bleu, SmoothingFunction\n",
    "from bert_score import score\n",
    "from rouge_metric import PyRouge\n",
    "import numpy as np\n",
    "\n",
    "# -----------------------------------------------------\n",
    "# 1. Text Cleaning\n",
    "# -----------------------------------------------------\n",
    "def clean_text(text):\n",
    "    \"\"\"Clean and normalize text.\"\"\"\n",
    "    if pd.isna(text) or not isinstance(text, str):\n",
    "        return \"\"\n",
    "    return ' '.join(text.strip().lower().split())\n",
    "\n",
    "# -----------------------------------------------------\n",
    "# 2. BLEU Computation\n",
    "# -----------------------------------------------------\n",
    "def compute_bleu_scores(reference, candidate):\n",
    "    smoothing_function = SmoothingFunction().method1\n",
    "    bleu1 = sentence_bleu([reference.split()], candidate.split(), weights=(1.0, 0, 0, 0), smoothing_function=smoothing_function)\n",
    "    bleu2 = sentence_bleu([reference.split()], candidate.split(), weights=(0.5, 0.5, 0, 0), smoothing_function=smoothing_function)\n",
    "    return bleu1 * 100, bleu2 * 100\n",
    "\n",
    "# -----------------------------------------------------\n",
    "# 3. ROUGE-L Computation\n",
    "# -----------------------------------------------------\n",
    "def compute_rouge_l(reference, candidate):\n",
    "    rouge = PyRouge(rouge_n=(1, 2), rouge_l=True, skip_gap=4)\n",
    "    scores = rouge.evaluate([candidate], [[reference]])\n",
    "    return scores['rouge-l']['f'] * 100\n",
    "\n",
    "# -----------------------------------------------------\n",
    "# 4. BERTScore in Batches\n",
    "# -----------------------------------------------------\n",
    "def compute_bert_score_batched(references, candidates, batch_size=32):\n",
    "    all_P, all_R, all_F1 = [], [], []\n",
    "    for i in range(0, len(references), batch_size):\n",
    "        batch_refs = references[i:i + batch_size]\n",
    "        batch_cands = candidates[i:i + batch_size]\n",
    "        P, R, F1 = score(batch_cands, batch_refs, lang=\"en\", verbose=False)\n",
    "        all_P.extend([p * 100 for p in P.tolist()])\n",
    "        all_R.extend([r * 100 for r in R.tolist()])\n",
    "        all_F1.extend([f * 100 for f in F1.tolist()])\n",
    "    return all_P, all_R, all_F1\n",
    "\n",
    "# -----------------------------------------------------\n",
    "# 5. Main Evaluation Function\n",
    "# -----------------------------------------------------\n",
    "def evaluate_summaries(df):\n",
    "    bleu1_scores, bleu2_scores, rouge_l_scores = [], [], []\n",
    "    print(\"Computing BLEU and ROUGE-L scores...\")\n",
    "\n",
    "    with tqdm(total=len(df), desc=\"Processing Rows\", unit=\"row\") as pbar:\n",
    "        for _, row in df.iterrows():\n",
    "            reference = clean_text(row['output'])\n",
    "            candidate = clean_text(row['generated_summary'])\n",
    "\n",
    "            if not reference or not candidate:\n",
    "                print(f\"Empty text - Reference: '{reference}', Candidate: '{candidate}'\")\n",
    "                bleu1_scores.append(0.0)\n",
    "                bleu2_scores.append(0.0)\n",
    "                rouge_l_scores.append(0.0)\n",
    "            else:\n",
    "                bleu1, bleu2 = compute_bleu_scores(reference, candidate)\n",
    "                bleu1_scores.append(bleu1)\n",
    "                bleu2_scores.append(bleu2)\n",
    "                rouge_l_scores.append(compute_rouge_l(reference, candidate))\n",
    "\n",
    "            pbar.update(1)\n",
    "\n",
    "    print(\"\\nComputing BERTScore...\")\n",
    "    references = [clean_text(text) for text in df['output'].tolist()]\n",
    "    candidates = [clean_text(text) for text in df['generated_summary'].tolist()]\n",
    "\n",
    "    bert_p, bert_r, bert_f1 = compute_bert_score_batched(references, candidates)\n",
    "\n",
    "    df['bleu1'] = bleu1_scores\n",
    "    df['bleu2'] = bleu2_scores\n",
    "    df['rouge_l'] = rouge_l_scores\n",
    "    df['bert_p'] = bert_p\n",
    "    df['bert_r'] = bert_r\n",
    "    df['bert_f1'] = bert_f1\n",
    "\n",
    "    print(\"\\nEvaluation Metrics (in percentages):\")\n",
    "    print(\"Average BLEU-1:\", np.mean(bleu1_scores), \"%\")\n",
    "    print(\"Average BLEU-2:\", np.mean(bleu2_scores), \"%\")\n",
    "    print(\"Average ROUGE-L:\", np.mean(rouge_l_scores), \"%\")\n",
    "    print(\"Average BERT P:\", np.mean(bert_p), \"%\")\n",
    "    print(\"Average BERT R:\", np.mean(bert_r), \"%\")\n",
    "    print(\"Average BERT F1:\", np.mean(bert_f1), \"%\")\n",
    "\n",
    "    print(\"\\nStandard Deviations (in percentages):\")\n",
    "    print(\"BLEU-1 Std:\", np.std(bleu1_scores), \"%\")\n",
    "    print(\"BLEU-2 Std:\", np.std(bleu2_scores), \"%\")\n",
    "    print(\"ROUGE-L Std:\", np.std(rouge_l_scores), \"%\")\n",
    "    print(\"BERT P Std:\", np.std(bert_p), \"%\")\n",
    "    print(\"BERT R Std:\", np.std(bert_r), \"%\")\n",
    "    print(\"BERT F1 Std:\", np.std(bert_f1), \"%\")\n",
    "\n",
    "    return df\n",
    "\n",
    "# -----------------------------------------------------\n",
    "# 6. Load CSV & Evaluate\n",
    "# -----------------------------------------------------\n",
    "if __name__ == \"__main__\":\n",
    "    # Load the CSV with 'output' and 'generated_summary'\n",
    "    df_summaries = pd.read_csv(\"summarized_output.csv\")\n",
    "    print(df_summaries.head())\n",
    "\n",
    "    # Evaluate\n",
    "    results_df = evaluate_summaries(df_summaries)\n",
    "\n",
    "    # Save the DataFrame with the metrics\n",
    "    results_df.to_csv(\"soap_evaluation_results.csv\", index=False)\n",
    "    print(\"\\nResults saved to 'soap_evaluation_results.csv'\")\n"
   ]
  },
  {
   "cell_type": "code",
   "execution_count": null,
   "id": "364c2f15-8c5c-48fd-b942-311c1a61334b",
   "metadata": {},
   "outputs": [],
   "source": []
  }
 ],
 "metadata": {
  "kernelspec": {
   "display_name": "conda_pytorch_p310",
   "language": "python",
   "name": "conda_pytorch_p310"
  },
  "language_info": {
   "codemirror_mode": {
    "name": "ipython",
    "version": 3
   },
   "file_extension": ".py",
   "mimetype": "text/x-python",
   "name": "python",
   "nbconvert_exporter": "python",
   "pygments_lexer": "ipython3",
   "version": "3.10.14"
  }
 },
 "nbformat": 4,
 "nbformat_minor": 5
}

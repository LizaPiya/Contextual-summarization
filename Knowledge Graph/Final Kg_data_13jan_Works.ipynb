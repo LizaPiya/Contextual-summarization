{
 "cells": [
  {
   "cell_type": "code",
   "execution_count": 2,
   "id": "ff767017-eb6c-45bf-8f93-d3c361bee59f",
   "metadata": {
    "tags": []
   },
   "outputs": [
    {
     "data": {
      "text/html": [
       "<div>\n",
       "<style scoped>\n",
       "    .dataframe tbody tr th:only-of-type {\n",
       "        vertical-align: middle;\n",
       "    }\n",
       "\n",
       "    .dataframe tbody tr th {\n",
       "        vertical-align: top;\n",
       "    }\n",
       "\n",
       "    .dataframe thead th {\n",
       "        text-align: right;\n",
       "    }\n",
       "</style>\n",
       "<table border=\"1\" class=\"dataframe\">\n",
       "  <thead>\n",
       "    <tr style=\"text-align: right;\">\n",
       "      <th></th>\n",
       "      <th>subject_id</th>\n",
       "      <th>icd_code_procedures</th>\n",
       "      <th>long_title_procedures</th>\n",
       "      <th>icd_code_diagnosis</th>\n",
       "      <th>long_title_diagnosis</th>\n",
       "      <th>drug</th>\n",
       "      <th>prod_strength</th>\n",
       "    </tr>\n",
       "  </thead>\n",
       "  <tbody>\n",
       "    <tr>\n",
       "      <th>0</th>\n",
       "      <td>10000032</td>\n",
       "      <td>['5491']</td>\n",
       "      <td>['Percutaneous abdominal drainage']</td>\n",
       "      <td>['2761', 'V08', '2875', '3051', '5715', '496',...</td>\n",
       "      <td>['Hyposmolality and/or hyponatremia', 'Asympto...</td>\n",
       "      <td>Tiotropium Bromide, Albuterol 0.083% Neb Soln,...</td>\n",
       "      <td>18mcg Capsule-Inhalation Device, 0.083%;3mL Vi...</td>\n",
       "    </tr>\n",
       "    <tr>\n",
       "      <th>1</th>\n",
       "      <td>10001217</td>\n",
       "      <td>['0331', '0139', '3897']</td>\n",
       "      <td>['Spinal tap', 'Other incision of brain', 'Cen...</td>\n",
       "      <td>['V168', 'V161', '04109', '3485', '4019', '348...</td>\n",
       "      <td>['Family history of other specified malignant ...</td>\n",
       "      <td>Vial, Bag, OxycoDONE (Immediate Release) , *NF...</td>\n",
       "      <td>Send Vial, 50 mL Bag, 5mg Tablet, 1g Vial, 500...</td>\n",
       "    </tr>\n",
       "    <tr>\n",
       "      <th>2</th>\n",
       "      <td>10001725</td>\n",
       "      <td>['7094', '7055', '8696']</td>\n",
       "      <td>['Insertion of biological graft', 'Repair of r...</td>\n",
       "      <td>['49390', '7291', '6185', '56400', '5641', 'E9...</td>\n",
       "      <td>['Asthma, unspecified type, unspecified', 'Mya...</td>\n",
       "      <td>Zolpidem Tartrate, Bag, Lorazepam, Ondansetron...</td>\n",
       "      <td>5mg Tablet, 50 mL Bag, 1mg Tablet, 0.5mg Table...</td>\n",
       "    </tr>\n",
       "    <tr>\n",
       "      <th>3</th>\n",
       "      <td>10002428</td>\n",
       "      <td>['9390', '0DJD8ZZ', '7915', '9672', '9604', '3...</td>\n",
       "      <td>['Non-invasive mechanical ventilation', 'Inspe...</td>\n",
       "      <td>['4019', '29281', '4240', '00845', '1122', '71...</td>\n",
       "      <td>['Unspecified essential hypertension', 'Drug-i...</td>\n",
       "      <td>Insulin, Multivitamins, Neutra-Phos, Oxycodone...</td>\n",
       "      <td>Dummy Package for Sliding Scale, 1 Tablet, Pow...</td>\n",
       "    </tr>\n",
       "    <tr>\n",
       "      <th>4</th>\n",
       "      <td>10002495</td>\n",
       "      <td>['4A023N7', '027034Z', '5A02210', '4A023N6', '...</td>\n",
       "      <td>['Measurement of Cardiac Sampling and Pressure...</td>\n",
       "      <td>['R310', 'N179', 'Z7901', 'Z86718', 'I214', 'A...</td>\n",
       "      <td>['Gross hematuria', 'Acute kidney failure, uns...</td>\n",
       "      <td>Insulin, Bag, Lidocaine Jelly 2% (Urojet), Ato...</td>\n",
       "      <td>100 Units / mL - 10 mL Vial, 50 mL Bag, 5mL Ur...</td>\n",
       "    </tr>\n",
       "  </tbody>\n",
       "</table>\n",
       "</div>"
      ],
      "text/plain": [
       "   subject_id                                icd_code_procedures  \\\n",
       "0    10000032                                           ['5491']   \n",
       "1    10001217                           ['0331', '0139', '3897']   \n",
       "2    10001725                           ['7094', '7055', '8696']   \n",
       "3    10002428  ['9390', '0DJD8ZZ', '7915', '9672', '9604', '3...   \n",
       "4    10002495  ['4A023N7', '027034Z', '5A02210', '4A023N6', '...   \n",
       "\n",
       "                               long_title_procedures  \\\n",
       "0                ['Percutaneous abdominal drainage']   \n",
       "1  ['Spinal tap', 'Other incision of brain', 'Cen...   \n",
       "2  ['Insertion of biological graft', 'Repair of r...   \n",
       "3  ['Non-invasive mechanical ventilation', 'Inspe...   \n",
       "4  ['Measurement of Cardiac Sampling and Pressure...   \n",
       "\n",
       "                                  icd_code_diagnosis  \\\n",
       "0  ['2761', 'V08', '2875', '3051', '5715', '496',...   \n",
       "1  ['V168', 'V161', '04109', '3485', '4019', '348...   \n",
       "2  ['49390', '7291', '6185', '56400', '5641', 'E9...   \n",
       "3  ['4019', '29281', '4240', '00845', '1122', '71...   \n",
       "4  ['R310', 'N179', 'Z7901', 'Z86718', 'I214', 'A...   \n",
       "\n",
       "                                long_title_diagnosis  \\\n",
       "0  ['Hyposmolality and/or hyponatremia', 'Asympto...   \n",
       "1  ['Family history of other specified malignant ...   \n",
       "2  ['Asthma, unspecified type, unspecified', 'Mya...   \n",
       "3  ['Unspecified essential hypertension', 'Drug-i...   \n",
       "4  ['Gross hematuria', 'Acute kidney failure, uns...   \n",
       "\n",
       "                                                drug  \\\n",
       "0  Tiotropium Bromide, Albuterol 0.083% Neb Soln,...   \n",
       "1  Vial, Bag, OxycoDONE (Immediate Release) , *NF...   \n",
       "2  Zolpidem Tartrate, Bag, Lorazepam, Ondansetron...   \n",
       "3  Insulin, Multivitamins, Neutra-Phos, Oxycodone...   \n",
       "4  Insulin, Bag, Lidocaine Jelly 2% (Urojet), Ato...   \n",
       "\n",
       "                                       prod_strength  \n",
       "0  18mcg Capsule-Inhalation Device, 0.083%;3mL Vi...  \n",
       "1  Send Vial, 50 mL Bag, 5mg Tablet, 1g Vial, 500...  \n",
       "2  5mg Tablet, 50 mL Bag, 1mg Tablet, 0.5mg Table...  \n",
       "3  Dummy Package for Sliding Scale, 1 Tablet, Pow...  \n",
       "4  100 Units / mL - 10 mL Vial, 50 mL Bag, 5mL Ur...  "
      ]
     },
     "execution_count": 2,
     "metadata": {},
     "output_type": "execute_result"
    }
   ],
   "source": [
    "import pandas as pd\n",
    "\n",
    "# Define the bucket and file names\n",
    "bucket_name = 'mimicivliza'  # Replace with your bucket name\n",
    "KG_Data = f's3://{bucket_name}/grouped_combined_df.csv'\n",
    "\n",
    "# Load the files\n",
    "KG_Data = pd.read_csv(KG_Data)\n",
    "\n",
    "# Display the data\n",
    "KG_Data.head(5)"
   ]
  },
  {
   "cell_type": "code",
   "execution_count": 5,
   "id": "b0aee563-d32e-4b58-b6ff-368febacb87f",
   "metadata": {
    "tags": []
   },
   "outputs": [
    {
     "name": "stdout",
     "output_type": "stream",
     "text": [
      "['Other radiotherapeutic procedure', 'Colonoscopy', 'Biopsy of anus', 'Insertion of Endotracheal Airway into Trachea, Via Natural or Artificial Opening', 'Fluoroscopy of Left Kidney, Ureter and Bladder using Other Contrast', 'Respiratory Ventilation, 24-96 Consecutive Hours', 'Ultrasonography of Superior Vena Cava, Guidance', 'Drainage of Right Pleural Cavity with Drainage Device, Percutaneous Approach', 'Insertion of Infusion Device into Superior Vena Cava, Percutaneous Approach', 'Removal of Intraluminal Device from Ureter, Via Natural or Artificial Opening Endoscopic', 'Fluoroscopy of Right Kidney, Ureter and Bladder using Other Contrast', 'Dilation of Right Ureter with Intraluminal Device, Via Natural or Artificial Opening Endoscopic', 'Introduction of Nutritional Substance into Upper GI, Via Natural or Artificial Opening', 'Inspection of Bladder, Via Natural or Artificial Opening Endoscopic', 'Attachment of pedicle or flap graft to other sites', 'Other lysis of peritoneal adhesions', 'Nonexcisional debridement of wound, infection or burn', 'Continuous invasive mechanical ventilation for less than 96 consecutive hours', 'Enteral infusion of concentrated nutritional substances', 'Application or administration of an adhesion barrier substance', 'Central venous catheter placement with guidance', 'Other partial resection of small intestine', 'Open abdominoperineal resection of the rectum', 'Other and open repair of other hernia of anterior abdominal wall with graft or prosthesis']\n"
     ]
    }
   ],
   "source": [
    "print(KG_Data['long_title_procedures'].iloc[6])"
   ]
  },
  {
   "cell_type": "code",
   "execution_count": 17,
   "id": "7402791f-086e-41b9-ad5a-d9d685a32584",
   "metadata": {
    "tags": []
   },
   "outputs": [
    {
     "name": "stdout",
     "output_type": "stream",
     "text": [
      "<class 'list'>\n"
     ]
    }
   ],
   "source": [
    "print(type(KG_Data['long_title_procedures'].iloc[6]))\n"
   ]
  },
  {
   "cell_type": "code",
   "execution_count": 19,
   "id": "2499add2-0138-4845-a4f8-45b14c047375",
   "metadata": {
    "tags": []
   },
   "outputs": [
    {
     "name": "stdout",
     "output_type": "stream",
     "text": [
      "long_title_diagnosis\n",
      "<class 'list'>    92\n",
      "Name: count, dtype: int64\n"
     ]
    }
   ],
   "source": [
    "print(KG_Data['long_title_diagnosis'].apply(type).value_counts())\n"
   ]
  },
  {
   "cell_type": "markdown",
   "id": "dce0a5cc-2637-4124-a88b-9708c52e6c16",
   "metadata": {},
   "source": [
    "### Importing Necessary Libraries"
   ]
  },
  {
   "cell_type": "code",
   "execution_count": 8,
   "id": "bab30594-fb83-44f9-bfcf-e667882ee249",
   "metadata": {
    "tags": []
   },
   "outputs": [],
   "source": [
    "!pip install --upgrade --quiet langchain neo4j langchain"
   ]
  },
  {
   "cell_type": "code",
   "execution_count": 10,
   "id": "b98e96db-df21-46c5-bdfd-04e9ff88f2d1",
   "metadata": {
    "tags": []
   },
   "outputs": [],
   "source": [
    "!pip install --quiet langchain-community"
   ]
  },
  {
   "cell_type": "markdown",
   "id": "9431062f-e234-4ceb-a82e-2751d5dff969",
   "metadata": {},
   "source": [
    "### Neo4j Credentials"
   ]
  },
  {
   "cell_type": "code",
   "execution_count": 30,
   "id": "dbdf46c1-5bd0-4a02-8b3d-3b2a1b807004",
   "metadata": {
    "tags": []
   },
   "outputs": [],
   "source": [
    "## Graphdb configuration\n",
    "NEO4J_URI=\"\"\n",
    "NEO4J_USERNAME=\"\"\n",
    "NEO4J_PASSWORD=\"\"\n",
    "\n",
    "import os\n",
    "os.environ[\"NEO4J_URI\"]=NEO4J_URI\n",
    "os.environ[\"NEO4J_USERNAME\"]=NEO4J_USERNAME\n",
    "os.environ[\"NEO4J_PASSWORD\"]=NEO4J_PASSWORD\n",
    "\n",
    "from langchain_community.graphs import Neo4jGraph\n",
    "neo4j_graph=Neo4jGraph(\n",
    "    url=NEO4J_URI,\n",
    "    username=NEO4J_USERNAME,\n",
    "    password=NEO4J_PASSWORD,\n",
    ")"
   ]
  },
  {
   "cell_type": "code",
   "execution_count": 12,
   "id": "f5fba2d3-1be9-462c-8000-01d94b61aea5",
   "metadata": {
    "tags": []
   },
   "outputs": [
    {
     "data": {
      "text/plain": [
       "([{'node_count': 68}], [{'relationship_count': 0}])"
      ]
     },
     "execution_count": 12,
     "metadata": {},
     "output_type": "execute_result"
    }
   ],
   "source": [
    "# Cypher query to count nodes and relationships\n",
    "check_nodes_query = \"MATCH (n) RETURN count(n) AS node_count\"\n",
    "check_relationships_query = \"MATCH ()-[r]->() RETURN count(r) AS relationship_count\"\n",
    "\n",
    "# Execute the queries\n",
    "node_count = neo4j_graph.query(check_nodes_query)\n",
    "relationship_count = neo4j_graph.query(check_relationships_query)\n",
    "\n",
    "node_count, relationship_count"
   ]
  },
  {
   "cell_type": "code",
   "execution_count": 36,
   "id": "0218e347-08d9-462a-9b50-d27e923cfbaa",
   "metadata": {
    "tags": []
   },
   "outputs": [
    {
     "name": "stdout",
     "output_type": "stream",
     "text": [
      "Test successful! Created patient node.\n",
      "Patient ID: 10000032\n",
      "Successfully created complete record with all relationships!\n"
     ]
    }
   ],
   "source": [
    "from langchain_community.graphs import Neo4jGraph\n",
    "\n",
    "# Neo4j connection setup\n",
    "NEO4J_URI = \"\"\n",
    "NEO4J_USERNAME = \"\"\n",
    "NEO4J_PASSWORD = \"\"\n",
    "\n",
    "# Initialize the Neo4jGraph object\n",
    "neo4j_graph = Neo4jGraph(\n",
    "    url=NEO4J_URI,\n",
    "    username=NEO4J_USERNAME,\n",
    "    password=NEO4J_PASSWORD,\n",
    ")\n",
    "\n",
    "# Test with single row\n",
    "test_query = \"\"\"\n",
    "MERGE (p:Patient {id: $patient_id})\n",
    "RETURN p\n",
    "\"\"\"\n",
    "\n",
    "# Try creating just a single patient node\n",
    "try:\n",
    "    # Take first row from dataframe\n",
    "    test_row = KG_Data.iloc[0]\n",
    "    \n",
    "    # Test simple patient creation\n",
    "    result = neo4j_graph.query(test_query, {\"patient_id\": int(test_row['subject_id'])})\n",
    "    print(\"Test successful! Created patient node.\")\n",
    "    print(f\"Patient ID: {test_row['subject_id']}\")\n",
    "    \n",
    "    # If successful, try one complete record\n",
    "    single_record = KG_Data.iloc[0:1].to_dict(orient='records')[0]\n",
    "    neo4j_graph.query(cypher_query, {\"patients\": [single_record]})\n",
    "    print(\"Successfully created complete record with all relationships!\")\n",
    "    \n",
    "except Exception as e:\n",
    "    print(f\"Error occurred: {e}\")\n",
    "    print(\"\\nDebug information:\")\n",
    "    print(f\"Data type of subject_id: {type(test_row['subject_id'])}\")\n",
    "    print(f\"Row data: {test_row.to_dict()}\")"
   ]
  },
  {
   "cell_type": "code",
   "execution_count": 38,
   "id": "37fa7cb7-bc46-48a5-9823-1fe29768c211",
   "metadata": {
    "tags": []
   },
   "outputs": [
    {
     "data": {
      "text/plain": [
       "([{'node_count': 0}], [{'relationship_count': 0}])"
      ]
     },
     "execution_count": 38,
     "metadata": {},
     "output_type": "execute_result"
    }
   ],
   "source": [
    "# Query to delete all nodes and relationships\n",
    "delete_all_query = \"MATCH (n) DETACH DELETE n\"\n",
    "\n",
    "# Execute the query\n",
    "neo4j_graph.query(delete_all_query)\n",
    "\n",
    "# Verify that everything has been deleted\n",
    "node_count = neo4j_graph.query(\"MATCH (n) RETURN count(n) AS node_count\")\n",
    "relationship_count = neo4j_graph.query(\"MATCH ()-[r]->() RETURN count(r) AS relationship_count\")\n",
    "\n",
    "node_count, relationship_count\n"
   ]
  },
  {
   "cell_type": "code",
   "execution_count": 42,
   "id": "9de7d83b-f98e-4f36-a604-00a366d755da",
   "metadata": {
    "tags": []
   },
   "outputs": [
    {
     "name": "stdout",
     "output_type": "stream",
     "text": [
      "Data types of columns:\n",
      "subject_id                int64\n",
      "icd_code_procedures      object\n",
      "long_title_procedures    object\n",
      "icd_code_diagnosis       object\n",
      "long_title_diagnosis     object\n",
      "drug                     object\n",
      "prod_strength            object\n",
      "dtype: object\n",
      "\n",
      "First row sample:\n",
      "\n",
      "Subject ID: 10000032\n",
      "\n",
      "Procedures code: ['5491']\n",
      "\n",
      "Procedures title: ['Percutaneous abdominal drainage']\n",
      "\n",
      "Drug: Tiotropium Bromide, Albuterol 0.083% Neb Soln, Sulfameth/Trimethoprim DS, Furosemide, Heparin, Ipratropium Bromide Neb, Morphine Sulfate, Albumin 25% (12.5g / 50mL), Acetaminophen, Bisacodyl, Calcium Carbonate, Dextrose 50%, Lactulose, Nicotine Patch, 0.9% Sodium Chloride, Raltegravir, Rifaximin, Senna, Docusate Sodium (Liquid), TraZODone, Influenza Vaccine Quadrivalent, Emtricitabine-Tenofovir (Truvada), Calcium Gluconate, Spironolactone, Sodium Polystyrene Sulfonate, Potassium Chloride, Insulin (Regular) for Hyperkalemia, Sodium Chloride 0.9%  Flush, Zolpidem Tartrate, TraMADOL (Ultram), Fluticasone Propionate 110mcg, Albuterol Inhaler\n",
      "\n",
      "Test patient creation successful!\n",
      "\n",
      "First record data structure:\n",
      "{'subject_id': 10000032, 'icd_code_procedures': ['5491'], 'long_title_procedures': ['Percutaneous abdominal drainage'], 'icd_code_diagnosis': ['2761', 'V08', '2875', '3051', '5715', '496', '07071', '78959', '5723', 'V1582', '07070', '30981', '29680', '78791', '2767', '07054', 'V462', '7994', '45829', 'V4986', '07044'], 'long_title_diagnosis': ['Hyposmolality and/or hyponatremia', 'Asymptomatic human immunodeficiency virus [HIV] infection status', 'Thrombocytopenia, unspecified', 'Tobacco use disorder', 'Cirrhosis of liver without mention of alcohol', 'Chronic airway obstruction, not elsewhere classified', 'Unspecified viral hepatitis C with hepatic coma', 'Other ascites', 'Portal hypertension', 'Personal history of tobacco use', 'Unspecified viral hepatitis C without hepatic coma', 'Posttraumatic stress disorder', 'Bipolar disorder, unspecified', 'Diarrhea', 'Hyperpotassemia', 'Chronic hepatitis C without mention of hepatic coma', 'Other dependence on machines, supplemental oxygen', 'Cachexia', 'Other iatrogenic hypotension', 'Do not resuscitate status', 'Chronic hepatitis C with hepatic coma'], 'drug': 'Tiotropium Bromide, Albuterol 0.083% Neb Soln, Sulfameth/Trimethoprim DS, Furosemide, Heparin, Ipratropium Bromide Neb, Morphine Sulfate, Albumin 25% (12.5g / 50mL), Acetaminophen, Bisacodyl, Calcium Carbonate, Dextrose 50%, Lactulose, Nicotine Patch, 0.9% Sodium Chloride, Raltegravir, Rifaximin, Senna, Docusate Sodium (Liquid), TraZODone, Influenza Vaccine Quadrivalent, Emtricitabine-Tenofovir (Truvada), Calcium Gluconate, Spironolactone, Sodium Polystyrene Sulfonate, Potassium Chloride, Insulin (Regular) for Hyperkalemia, Sodium Chloride 0.9%  Flush, Zolpidem Tartrate, TraMADOL (Ultram), Fluticasone Propionate 110mcg, Albuterol Inhaler', 'prod_strength': '18mcg Capsule-Inhalation Device, 0.083%;3mL Vial, DS Tablet, 20mg Tablet, 40mg Tablet, 5000 Units / mL- 1mL Vial, 2.5mL Vial, 2 mg Syringe, 100 mL Bag, 500mg Tablet, 10mg Suppository, 1250mg Tablet, 25 g / 50 mL Syringe, 20g/30mL Cup, 14mg/24Hr Patch, 400 mg Tablet, 550mg Tablet, 8.6 mg Tablet, 100mg / 10 mL, 25mg Half Tablet, 0.5 mL Syringe, 200-300mg Tablet, 2 g / 100 mL Premix Bag, 5 mg Tab, 50 mL Bag, 25mg Tablet, 15g/60mL Bottle, 10mEq ER Tablet, 100 Units / mL - 10 mL Vial, 10 mL Syringe, 5mg Tablet, 50mg Tablet, 12g Inhaler, 8 g Inhaler'}\n"
     ]
    }
   ],
   "source": [
    "from tqdm import tqdm\n",
    "from langchain_community.graphs import Neo4jGraph\n",
    "import pandas as pd\n",
    "\n",
    "# Neo4j connection setup\n",
    "NEO4J_URI = \"neo4j+s://8a886660.databases.neo4j.io\"\n",
    "NEO4J_USERNAME = \"neo4j\"\n",
    "NEO4J_PASSWORD = \"9FYDkCTM2Vq4qxWFFwik0uYP6BJ-fReP9XOYj-oDqZ4\"\n",
    "\n",
    "# Initialize the Neo4jGraph object\n",
    "neo4j_graph = Neo4jGraph(\n",
    "    url=NEO4J_URI,\n",
    "    username=NEO4J_USERNAME,\n",
    "    password=NEO4J_PASSWORD,\n",
    ")\n",
    "\n",
    "# First, let's look at the data\n",
    "print(\"Data types of columns:\")\n",
    "print(KG_Data.dtypes)\n",
    "\n",
    "print(\"\\nFirst row sample:\")\n",
    "first_row = KG_Data.iloc[0]\n",
    "print(\"\\nSubject ID:\", first_row['subject_id'])\n",
    "print(\"\\nProcedures code:\", first_row['icd_code_procedures'])\n",
    "print(\"\\nProcedures title:\", first_row['long_title_procedures'])\n",
    "print(\"\\nDrug:\", first_row['drug'])\n",
    "\n",
    "# Let's try with just one record first\n",
    "test_query = \"\"\"\n",
    "MERGE (p:Patient {id: $patient_id})\n",
    "RETURN p\n",
    "\"\"\"\n",
    "\n",
    "try:\n",
    "    # Try with just one patient\n",
    "    result = neo4j_graph.query(test_query, {\"patient_id\": int(KG_Data.iloc[0]['subject_id'])})\n",
    "    print(\"\\nTest patient creation successful!\")\n",
    "    \n",
    "    # Now try one complete record\n",
    "    first_record = KG_Data.iloc[0:1].to_dict(orient='records')[0]\n",
    "    print(\"\\nFirst record data structure:\")\n",
    "    print(first_record)\n",
    "    \n",
    "except Exception as e:\n",
    "    print(f\"\\nError: {e}\")"
   ]
  },
  {
   "cell_type": "code",
   "execution_count": null,
   "id": "26afeccb-6f12-4fb5-8b74-ad8932b04634",
   "metadata": {
    "tags": []
   },
   "outputs": [
    {
     "name": "stderr",
     "output_type": "stream",
     "text": [
      "Inserting patients into Neo4j:   0%|          | 0/19 [00:00<?, ?it/s]"
     ]
    },
    {
     "name": "stdout",
     "output_type": "stream",
     "text": [
      "\n",
      "Successfully processed batch 1 of 19\n"
     ]
    },
    {
     "name": "stderr",
     "output_type": "stream",
     "text": [
      "Inserting patients into Neo4j:   5%|▌         | 1/19 [00:13<04:07, 13.74s/it]"
     ]
    },
    {
     "name": "stdout",
     "output_type": "stream",
     "text": [
      "\n",
      "Current counts: [{'total': 339, 'patients': 339, 'procedures': 339, 'diagnoses': 339, 'drugs': 339}]\n"
     ]
    },
    {
     "name": "stderr",
     "output_type": "stream",
     "text": [
      "Inserting patients into Neo4j:  11%|█         | 2/19 [01:15<11:54, 42.04s/it]"
     ]
    },
    {
     "name": "stdout",
     "output_type": "stream",
     "text": [
      "\n",
      "Successfully processed batch 2 of 19\n"
     ]
    },
    {
     "name": "stderr",
     "output_type": "stream",
     "text": [
      "Inserting patients into Neo4j:  16%|█▌        | 3/19 [01:54<10:50, 40.65s/it]"
     ]
    },
    {
     "name": "stdout",
     "output_type": "stream",
     "text": [
      "\n",
      "Successfully processed batch 3 of 19\n"
     ]
    },
    {
     "name": "stderr",
     "output_type": "stream",
     "text": [
      "Inserting patients into Neo4j:  21%|██        | 4/19 [02:01<06:49, 27.29s/it]"
     ]
    },
    {
     "name": "stdout",
     "output_type": "stream",
     "text": [
      "\n",
      "Successfully processed batch 4 of 19\n"
     ]
    },
    {
     "name": "stderr",
     "output_type": "stream",
     "text": [
      "Inserting patients into Neo4j:  26%|██▋       | 5/19 [02:16<05:20, 22.88s/it]"
     ]
    },
    {
     "name": "stdout",
     "output_type": "stream",
     "text": [
      "\n",
      "Successfully processed batch 5 of 19\n"
     ]
    },
    {
     "name": "stderr",
     "output_type": "stream",
     "text": [
      "Inserting patients into Neo4j:  32%|███▏      | 6/19 [02:27<04:03, 18.73s/it]"
     ]
    },
    {
     "name": "stdout",
     "output_type": "stream",
     "text": [
      "\n",
      "Successfully processed batch 6 of 19\n",
      "\n",
      "Current counts: [{'total': 1093, 'patients': 1093, 'procedures': 1093, 'diagnoses': 1093, 'drugs': 1093}]\n"
     ]
    },
    {
     "name": "stderr",
     "output_type": "stream",
     "text": [
      "Inserting patients into Neo4j:  37%|███▋      | 7/19 [03:19<05:55, 29.65s/it]"
     ]
    },
    {
     "name": "stdout",
     "output_type": "stream",
     "text": [
      "\n",
      "Successfully processed batch 7 of 19\n"
     ]
    },
    {
     "name": "stderr",
     "output_type": "stream",
     "text": [
      "Inserting patients into Neo4j:  42%|████▏     | 8/19 [05:03<09:45, 53.27s/it]"
     ]
    },
    {
     "name": "stdout",
     "output_type": "stream",
     "text": [
      "\n",
      "Successfully processed batch 8 of 19\n"
     ]
    },
    {
     "name": "stderr",
     "output_type": "stream",
     "text": [
      "Inserting patients into Neo4j:  47%|████▋     | 9/19 [05:30<07:31, 45.16s/it]"
     ]
    },
    {
     "name": "stdout",
     "output_type": "stream",
     "text": [
      "\n",
      "Successfully processed batch 9 of 19\n"
     ]
    },
    {
     "name": "stderr",
     "output_type": "stream",
     "text": [
      "Inserting patients into Neo4j:  53%|█████▎    | 10/19 [06:20<06:59, 46.66s/it]"
     ]
    },
    {
     "name": "stdout",
     "output_type": "stream",
     "text": [
      "\n",
      "Successfully processed batch 10 of 19\n",
      "\n",
      "Successfully processed batch 11 of 19\n"
     ]
    },
    {
     "name": "stderr",
     "output_type": "stream",
     "text": [
      "Inserting patients into Neo4j:  58%|█████▊    | 11/19 [06:57<05:48, 43.58s/it]"
     ]
    },
    {
     "name": "stdout",
     "output_type": "stream",
     "text": [
      "\n",
      "Current counts: [{'total': 1759, 'patients': 1759, 'procedures': 1759, 'diagnoses': 1759, 'drugs': 1759}]\n"
     ]
    },
    {
     "name": "stderr",
     "output_type": "stream",
     "text": [
      "Inserting patients into Neo4j:  63%|██████▎   | 12/19 [07:53<05:31, 47.41s/it]"
     ]
    },
    {
     "name": "stdout",
     "output_type": "stream",
     "text": [
      "\n",
      "Successfully processed batch 12 of 19\n"
     ]
    },
    {
     "name": "stderr",
     "output_type": "stream",
     "text": [
      "Inserting patients into Neo4j:  68%|██████▊   | 13/19 [07:55<03:22, 33.67s/it]"
     ]
    },
    {
     "name": "stdout",
     "output_type": "stream",
     "text": [
      "\n",
      "Successfully processed batch 13 of 19\n"
     ]
    },
    {
     "name": "stderr",
     "output_type": "stream",
     "text": [
      "Inserting patients into Neo4j:  74%|███████▎  | 14/19 [08:46<03:15, 39.06s/it]"
     ]
    },
    {
     "name": "stdout",
     "output_type": "stream",
     "text": [
      "\n",
      "Successfully processed batch 14 of 19\n"
     ]
    },
    {
     "name": "stderr",
     "output_type": "stream",
     "text": [
      "Inserting patients into Neo4j:  79%|███████▉  | 15/19 [09:13<02:21, 35.29s/it]"
     ]
    },
    {
     "name": "stdout",
     "output_type": "stream",
     "text": [
      "\n",
      "Successfully processed batch 15 of 19\n"
     ]
    },
    {
     "name": "stderr",
     "output_type": "stream",
     "text": [
      "Inserting patients into Neo4j:  84%|████████▍ | 16/19 [12:05<03:49, 76.60s/it]"
     ]
    },
    {
     "name": "stdout",
     "output_type": "stream",
     "text": [
      "\n",
      "Successfully processed batch 16 of 19\n",
      "\n",
      "Current counts: [{'total': 2233, 'patients': 2233, 'procedures': 2233, 'diagnoses': 2233, 'drugs': 2233}]\n"
     ]
    },
    {
     "name": "stderr",
     "output_type": "stream",
     "text": [
      "Inserting patients into Neo4j:  89%|████████▉ | 17/19 [12:48<02:12, 66.39s/it]"
     ]
    },
    {
     "name": "stdout",
     "output_type": "stream",
     "text": [
      "\n",
      "Successfully processed batch 17 of 19\n"
     ]
    },
    {
     "name": "stderr",
     "output_type": "stream",
     "text": [
      "Inserting patients into Neo4j:  95%|█████████▍| 18/19 [15:44<01:39, 99.25s/it]"
     ]
    },
    {
     "name": "stdout",
     "output_type": "stream",
     "text": [
      "\n",
      "Successfully processed batch 18 of 19\n"
     ]
    },
    {
     "name": "stderr",
     "output_type": "stream",
     "text": [
      "Inserting patients into Neo4j: 100%|██████████| 19/19 [17:21<00:00, 54.81s/it]"
     ]
    },
    {
     "name": "stdout",
     "output_type": "stream",
     "text": [
      "\n",
      "Successfully processed batch 19 of 19\n",
      "\n",
      "Final counts: [{'total': 2487, 'patients': 2487, 'procedures': 2487, 'diagnoses': 2487, 'drugs': 2487}]\n"
     ]
    },
    {
     "name": "stderr",
     "output_type": "stream",
     "text": [
      "\n"
     ]
    }
   ],
   "source": [
    "from tqdm import tqdm\n",
    "from langchain_community.graphs import Neo4jGraph\n",
    "\n",
    "# Neo4j connection setup\n",
    "NEO4J_URI = \"\"\n",
    "NEO4J_USERNAME = \"\"\n",
    "NEO4J_PASSWORD = \"\"\n",
    "\n",
    "# Initialize the Neo4jGraph object\n",
    "neo4j_graph = Neo4jGraph(\n",
    "    url=NEO4J_URI,\n",
    "    username=NEO4J_USERNAME,\n",
    "    password=NEO4J_PASSWORD,\n",
    ")\n",
    "\n",
    "# Updated Cypher query with correct indexOf function\n",
    "cypher_query = \"\"\"\n",
    "UNWIND $patients AS patient\n",
    "// Create Patient nodes\n",
    "MERGE (p:Patient {id: patient.subject_id})\n",
    "\n",
    "// Create Procedure nodes and relationships\n",
    "WITH patient, p\n",
    "UNWIND patient.icd_code_procedures AS procedure_code\n",
    "WITH patient, p, procedure_code, patient.long_title_procedures AS procedure_titles\n",
    "WITH patient, p, procedure_code, procedure_titles[0] AS procedure_title\n",
    "WHERE procedure_code IS NOT NULL\n",
    "MERGE (proc:Procedure {code: procedure_code})\n",
    "ON CREATE SET proc.title = procedure_title\n",
    "MERGE (p)-[:HAS_PROCEDURE]->(proc)\n",
    "\n",
    "// Create Diagnosis nodes and relationships\n",
    "WITH patient, p\n",
    "UNWIND patient.icd_code_diagnosis AS diagnosis_code\n",
    "WITH patient, p, diagnosis_code, patient.long_title_diagnosis AS diagnosis_titles\n",
    "WITH patient, p, diagnosis_code, diagnosis_titles[0] AS diagnosis_title\n",
    "WHERE diagnosis_code IS NOT NULL\n",
    "MERGE (diag:Diagnosis {code: diagnosis_code})\n",
    "ON CREATE SET diag.title = diagnosis_title\n",
    "MERGE (p)-[:HAS_DIAGNOSIS]->(diag)\n",
    "\n",
    "// Create Drug nodes and relationships (split the comma-separated string)\n",
    "WITH patient, p\n",
    "UNWIND split(patient.drug, ',') AS drug_name\n",
    "WITH patient, p, trim(drug_name) AS drug_name\n",
    "WHERE drug_name IS NOT NULL\n",
    "MERGE (drug:Drug {name: drug_name})\n",
    "MERGE (p)-[:PRESCRIBED]->(drug)\n",
    "\"\"\"\n",
    "\n",
    "# Batch size\n",
    "batch_size = 5\n",
    "\n",
    "# Insert data into Neo4j in batches with progress tracking\n",
    "try:\n",
    "    for i in tqdm(range(0, len(KG_Data), batch_size), desc=\"Inserting patients into Neo4j\"):\n",
    "        batch = KG_Data.iloc[i:i + batch_size].to_dict(orient='records')\n",
    "        try:\n",
    "            neo4j_graph.query(cypher_query, {\"patients\": batch})\n",
    "            print(f\"\\nSuccessfully processed batch {i//batch_size + 1} of {(len(KG_Data) + batch_size - 1)//batch_size}\")\n",
    "            \n",
    "            # Print intermediate counts every 5 batches\n",
    "            if (i/batch_size) % 5 == 0:\n",
    "                counts = neo4j_graph.query(\"\"\"\n",
    "                    MATCH (n)\n",
    "                    WITH \n",
    "                        count(n) as total,\n",
    "                        count(n:Patient) as patients,\n",
    "                        count(n:Procedure) as procedures,\n",
    "                        count(n:Diagnosis) as diagnoses,\n",
    "                        count(n:Drug) as drugs\n",
    "                    RETURN total, patients, procedures, diagnoses, drugs\n",
    "                \"\"\")\n",
    "                print(\"\\nCurrent counts:\", counts)\n",
    "                \n",
    "        except Exception as e:\n",
    "            print(f\"\\nError processing batch starting at index {i}: {str(e)}\")\n",
    "            continue\n",
    "\n",
    "    # Final counts\n",
    "    final_counts = neo4j_graph.query(\"\"\"\n",
    "        MATCH (n)\n",
    "        WITH \n",
    "            count(n) as total,\n",
    "            count(n:Patient) as patients,\n",
    "            count(n:Procedure) as procedures,\n",
    "            count(n:Diagnosis) as diagnoses,\n",
    "            count(n:Drug) as drugs\n",
    "        RETURN total, patients, procedures, diagnoses, drugs\n",
    "    \"\"\")\n",
    "    print(\"\\nFinal counts:\", final_counts)\n",
    "\n",
    "except Exception as e:\n",
    "    print(f\"\\nCritical error occurred: {str(e)}\")"
   ]
  },
  {
   "cell_type": "code",
   "execution_count": 46,
   "id": "45c17973-a4f4-47ad-bb79-7c147a8d6024",
   "metadata": {
    "tags": []
   },
   "outputs": [
    {
     "name": "stdout",
     "output_type": "stream",
     "text": [
      "Node structure: [{'nodeTypes': ['Diagnosis'], 'count': 1425}, {'nodeTypes': ['Drug'], 'count': 618}, {'nodeTypes': ['Procedure'], 'count': 352}, {'nodeTypes': ['Patient'], 'count': 92}]\n",
      "\n",
      "Relationship counts: [{'relationship_type': 'PRESCRIBED', 'count': 5334}, {'relationship_type': 'HAS_DIAGNOSIS', 'count': 3061}, {'relationship_type': 'HAS_PROCEDURE', 'count': 608}]\n"
     ]
    }
   ],
   "source": [
    "# Test query to check current data structure\n",
    "check_query = \"\"\"\n",
    "MATCH (n)\n",
    "WITH labels(n) as nodeTypes, count(n) as count\n",
    "RETURN nodeTypes, count\n",
    "ORDER BY count DESC\n",
    "\"\"\"\n",
    "\n",
    "try:\n",
    "    structure = neo4j_graph.query(check_query)\n",
    "    print(\"Node structure:\", structure)\n",
    "    \n",
    "    # Check relationships\n",
    "    rel_query = \"\"\"\n",
    "    MATCH ()-[r]->()\n",
    "    RETURN type(r) as relationship_type, count(r) as count\n",
    "    ORDER BY count DESC\n",
    "    \"\"\"\n",
    "    relationships = neo4j_graph.query(rel_query)\n",
    "    print(\"\\nRelationship counts:\", relationships)\n",
    "    \n",
    "except Exception as e:\n",
    "    print(f\"Error checking structure: {e}\")"
   ]
  },
  {
   "cell_type": "code",
   "execution_count": 48,
   "id": "0d01503a-fa4b-41f7-9092-d1043b6db452",
   "metadata": {
    "tags": []
   },
   "outputs": [
    {
     "name": "stdout",
     "output_type": "stream",
     "text": [
      "Total counts: [{'total_nodes': 2487, 'total_edges': 9003}]\n"
     ]
    }
   ],
   "source": [
    "# Total nodes and edges query\n",
    "total_query = \"\"\"\n",
    "MATCH (n)\n",
    "WITH count(n) as nodes\n",
    "MATCH ()-[r]->()\n",
    "RETURN nodes as total_nodes, count(r) as total_edges\n",
    "\"\"\"\n",
    "\n",
    "try:\n",
    "    totals = neo4j_graph.query(total_query)\n",
    "    print(\"Total counts:\", totals)\n",
    "except Exception as e:\n",
    "    print(f\"Error: {e}\")"
   ]
  },
  {
   "cell_type": "code",
   "execution_count": null,
   "id": "90ce56b2-abe0-4307-a11c-3f2f84586a52",
   "metadata": {},
   "outputs": [],
   "source": []
  }
 ],
 "metadata": {
  "kernelspec": {
   "display_name": "conda_pytorch_p310",
   "language": "python",
   "name": "conda_pytorch_p310"
  },
  "language_info": {
   "codemirror_mode": {
    "name": "ipython",
    "version": 3
   },
   "file_extension": ".py",
   "mimetype": "text/x-python",
   "name": "python",
   "nbconvert_exporter": "python",
   "pygments_lexer": "ipython3",
   "version": "3.10.14"
  }
 },
 "nbformat": 4,
 "nbformat_minor": 5
}

{
 "cells": [
  {
   "cell_type": "code",
   "execution_count": 1,
   "id": "b0bebcbe-44ae-46df-8fad-8e1b8559ccb9",
   "metadata": {
    "tags": []
   },
   "outputs": [
    {
     "name": "stderr",
     "output_type": "stream",
     "text": [
      "/home/ec2-user/anaconda3/envs/pytorch_p310/lib/python3.10/site-packages/fsspec/registry.py:283: UserWarning: Your installed version of s3fs is very old and known to cause\n",
      "severe performance issues, see also https://github.com/dask/dask/issues/10276\n",
      "\n",
      "To fix, you should specify a lower version bound on s3fs, or\n",
      "update the current installation.\n",
      "\n",
      "  warnings.warn(s3_msg)\n"
     ]
    },
    {
     "data": {
      "text/html": [
       "<div>\n",
       "<style scoped>\n",
       "    .dataframe tbody tr th:only-of-type {\n",
       "        vertical-align: middle;\n",
       "    }\n",
       "\n",
       "    .dataframe tbody tr th {\n",
       "        vertical-align: top;\n",
       "    }\n",
       "\n",
       "    .dataframe thead th {\n",
       "        text-align: right;\n",
       "    }\n",
       "</style>\n",
       "<table border=\"1\" class=\"dataframe\">\n",
       "  <thead>\n",
       "    <tr style=\"text-align: right;\">\n",
       "      <th></th>\n",
       "      <th>note_id</th>\n",
       "      <th>input</th>\n",
       "      <th>target</th>\n",
       "      <th>input_tokens</th>\n",
       "      <th>target_tokens</th>\n",
       "    </tr>\n",
       "  </thead>\n",
       "  <tbody>\n",
       "    <tr>\n",
       "      <th>0</th>\n",
       "      <td>16002318-DS-17</td>\n",
       "      <td>&lt;SEX&gt; F &lt;SERVICE&gt; SURGERY &lt;ALLERGIES&gt; Iodine /...</td>\n",
       "      <td>This is a ___ yo F admitted to the hospital af...</td>\n",
       "      <td>1195</td>\n",
       "      <td>75</td>\n",
       "    </tr>\n",
       "    <tr>\n",
       "      <th>1</th>\n",
       "      <td>15638884-DS-4</td>\n",
       "      <td>&lt;SEX&gt; M &lt;SERVICE&gt; MEDICINE &lt;ALLERGIES&gt; Augment...</td>\n",
       "      <td>Mr. ___ is a ___ yo man with CAD with prior MI...</td>\n",
       "      <td>3496</td>\n",
       "      <td>1143</td>\n",
       "    </tr>\n",
       "  </tbody>\n",
       "</table>\n",
       "</div>"
      ],
      "text/plain": [
       "          note_id                                              input  \\\n",
       "0  16002318-DS-17  <SEX> F <SERVICE> SURGERY <ALLERGIES> Iodine /...   \n",
       "1   15638884-DS-4  <SEX> M <SERVICE> MEDICINE <ALLERGIES> Augment...   \n",
       "\n",
       "                                              target  input_tokens  \\\n",
       "0  This is a ___ yo F admitted to the hospital af...          1195   \n",
       "1  Mr. ___ is a ___ yo man with CAD with prior MI...          3496   \n",
       "\n",
       "   target_tokens  \n",
       "0             75  \n",
       "1           1143  "
      ]
     },
     "execution_count": 1,
     "metadata": {},
     "output_type": "execute_result"
    }
   ],
   "source": [
    "import pandas as pd\n",
    "\n",
    "# Define the bucket and file names\n",
    "bucket_name = 'mimicivliza'  # Replace with your bucket name\n",
    "mimic_iv_bhc = f's3://{bucket_name}/sample_data_100.csv'\n",
    "\n",
    "# Load the files\n",
    "mimic_iv_bhc_100 = pd.read_csv(mimic_iv_bhc)\n",
    "\n",
    "# Display the data\n",
    "mimic_iv_bhc_100.head(2)"
   ]
  },
  {
   "cell_type": "code",
   "execution_count": 2,
   "id": "015b0e35-da38-4bb1-b309-9df7298f00a3",
   "metadata": {
    "tags": []
   },
   "outputs": [
    {
     "name": "stdout",
     "output_type": "stream",
     "text": [
      "          note_id                                              input  \\\n",
      "0  16002318-DS-17  <SEX> F <SERVICE> SURGERY <ALLERGIES> Iodine /...   \n",
      "1   15638884-DS-4  <SEX> M <SERVICE> MEDICINE <ALLERGIES> Augment...   \n",
      "\n",
      "                                        reduced_text  \\\n",
      "0  <|begin_of_text|><SEX> F <SERVICE> SURGERY <AL...   \n",
      "1  <|begin_of_text|><SEX> M <SERVICE> MEDICINE <A...   \n",
      "\n",
      "                                            entities  \\\n",
      "0  {'PROBLEM': ['101', '7 pound weight loss', 'a ...   \n",
      "1  {'PROBLEM': ['+', '-', '1 cm area', 'a \" cyst ...   \n",
      "\n",
      "                                            problems  \\\n",
      "0  ['101', '7 pound weight loss', 'a fever', 'a l...   \n",
      "1  ['+', '-', '1 cm area', 'a \" cyst \"', 'a 2cm d...   \n",
      "\n",
      "                                          treatments  \\\n",
      "0  ['abdominal exercises', 'albuterol sulfate', '...   \n",
      "1  ['a bankart repair', 'a nicotine patch', 'a st...   \n",
      "\n",
      "                                               tests  \\\n",
      "0         ['b12', 'bmi', 'calcium', 'physical exam']   \n",
      "1  ['.', '_', 'a', 'a ct scan', 'absbaso', 'abseo...   \n",
      "\n",
      "                                   generated_summary  \n",
      "0  For a 51-year-old female patient who underwent...  \n",
      "1  The patient presents with painless jaundice, i...  \n"
     ]
    }
   ],
   "source": [
    "import pandas as pd\n",
    "\n",
    "# Load the saved CSV file\n",
    "generated_summaries = pd.read_csv(\"summarization_output.csv\")\n",
    "\n",
    "# Verify the data\n",
    "print(generated_summaries.head(2))"
   ]
  },
  {
   "cell_type": "code",
   "execution_count": 3,
   "id": "bfe4b314-fe76-4468-ae4e-f46b7f5ae80d",
   "metadata": {
    "tags": []
   },
   "outputs": [
    {
     "data": {
      "text/html": [
       "<div>\n",
       "<style scoped>\n",
       "    .dataframe tbody tr th:only-of-type {\n",
       "        vertical-align: middle;\n",
       "    }\n",
       "\n",
       "    .dataframe tbody tr th {\n",
       "        vertical-align: top;\n",
       "    }\n",
       "\n",
       "    .dataframe thead th {\n",
       "        text-align: right;\n",
       "    }\n",
       "</style>\n",
       "<table border=\"1\" class=\"dataframe\">\n",
       "  <thead>\n",
       "    <tr style=\"text-align: right;\">\n",
       "      <th></th>\n",
       "      <th>note_id</th>\n",
       "      <th>input</th>\n",
       "      <th>generated_summary</th>\n",
       "      <th>target</th>\n",
       "    </tr>\n",
       "  </thead>\n",
       "  <tbody>\n",
       "    <tr>\n",
       "      <th>0</th>\n",
       "      <td>16002318-DS-17</td>\n",
       "      <td>&lt;SEX&gt; F &lt;SERVICE&gt; SURGERY &lt;ALLERGIES&gt; Iodine /...</td>\n",
       "      <td>For a 51-year-old female patient who underwent...</td>\n",
       "      <td>This is a ___ yo F admitted to the hospital af...</td>\n",
       "    </tr>\n",
       "    <tr>\n",
       "      <th>1</th>\n",
       "      <td>15638884-DS-4</td>\n",
       "      <td>&lt;SEX&gt; M &lt;SERVICE&gt; MEDICINE &lt;ALLERGIES&gt; Augment...</td>\n",
       "      <td>The patient presents with painless jaundice, i...</td>\n",
       "      <td>Mr. ___ is a ___ yo man with CAD with prior MI...</td>\n",
       "    </tr>\n",
       "    <tr>\n",
       "      <th>2</th>\n",
       "      <td>12435705-DS-14</td>\n",
       "      <td>&lt;SEX&gt; M &lt;SERVICE&gt; MEDICINE &lt;ALLERGIES&gt; ibuprof...</td>\n",
       "      <td>A 25-year-old male patient presents with sympt...</td>\n",
       "      <td>Mr. ___ is a ___ w/ Ph+ve ALL on dasatanib and...</td>\n",
       "    </tr>\n",
       "    <tr>\n",
       "      <th>3</th>\n",
       "      <td>12413577-DS-4</td>\n",
       "      <td>&lt;SEX&gt; F &lt;SERVICE&gt; OBSTETRICS/GYNECOLOGY &lt;ALLER...</td>\n",
       "      <td>The patient presents with symptoms of vulvovag...</td>\n",
       "      <td>On ___, Ms. ___ was admitted to the gynecology...</td>\n",
       "    </tr>\n",
       "    <tr>\n",
       "      <th>4</th>\n",
       "      <td>17967161-DS-29</td>\n",
       "      <td>&lt;SEX&gt; M &lt;SERVICE&gt; SURGERY &lt;ALLERGIES&gt; lisinopr...</td>\n",
       "      <td>The patient presents with symptoms of chronic ...</td>\n",
       "      <td>Mr. ___ underwent an angiogram on ___ which sh...</td>\n",
       "    </tr>\n",
       "  </tbody>\n",
       "</table>\n",
       "</div>"
      ],
      "text/plain": [
       "          note_id                                              input  \\\n",
       "0  16002318-DS-17  <SEX> F <SERVICE> SURGERY <ALLERGIES> Iodine /...   \n",
       "1   15638884-DS-4  <SEX> M <SERVICE> MEDICINE <ALLERGIES> Augment...   \n",
       "2  12435705-DS-14  <SEX> M <SERVICE> MEDICINE <ALLERGIES> ibuprof...   \n",
       "3   12413577-DS-4  <SEX> F <SERVICE> OBSTETRICS/GYNECOLOGY <ALLER...   \n",
       "4  17967161-DS-29  <SEX> M <SERVICE> SURGERY <ALLERGIES> lisinopr...   \n",
       "\n",
       "                                   generated_summary  \\\n",
       "0  For a 51-year-old female patient who underwent...   \n",
       "1  The patient presents with painless jaundice, i...   \n",
       "2  A 25-year-old male patient presents with sympt...   \n",
       "3  The patient presents with symptoms of vulvovag...   \n",
       "4  The patient presents with symptoms of chronic ...   \n",
       "\n",
       "                                              target  \n",
       "0  This is a ___ yo F admitted to the hospital af...  \n",
       "1  Mr. ___ is a ___ yo man with CAD with prior MI...  \n",
       "2  Mr. ___ is a ___ w/ Ph+ve ALL on dasatanib and...  \n",
       "3  On ___, Ms. ___ was admitted to the gynecology...  \n",
       "4  Mr. ___ underwent an angiogram on ___ which sh...  "
      ]
     },
     "execution_count": 3,
     "metadata": {},
     "output_type": "execute_result"
    }
   ],
   "source": [
    "# Merge on 'note_id' to bring in the 'target' column from mimic_iv_bhc_100\n",
    "generated_summaries = generated_summaries.merge(\n",
    "    mimic_iv_bhc_100[['note_id', 'target']], on='note_id', how='left'\n",
    ")\n",
    "\n",
    "# Keep only the desired columns\n",
    "generated_summaries = generated_summaries[['note_id', 'input', 'generated_summary', 'target']]\n",
    "\n",
    "# Display the result\n",
    "generated_summaries.head()\n"
   ]
  },
  {
   "cell_type": "code",
   "execution_count": 14,
   "id": "e9db77d7-230b-4091-869f-f91f9fd78a78",
   "metadata": {
    "tags": []
   },
   "outputs": [],
   "source": [
    "# Take a random sample of 25 rows\n",
    "sampled_20 = generated_summaries.sample(n=20, random_state=42).reset_index(drop=True)"
   ]
  },
  {
   "cell_type": "code",
   "execution_count": 5,
   "id": "3f217b6a-a196-47a4-a851-74bee6560f67",
   "metadata": {
    "tags": []
   },
   "outputs": [],
   "source": [
    "from huggingface_hub import login\n",
    "\n",
    "# Use your Hugging Face token\n",
    "login(\"\")"
   ]
  },
  {
   "cell_type": "code",
   "execution_count": 6,
   "id": "dab4a0e2-2025-4141-829c-dac7db537739",
   "metadata": {
    "tags": []
   },
   "outputs": [],
   "source": [
    "# Install Hugging Face Transformers\n",
    "!pip install -q transformers\n",
    "!pip install -q sacremoses\n",
    "!pip install -q bitsandbytes accelerate"
   ]
  },
  {
   "cell_type": "code",
   "execution_count": 12,
   "id": "763c325f-4ea4-4320-8ca5-6adc70f6a4c6",
   "metadata": {
    "tags": []
   },
   "outputs": [
    {
     "name": "stdout",
     "output_type": "stream",
     "text": [
      "Requirement already satisfied: tqdm in /home/ec2-user/anaconda3/envs/pytorch_p310/lib/python3.10/site-packages (4.67.1)\n"
     ]
    }
   ],
   "source": [
    "!pip install tqdm\n",
    "from tqdm import tqdm\n"
   ]
  },
  {
   "cell_type": "code",
   "execution_count": 15,
   "id": "9448dd1b-b11c-4f22-b574-015b71cf4e0b",
   "metadata": {
    "tags": []
   },
   "outputs": [],
   "source": [
    "import torch\n",
    "import pandas as pd\n",
    "import numpy as np\n",
    "import re\n",
    "from tqdm import tqdm\n",
    "from transformers import AutoTokenizer, AutoModelForCausalLM, BitsAndBytesConfig\n",
    "\n",
    "# ---------------------------------------\n",
    "# 1. Load your sampled dataset\n",
    "# ---------------------------------------\n",
    "df = sampled_20.copy()\n",
    "\n",
    "# ---------------------------------------\n",
    "# 2. Load Gemma 3 1B Instruction-Tuned\n",
    "# ---------------------------------------\n",
    "bnb_config = BitsAndBytesConfig(\n",
    "    load_in_8bit=True,\n",
    "    bnb_8bit_compute_dtype=torch.float16,\n",
    "    llm_int8_enable_fp32_cpu_offload=True\n",
    ")\n",
    "\n",
    "model_id = \"google/gemma-3-1b-it\"\n",
    "tokenizer = AutoTokenizer.from_pretrained(model_id, trust_remote_code=True)\n",
    "model = AutoModelForCausalLM.from_pretrained(\n",
    "    model_id,\n",
    "    quantization_config=bnb_config,\n",
    "    device_map=\"auto\",\n",
    "    trust_remote_code=True\n",
    ").eval()\n"
   ]
  },
  {
   "cell_type": "code",
   "execution_count": 16,
   "id": "4ef3d06e-2d49-47d5-9ec8-ac5209c60c3d",
   "metadata": {
    "tags": []
   },
   "outputs": [
    {
     "name": "stderr",
     "output_type": "stream",
     "text": [
      "100%|██████████| 20/20 [12:06<00:00, 36.32s/it]\n"
     ]
    }
   ],
   "source": [
    "def build_prompt(reference, generated):\n",
    "    return f\"\"\"\n",
    "You are a clinical expert. Evaluate the quality of the generated summary by comparing it to the reference summary. Rate each criterion from 1 (poor) to 5 (excellent):\n",
    "\n",
    "1. Main Idea Retention: Does the generated summary capture the main ideas of the reference?\n",
    "2. Coherence: Is the generated summary logically and grammatically coherent?\n",
    "3. Factual Consistency: Is the generated summary factually correct compared to the reference?\n",
    "\n",
    "---\n",
    "\n",
    "Reference Summary:\n",
    "{reference}\n",
    "\n",
    "Generated Summary:\n",
    "{generated}\n",
    "\n",
    "Respond in this format:\n",
    "Main Idea Retention: #\n",
    "Coherence: #\n",
    "Factual Consistency: #\n",
    "Overall Comments: ...\n",
    "\"\"\"\n",
    "\n",
    "import re\n",
    "\n",
    "# Store results\n",
    "results = []\n",
    "\n",
    "# Inference loop\n",
    "for _, row in tqdm(df.iterrows(), total=len(df)):\n",
    "    prompt = build_prompt(row[\"target\"], row[\"generated_summary\"])\n",
    "    \n",
    "    inputs = tokenizer(prompt, return_tensors=\"pt\").to(\"cuda\")\n",
    "    with torch.no_grad():\n",
    "        outputs = model.generate(**inputs, max_new_tokens=256)\n",
    "    \n",
    "    decoded_output = tokenizer.decode(outputs[0], skip_special_tokens=True)\n",
    "\n",
    "    # Parse numeric scores using regex\n",
    "    matches = re.findall(r'(?i)(Main Idea Retention|Coherence|Factual Consistency):\\s*(\\d)', decoded_output)\n",
    "    scores = {k.strip().lower().replace(\" \", \"_\"): int(v) for k, v in matches}\n",
    "    \n",
    "    # Append the original fields and scores\n",
    "    scores.update({\n",
    "        \"note_id\": row.get(\"note_id\", \"\"),\n",
    "        \"input\": row[\"input\"],\n",
    "        \"target\": row[\"target\"],\n",
    "        \"generated_summary\": row[\"generated_summary\"]\n",
    "    })\n",
    "    results.append(scores)\n",
    "\n",
    "# Convert to DataFrame\n",
    "judge_df = pd.DataFrame(results)\n",
    "\n",
    "# Add average score column\n",
    "judge_df[\"avg_score\"] = judge_df[\n",
    "    [\"main_idea_retention\", \"coherence\", \"factual_consistency\"]\n",
    "].mean(axis=1)\n",
    "\n",
    "# Save results if needed\n",
    "judge_df.to_csv(\"llm_judge_scores_gemma.csv\", index=False)\n"
   ]
  },
  {
   "cell_type": "code",
   "execution_count": null,
   "id": "50e990cb-0216-42dd-904c-48c36f4c1750",
   "metadata": {
    "tags": []
   },
   "outputs": [],
   "source": [
    "# Formatting function\n",
    "def fmt(x):\n",
    "    return f\"{x.mean():.2f} $\\\\pm$ {x.std():.2f}\"\n",
    "\n",
    "# Just print the formatted values only (no model/dataset name)\n",
    "def print_latex_values_only(df):\n",
    "    mi = fmt(df[\"main_idea_retention\"])\n",
    "    co = fmt(df[\"coherence\"])\n",
    "    fa = fmt(df[\"factual_consistency\"])\n",
    "    avg = fmt(df[\"avg_score\"])\n",
    "    print(f\"{mi} & {co} & {fa} & {avg} \\\\\\\\\")\n",
    "\n",
    "# 🟢 Run it on your current results\n",
    "print_latex_values_only(judge_df)"
   ]
  },
  {
   "cell_type": "code",
   "execution_count": null,
   "id": "1ad2e106-c1e0-4357-b089-a2a2e5105d36",
   "metadata": {},
   "outputs": [],
   "source": []
  }
 ],
 "metadata": {
  "kernelspec": {
   "display_name": "conda_pytorch_p310",
   "language": "python",
   "name": "conda_pytorch_p310"
  },
  "language_info": {
   "codemirror_mode": {
    "name": "ipython",
    "version": 3
   },
   "file_extension": ".py",
   "mimetype": "text/x-python",
   "name": "python",
   "nbconvert_exporter": "python",
   "pygments_lexer": "ipython3",
   "version": "3.10.14"
  }
 },
 "nbformat": 4,
 "nbformat_minor": 5
}

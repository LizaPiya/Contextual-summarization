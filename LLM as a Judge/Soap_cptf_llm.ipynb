{
 "cells": [
  {
   "cell_type": "code",
   "execution_count": 1,
   "id": "3e91d015-73ae-457d-bf25-8983f83b69da",
   "metadata": {
    "tags": []
   },
   "outputs": [
    {
     "name": "stdout",
     "output_type": "stream",
     "text": [
      "                                               input  \\\n",
      "0  Good afternoon, champ, how you holding up? Goo...   \n",
      "1  What brings you in here today? Hi, I'm um, I'm...   \n",
      "\n",
      "                                        reduced_text  \\\n",
      "0  <|begin_of_text|>Good afternoon, champ, how yo...   \n",
      "1  <|begin_of_text|>What brings you in here today...   \n",
      "\n",
      "                                              output  \\\n",
      "0  Subjective:\\n- Symptoms: Lower back pain, radi...   \n",
      "1  Subjective:\\n- Presenting with dry cough for 1...   \n",
      "\n",
      "                                   generated_summary  \n",
      "0  A 75-year-old man presents with chronic lower ...  \n",
      "1  smell was fine, but now it's gone. Okay, okay....  \n"
     ]
    }
   ],
   "source": [
    "import pandas as pd\n",
    "\n",
    "# Load the saved CSV file\n",
    "generated_summaries = pd.read_csv(\"soap_cptf_generated_summaries.csv\")\n",
    "\n",
    "# Verify the data\n",
    "print(generated_summaries.head(2))"
   ]
  },
  {
   "cell_type": "code",
   "execution_count": 2,
   "id": "b765d01a-d750-4d40-8e2d-6666640e299d",
   "metadata": {
    "tags": []
   },
   "outputs": [],
   "source": [
    "# Take a random sample of 20 rows\n",
    "sampled_20 = generated_summaries.sample(n=20, random_state=42).reset_index(drop=True)"
   ]
  },
  {
   "cell_type": "code",
   "execution_count": 3,
   "id": "684f451c-25ee-41ba-9002-6e527a02c0fd",
   "metadata": {
    "tags": []
   },
   "outputs": [],
   "source": [
    "# Install Hugging Face Transformers\n",
    "!pip install -q huggingface_hub\n",
    "!pip install -q transformers\n",
    "!pip install -q sacremoses\n",
    "!pip install -q bitsandbytes accelerate"
   ]
  },
  {
   "cell_type": "code",
   "execution_count": 6,
   "id": "c106f217-1984-46f8-acaa-69787894ff87",
   "metadata": {
    "tags": []
   },
   "outputs": [],
   "source": [
    "import torch\n",
    "import pandas as pd\n",
    "import numpy as np\n",
    "import re\n",
    "from tqdm import tqdm\n",
    "from transformers import AutoTokenizer, AutoModelForCausalLM, BitsAndBytesConfig\n",
    "\n",
    "# ---------------------------------------\n",
    "# 1. Load your sampled dataset\n",
    "# ---------------------------------------\n",
    "df = sampled_20.copy()\n",
    "\n",
    "# ---------------------------------------\n",
    "# 2. Load Gemma 3 1B Instruction-Tuned\n",
    "# ---------------------------------------\n",
    "bnb_config = BitsAndBytesConfig(\n",
    "    load_in_8bit=True,\n",
    "    bnb_8bit_compute_dtype=torch.float16,\n",
    "    llm_int8_enable_fp32_cpu_offload=True\n",
    ")\n",
    "\n",
    "model_id = \"google/gemma-3-1b-it\"\n",
    "tokenizer = AutoTokenizer.from_pretrained(model_id, trust_remote_code=True)\n",
    "model = AutoModelForCausalLM.from_pretrained(\n",
    "    model_id,\n",
    "    quantization_config=bnb_config,\n",
    "    device_map=\"auto\",\n",
    "    trust_remote_code=True,\n",
    "    torch_dtype=torch.float16,\n",
    "    attn_implementation=\"eager\"\n",
    ").eval()\n",
    "\n"
   ]
  },
  {
   "cell_type": "code",
   "execution_count": 7,
   "id": "c2775ee4-435f-40e5-a225-0f9a1466e146",
   "metadata": {
    "tags": []
   },
   "outputs": [
    {
     "name": "stderr",
     "output_type": "stream",
     "text": [
      "100%|██████████| 20/20 [14:14<00:00, 42.72s/it]\n"
     ]
    }
   ],
   "source": [
    "def build_prompt(reference, generated):\n",
    "    return f\"\"\"\n",
    "You are a clinical expert. Evaluate the quality of the generated summary by comparing it to the reference summary. Rate each criterion from 1 (poor) to 5 (excellent):\n",
    "\n",
    "1. Main Idea Retention: Does the generated summary capture the main ideas of the reference?\n",
    "2. Coherence: Is the generated summary logically and grammatically coherent?\n",
    "3. Factual Consistency: Is the generated summary factually correct compared to the reference?\n",
    "\n",
    "---\n",
    "\n",
    "Reference Summary:\n",
    "{reference}\n",
    "\n",
    "Generated Summary:\n",
    "{generated}\n",
    "\n",
    "Respond in this format:\n",
    "Main Idea Retention: #\n",
    "Coherence: #\n",
    "Factual Consistency: #\n",
    "Overall Comments: ...\n",
    "\"\"\"\n",
    "\n",
    "import re\n",
    "\n",
    "# Store results\n",
    "results = []\n",
    "\n",
    "# Inference loop\n",
    "for _, row in tqdm(df.iterrows(), total=len(df)):\n",
    "    prompt = build_prompt(row[\"output\"], row[\"generated_summary\"])\n",
    "    \n",
    "    inputs = tokenizer(prompt, return_tensors=\"pt\").to(\"cuda\")\n",
    "    with torch.no_grad():\n",
    "        outputs = model.generate(**inputs, max_new_tokens=256)\n",
    "    \n",
    "    decoded_output = tokenizer.decode(outputs[0], skip_special_tokens=True)\n",
    "\n",
    "    # Parse numeric scores using regex\n",
    "    matches = re.findall(r'(?i)(Main Idea Retention|Coherence|Factual Consistency):\\s*(\\d)', decoded_output)\n",
    "    scores = {k.strip().lower().replace(\" \", \"_\"): int(v) for k, v in matches}\n",
    "    \n",
    "    # Append the original fields and scores\n",
    "    scores.update({\n",
    "        \"input\": row[\"input\"],\n",
    "        \"target\": row[\"output\"],\n",
    "        \"generated_summary\": row[\"generated_summary\"]\n",
    "    })\n",
    "    results.append(scores)\n",
    "\n",
    "# Convert to DataFrame\n",
    "judge_df = pd.DataFrame(results)\n",
    "\n",
    "# Add average score column\n",
    "judge_df[\"avg_score\"] = judge_df[\n",
    "    [\"main_idea_retention\", \"coherence\", \"factual_consistency\"]\n",
    "].mean(axis=1)\n",
    "\n",
    "# Save results if needed\n",
    "judge_df.to_csv(\"llm_judge_scores_gemma.csv\", index=False)\n"
   ]
  },
  {
   "cell_type": "code",
   "execution_count": null,
   "id": "257f19ae-756f-4914-baf7-ac14c4eb481c",
   "metadata": {
    "tags": []
   },
   "outputs": [],
   "source": [
    "# Formatting function\n",
    "def fmt(x):\n",
    "    return f\"{x.mean():.2f} $\\\\pm$ {x.std():.2f}\"\n",
    "\n",
    "# Just print the formatted values only (no model/dataset name)\n",
    "def print_latex_values_only(df):\n",
    "    mi = fmt(df[\"main_idea_retention\"])\n",
    "    co = fmt(df[\"coherence\"])\n",
    "    fa = fmt(df[\"factual_consistency\"])\n",
    "    avg = fmt(df[\"avg_score\"])\n",
    "    print(f\"{mi} & {co} & {fa} & {avg} \\\\\\\\\")\n",
    "\n",
    "# 🟢 Run it on your current results\n",
    "print_latex_values_only(judge_df)"
   ]
  },
  {
   "cell_type": "code",
   "execution_count": null,
   "id": "9d20e064-22b2-44f2-b239-38d5665c4033",
   "metadata": {},
   "outputs": [],
   "source": []
  }
 ],
 "metadata": {
  "kernelspec": {
   "display_name": "conda_pytorch_p310",
   "language": "python",
   "name": "conda_pytorch_p310"
  },
  "language_info": {
   "codemirror_mode": {
    "name": "ipython",
    "version": 3
   },
   "file_extension": ".py",
   "mimetype": "text/x-python",
   "name": "python",
   "nbconvert_exporter": "python",
   "pygments_lexer": "ipython3",
   "version": "3.10.14"
  }
 },
 "nbformat": 4,
 "nbformat_minor": 5
}

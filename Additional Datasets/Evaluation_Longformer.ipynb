{
 "cells": [
  {
   "cell_type": "code",
   "execution_count": null,
   "id": "5639ff5d-867d-4563-9858-be35b5dc13d8",
   "metadata": {
    "tags": []
   },
   "outputs": [],
   "source": [
    "!pip install nltk bert-score\n",
    "!pip install rouge-metric"
   ]
  },
  {
   "cell_type": "code",
   "execution_count": null,
   "id": "0c204078-9af1-4962-bf4d-0e655f607c06",
   "metadata": {
    "tags": []
   },
   "outputs": [],
   "source": [
    "import pandas as pd\n",
    "\n",
    "# Load the saved CSV file\n",
    "longformer_generated_summaries = pd.read_csv(\"Longformer_soap_generated_summaries.csv\")\n",
    "\n",
    "# Verify the data\n",
    "print(longformer_generated_summaries.head(2))"
   ]
  },
  {
   "cell_type": "code",
   "execution_count": null,
   "id": "f1ded385-c124-47c6-a065-cd704f918a9c",
   "metadata": {
    "tags": []
   },
   "outputs": [],
   "source": [
    "print(longformer_generated_summaries['input'].iloc[50])"
   ]
  },
  {
   "cell_type": "code",
   "execution_count": null,
   "id": "a43f60d0-45a7-49c0-969d-7208d6ba5fdc",
   "metadata": {
    "tags": []
   },
   "outputs": [],
   "source": [
    "print(longformer_generated_summaries['generated_summary'].iloc[50])"
   ]
  },
  {
   "cell_type": "code",
   "execution_count": null,
   "id": "25838670-c517-44a6-81c0-15f5283ad61c",
   "metadata": {
    "tags": []
   },
   "outputs": [],
   "source": [
    "from tqdm import tqdm\n",
    "import pandas as pd\n",
    "from nltk.translate.bleu_score import sentence_bleu, SmoothingFunction\n",
    "from bert_score import score\n",
    "from rouge_metric import PyRouge\n",
    "\n",
    "def clean_text(text):\n",
    "    \"\"\"Clean and normalize text.\"\"\"\n",
    "    if pd.isna(text) or not isinstance(text, str):\n",
    "        return \"\"\n",
    "    return ' '.join(text.strip().lower().split())  # Lowercase, strip spaces, normalize.\n",
    "\n",
    "def compute_bleu_scores(reference, candidate):\n",
    "    \"\"\"Compute BLEU-1 and BLEU-2 scores.\"\"\"\n",
    "    try:\n",
    "        smoothing_function = SmoothingFunction().method1\n",
    "        # Compute BLEU-1\n",
    "        bleu1 = sentence_bleu(\n",
    "            [reference.split()],\n",
    "            candidate.split(),\n",
    "            weights=(1.0, 0, 0, 0),  # Only unigrams\n",
    "            smoothing_function=smoothing_function\n",
    "        )\n",
    "        # Compute BLEU-2\n",
    "        bleu2 = sentence_bleu(\n",
    "            [reference.split()],\n",
    "            candidate.split(),\n",
    "            weights=(0.5, 0.5, 0, 0),  # Unigrams and bigrams only\n",
    "            smoothing_function=smoothing_function\n",
    "        )\n",
    "        return bleu1 * 100, bleu2 * 100  # Convert to percentages\n",
    "    except Exception as e:\n",
    "        print(f\"BLEU Error: {e}\")\n",
    "        print(f\"Reference: '{reference[:50]}...'\")\n",
    "        print(f\"Candidate: '{candidate[:50]}...'\")\n",
    "        return 0.0, 0.0\n",
    "\n",
    "def compute_rouge_l(reference, candidate):\n",
    "    \"\"\"Compute ROUGE-L score.\"\"\"\n",
    "    rouge = PyRouge(rouge_n=(1, 2), rouge_l=True, rouge_w=False,\n",
    "                    rouge_w_weight=1.2, rouge_s=False, rouge_su=False, skip_gap=4)\n",
    "    try:\n",
    "        scores = rouge.evaluate([candidate], [[reference]])\n",
    "        return scores['rouge-l']['f'] * 100  # Convert to percentage\n",
    "    except Exception as e:\n",
    "        print(f\"ROUGE-L Error: {e}\")\n",
    "        print(f\"Reference: '{reference[:50]}...'\")\n",
    "        print(f\"Candidate: '{candidate[:50]}...'\")\n",
    "        return 0.0\n",
    "\n",
    "def compute_bert_score_batched(references, candidates, batch_size=32):\n",
    "    \"\"\"Compute BERTScore in batches.\"\"\"\n",
    "    all_P, all_R, all_F1 = [], [], []\n",
    "    for i in range(0, len(references), batch_size):\n",
    "        batch_refs = references[i:i + batch_size]\n",
    "        batch_cands = candidates[i:i + batch_size]\n",
    "        try:\n",
    "            P, R, F1 = score(batch_cands, batch_refs, lang=\"en\", verbose=False)\n",
    "            all_P.extend([p * 100 for p in P.tolist()])  # Convert to percentages\n",
    "            all_R.extend([r * 100 for r in R.tolist()])  # Convert to percentages\n",
    "            all_F1.extend([f * 100 for f in F1.tolist()])  # Convert to percentages\n",
    "        except Exception as e:\n",
    "            print(f\"BERTScore Error in batch {i}: {e}\")\n",
    "            batch_len = len(batch_refs)\n",
    "            all_P.extend([0.0] * batch_len)\n",
    "            all_R.extend([0.0] * batch_len)\n",
    "            all_F1.extend([0.0] * batch_len)\n",
    "    return all_P, all_R, all_F1\n",
    "\n",
    "def evaluate_summaries(df):\n",
    "    bleu1_scores, bleu2_scores, rouge_l_scores = [], [], []\n",
    "    print(\"Computing BLEU and ROUGE-L scores...\")\n",
    "    \n",
    "    with tqdm(total=len(df), desc=\"Processing Rows\", unit=\"row\") as pbar:\n",
    "        for _, row in df.iterrows():\n",
    "            reference = clean_text(row['output'])\n",
    "            candidate = clean_text(row['generated_summary'])  # Updated field name\n",
    "            \n",
    "            if not reference or not candidate:\n",
    "                print(f\"Empty text - Reference: '{reference}', Candidate: '{candidate}'\")\n",
    "                bleu1_scores.append(0.0)\n",
    "                bleu2_scores.append(0.0)\n",
    "                rouge_l_scores.append(0.0)\n",
    "            else:\n",
    "                bleu1, bleu2 = compute_bleu_scores(reference, candidate)\n",
    "                bleu1_scores.append(bleu1)\n",
    "                bleu2_scores.append(bleu2)\n",
    "                rouge_l_scores.append(compute_rouge_l(reference, candidate))\n",
    "            \n",
    "            pbar.update(1)\n",
    "    \n",
    "    print(\"\\nComputing BERTScore...\")\n",
    "    references = [clean_text(text) for text in df['output'].tolist()]\n",
    "    candidates = [clean_text(text) for text in df['generated_summary'].tolist()]\n",
    "    bert_p, bert_r, bert_f1 = compute_bert_score_batched(references, candidates)\n",
    "    \n",
    "    # Add all scores to DataFrame\n",
    "    df['bleu1'] = bleu1_scores\n",
    "    df['bleu2'] = bleu2_scores\n",
    "    df['rouge_l'] = rouge_l_scores\n",
    "    df['bert_p'] = bert_p\n",
    "    df['bert_r'] = bert_r\n",
    "    df['bert_f1'] = bert_f1\n",
    "    \n",
    "    # Print evaluation metrics\n",
    "    print(\"\\nEvaluation Metrics (in percentages):\")\n",
    "    print(\"Average BLEU-1:\", df['bleu1'].mean(), \"%\")\n",
    "    print(\"Average BLEU-2:\", df['bleu2'].mean(), \"%\")\n",
    "    print(\"Average ROUGE-L:\", df['rouge_l'].mean(), \"%\")\n",
    "    print(\"Average BERT P:\", df['bert_p'].mean(), \"%\")\n",
    "    print(\"Average BERT R:\", df['bert_r'].mean(), \"%\")\n",
    "    print(\"Average BERT F1:\", df['bert_f1'].mean(), \"%\")\n",
    "    \n",
    "    # Print standard deviations\n",
    "    print(\"\\nStandard Deviations (in percentages):\")\n",
    "    print(\"BLEU-1 Std:\", df['bleu1'].std(), \"%\")\n",
    "    print(\"BLEU-2 Std:\", df['bleu2'].std(), \"%\")\n",
    "    print(\"ROUGE-L Std:\", df['rouge_l'].std(), \"%\")\n",
    "    print(\"BERT F1 Std:\", df['bert_f1'].std(), \"%\")\n",
    "    print(\"BERT P Std:\", df['bert_p'].std(), \"%\")\n",
    "    print(\"BERT R Std:\", df['bert_r'].std(), \"%\")\n",
    "    \n",
    "    \n",
    "    return df\n",
    "\n",
    "# Updated DataFrame Name\n",
    "longformer_generated_summaries = evaluate_summaries(longformer_generated_summaries)\n",
    "longformer_generated_summaries.to_csv(\"longformer_evaluation_results.csv\", index=False)\n",
    "print(\"\\nResults saved to 'longformer_evaluation_results.csv'\")\n"
   ]
  },
  {
   "cell_type": "markdown",
   "id": "09d31551-fe04-47d2-88ec-022f455fee99",
   "metadata": {},
   "source": [
    "### LLM as a judge"
   ]
  },
  {
   "cell_type": "code",
   "execution_count": null,
   "id": "334bb0a1-70ba-46ae-a244-ae0d9f8d5466",
   "metadata": {
    "tags": []
   },
   "outputs": [],
   "source": [
    "\n",
    "from huggingface_hub import login\n",
    "import os\n",
    "\n",
    "# Use token from environment variable (safer)\n",
    "login(os.getenv(\"HF_TOKEN\"))\n"
   ]
  },
  {
   "cell_type": "code",
   "execution_count": null,
   "id": "f477ed60-ae19-4e18-a544-00086e9316e3",
   "metadata": {
    "tags": []
   },
   "outputs": [],
   "source": [
    "# Install Hugging Face Transformers\n",
    "!pip install transformers\n",
    "!pip install sacremoses\n",
    "!pip install bitsandbytes accelerate"
   ]
  },
  {
   "cell_type": "code",
   "execution_count": null,
   "id": "d77b0e2b-22b6-4d99-8ea9-7ac71bacca4a",
   "metadata": {
    "tags": []
   },
   "outputs": [],
   "source": [
    "import torch\n",
    "import pandas as pd\n",
    "from tqdm import tqdm\n",
    "from transformers import AutoTokenizer, AutoModelForCausalLM, BitsAndBytesConfig\n",
    "\n",
    "# Step 1: Use 8-bit quantization for efficient inference\n",
    "bnb_config = BitsAndBytesConfig(\n",
    "    load_in_8bit=True,\n",
    "    bnb_8bit_compute_dtype=torch.float16,\n",
    "    llm_int8_enable_fp32_cpu_offload=True\n",
    ")\n",
    "\n",
    "# Step 2: Load tokenizer & model (Gemma 3 1B Instruction-tuned)\n",
    "model_id = \"google/gemma-3-1b-it\"\n",
    "\n",
    "tokenizer = AutoTokenizer.from_pretrained(model_id, trust_remote_code=True)\n",
    "model = AutoModelForCausalLM.from_pretrained(\n",
    "    model_id,\n",
    "    quantization_config=bnb_config,\n",
    "    device_map=\"auto\",\n",
    "    trust_remote_code=True\n",
    ").eval()\n",
    "\n",
    "# Step 3: Use your existing DataFrame\n",
    "df = longformer_generated_summaries\n",
    "\n",
    "# Step 4: Define the evaluation prompt\n",
    "def create_prompt(input_text, output_text, summary):\n",
    "    return f\"\"\"You are a helpful clinical NLP evaluation assistant.\n",
    "\n",
    "Input Text:\n",
    "{input_text}\n",
    "\n",
    "Reference Summary:\n",
    "{output_text}\n",
    "\n",
    "Generated Summary:\n",
    "{summary}\n",
    "\n",
    "Evaluate the generated summary using the following criteria:\n",
    "1. Does it capture the main ideas of the reference summary? (Yes/No)\n",
    "2. Is it coherent and logically structured? (Yes/No)\n",
    "3. Are there factual inaccuracies or important omissions? (List any)\n",
    "4. Rate the summary from 1 to 5 based on how well it captures the reference summary.\n",
    "\n",
    "Please give your evaluation in this format:\n",
    "- Captures main ideas: [Yes/No]\n",
    "- Coherence: [Yes/No]\n",
    "- Issues: [Write here or 'None']\n",
    "- Score: [1-5]\n",
    "\"\"\"\n",
    "\n",
    "# Step 5: Run evaluation\n",
    "results = []\n",
    "for index, row in tqdm(df.iterrows(), total=df.shape[0]):\n",
    "    prompt = create_prompt(row['input'], row['output'], row['generated_summary'])\n",
    "    inputs = tokenizer(prompt, return_tensors=\"pt\", truncation=True, max_length=1024).to(model.device)\n",
    "\n",
    "    # Use max_new_tokens instead of max_length to avoid the OOM error\n",
    "    outputs = model.generate(**inputs, max_new_tokens=150)\n",
    "    eval_response = tokenizer.decode(outputs[0], skip_special_tokens=True)\n",
    "    results.append(eval_response)\n",
    "\n",
    "# Step 6: Save evaluations to the DataFrame\n",
    "df['evaluation_gemma'] = results\n",
    "\n",
    "# Optional: Save to file\n",
    "df.to_csv(\"evaluated_summaries_gemma.csv\", index=False)\n",
    "print(df[['input', 'generated_summary', 'evaluation_gemma']].head())\n"
   ]
  },
  {
   "cell_type": "code",
   "execution_count": null,
   "id": "1ce0454c-d01e-47ed-8285-add4d0344832",
   "metadata": {
    "tags": []
   },
   "outputs": [],
   "source": [
    "print(df['evaluation_gemma'].iloc[5])"
   ]
  },
  {
   "cell_type": "code",
   "execution_count": null,
   "id": "c35b7d07-625d-48c7-82f8-afb5af673575",
   "metadata": {},
   "outputs": [],
   "source": []
  }
 ],
 "metadata": {
  "kernelspec": {
   "display_name": "conda_pytorch_p310",
   "language": "python",
   "name": "conda_pytorch_p310"
  },
  "language_info": {
   "codemirror_mode": {
    "name": "ipython",
    "version": 3
   },
   "file_extension": ".py",
   "mimetype": "text/x-python",
   "name": "python",
   "nbconvert_exporter": "python",
   "pygments_lexer": "ipython3",
   "version": "3.10.14"
  }
 },
 "nbformat": 4,
 "nbformat_minor": 5
}

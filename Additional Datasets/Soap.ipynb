{
 "cells": [
  {
   "cell_type": "code",
   "execution_count": 1,
   "id": "d5d0eaae-83cf-4198-8c04-c2c386ca0fb1",
   "metadata": {
    "tags": []
   },
   "outputs": [
    {
     "name": "stdout",
     "output_type": "stream",
     "text": [
      "Collecting datasets\n",
      "  Downloading datasets-3.5.0-py3-none-any.whl.metadata (19 kB)\n",
      "Requirement already satisfied: filelock in /home/ec2-user/anaconda3/envs/pytorch_p310/lib/python3.10/site-packages (from datasets) (3.17.0)\n",
      "Requirement already satisfied: numpy>=1.17 in /home/ec2-user/anaconda3/envs/pytorch_p310/lib/python3.10/site-packages (from datasets) (1.26.4)\n",
      "Requirement already satisfied: pyarrow>=15.0.0 in /home/ec2-user/anaconda3/envs/pytorch_p310/lib/python3.10/site-packages (from datasets) (19.0.0)\n",
      "Collecting dill<0.3.9,>=0.3.0 (from datasets)\n",
      "  Downloading dill-0.3.8-py3-none-any.whl.metadata (10 kB)\n",
      "Requirement already satisfied: pandas in /home/ec2-user/anaconda3/envs/pytorch_p310/lib/python3.10/site-packages (from datasets) (2.2.3)\n",
      "Requirement already satisfied: requests>=2.32.2 in /home/ec2-user/anaconda3/envs/pytorch_p310/lib/python3.10/site-packages (from datasets) (2.32.3)\n",
      "Requirement already satisfied: tqdm>=4.66.3 in /home/ec2-user/anaconda3/envs/pytorch_p310/lib/python3.10/site-packages (from datasets) (4.67.1)\n",
      "Collecting xxhash (from datasets)\n",
      "  Downloading xxhash-3.5.0-cp310-cp310-manylinux_2_17_x86_64.manylinux2014_x86_64.whl.metadata (12 kB)\n",
      "Collecting multiprocess<0.70.17 (from datasets)\n",
      "  Downloading multiprocess-0.70.16-py310-none-any.whl.metadata (7.2 kB)\n",
      "Collecting fsspec<=2024.12.0,>=2023.1.0 (from fsspec[http]<=2024.12.0,>=2023.1.0->datasets)\n",
      "  Downloading fsspec-2024.12.0-py3-none-any.whl.metadata (11 kB)\n",
      "Collecting aiohttp (from datasets)\n",
      "  Downloading aiohttp-3.11.15-cp310-cp310-manylinux_2_17_x86_64.manylinux2014_x86_64.whl.metadata (7.7 kB)\n",
      "Requirement already satisfied: huggingface-hub>=0.24.0 in /home/ec2-user/anaconda3/envs/pytorch_p310/lib/python3.10/site-packages (from datasets) (0.30.1)\n",
      "Requirement already satisfied: packaging in /home/ec2-user/anaconda3/envs/pytorch_p310/lib/python3.10/site-packages (from datasets) (21.3)\n",
      "Requirement already satisfied: pyyaml>=5.1 in /home/ec2-user/anaconda3/envs/pytorch_p310/lib/python3.10/site-packages (from datasets) (6.0.2)\n",
      "Collecting aiohappyeyeballs>=2.3.0 (from aiohttp->datasets)\n",
      "  Downloading aiohappyeyeballs-2.6.1-py3-none-any.whl.metadata (5.9 kB)\n",
      "Collecting aiosignal>=1.1.2 (from aiohttp->datasets)\n",
      "  Downloading aiosignal-1.3.2-py2.py3-none-any.whl.metadata (3.8 kB)\n",
      "Collecting async-timeout<6.0,>=4.0 (from aiohttp->datasets)\n",
      "  Downloading async_timeout-5.0.1-py3-none-any.whl.metadata (5.1 kB)\n",
      "Requirement already satisfied: attrs>=17.3.0 in /home/ec2-user/anaconda3/envs/pytorch_p310/lib/python3.10/site-packages (from aiohttp->datasets) (23.2.0)\n",
      "Collecting frozenlist>=1.1.1 (from aiohttp->datasets)\n",
      "  Downloading frozenlist-1.5.0-cp310-cp310-manylinux_2_5_x86_64.manylinux1_x86_64.manylinux_2_17_x86_64.manylinux2014_x86_64.whl.metadata (13 kB)\n",
      "Collecting multidict<7.0,>=4.5 (from aiohttp->datasets)\n",
      "  Downloading multidict-6.3.0-cp310-cp310-manylinux_2_17_x86_64.manylinux2014_x86_64.whl.metadata (5.1 kB)\n",
      "Collecting propcache>=0.2.0 (from aiohttp->datasets)\n",
      "  Downloading propcache-0.3.1-cp310-cp310-manylinux_2_17_x86_64.manylinux2014_x86_64.whl.metadata (10 kB)\n",
      "Collecting yarl<2.0,>=1.17.0 (from aiohttp->datasets)\n",
      "  Downloading yarl-1.18.3-cp310-cp310-manylinux_2_17_x86_64.manylinux2014_x86_64.whl.metadata (69 kB)\n",
      "Requirement already satisfied: typing-extensions>=3.7.4.3 in /home/ec2-user/anaconda3/envs/pytorch_p310/lib/python3.10/site-packages (from huggingface-hub>=0.24.0->datasets) (4.12.2)\n",
      "Requirement already satisfied: pyparsing!=3.0.5,>=2.0.2 in /home/ec2-user/anaconda3/envs/pytorch_p310/lib/python3.10/site-packages (from packaging->datasets) (3.2.1)\n",
      "Requirement already satisfied: charset_normalizer<4,>=2 in /home/ec2-user/anaconda3/envs/pytorch_p310/lib/python3.10/site-packages (from requests>=2.32.2->datasets) (3.4.1)\n",
      "Requirement already satisfied: idna<4,>=2.5 in /home/ec2-user/anaconda3/envs/pytorch_p310/lib/python3.10/site-packages (from requests>=2.32.2->datasets) (3.10)\n",
      "Requirement already satisfied: urllib3<3,>=1.21.1 in /home/ec2-user/anaconda3/envs/pytorch_p310/lib/python3.10/site-packages (from requests>=2.32.2->datasets) (2.3.0)\n",
      "Requirement already satisfied: certifi>=2017.4.17 in /home/ec2-user/anaconda3/envs/pytorch_p310/lib/python3.10/site-packages (from requests>=2.32.2->datasets) (2025.1.31)\n",
      "Requirement already satisfied: python-dateutil>=2.8.2 in /home/ec2-user/anaconda3/envs/pytorch_p310/lib/python3.10/site-packages (from pandas->datasets) (2.9.0.post0)\n",
      "Requirement already satisfied: pytz>=2020.1 in /home/ec2-user/anaconda3/envs/pytorch_p310/lib/python3.10/site-packages (from pandas->datasets) (2024.1)\n",
      "Requirement already satisfied: tzdata>=2022.7 in /home/ec2-user/anaconda3/envs/pytorch_p310/lib/python3.10/site-packages (from pandas->datasets) (2025.1)\n",
      "Requirement already satisfied: six>=1.5 in /home/ec2-user/anaconda3/envs/pytorch_p310/lib/python3.10/site-packages (from python-dateutil>=2.8.2->pandas->datasets) (1.17.0)\n",
      "Downloading datasets-3.5.0-py3-none-any.whl (491 kB)\n",
      "Downloading dill-0.3.8-py3-none-any.whl (116 kB)\n",
      "Downloading fsspec-2024.12.0-py3-none-any.whl (183 kB)\n",
      "Downloading aiohttp-3.11.15-cp310-cp310-manylinux_2_17_x86_64.manylinux2014_x86_64.whl (1.6 MB)\n",
      "\u001b[2K   \u001b[90m━━━━━━━━━━━━━━━━━━━━━━━━━━━━━━━━━━━━━━━━\u001b[0m \u001b[32m1.6/1.6 MB\u001b[0m \u001b[31m12.7 MB/s\u001b[0m eta \u001b[36m0:00:00\u001b[0m\n",
      "\u001b[?25hDownloading multiprocess-0.70.16-py310-none-any.whl (134 kB)\n",
      "Downloading xxhash-3.5.0-cp310-cp310-manylinux_2_17_x86_64.manylinux2014_x86_64.whl (194 kB)\n",
      "Downloading aiohappyeyeballs-2.6.1-py3-none-any.whl (15 kB)\n",
      "Downloading aiosignal-1.3.2-py2.py3-none-any.whl (7.6 kB)\n",
      "Downloading async_timeout-5.0.1-py3-none-any.whl (6.2 kB)\n",
      "Downloading frozenlist-1.5.0-cp310-cp310-manylinux_2_5_x86_64.manylinux1_x86_64.manylinux_2_17_x86_64.manylinux2014_x86_64.whl (241 kB)\n",
      "Downloading multidict-6.3.0-cp310-cp310-manylinux_2_17_x86_64.manylinux2014_x86_64.whl (229 kB)\n",
      "Downloading propcache-0.3.1-cp310-cp310-manylinux_2_17_x86_64.manylinux2014_x86_64.whl (206 kB)\n",
      "Downloading yarl-1.18.3-cp310-cp310-manylinux_2_17_x86_64.manylinux2014_x86_64.whl (319 kB)\n",
      "Installing collected packages: xxhash, propcache, multidict, fsspec, frozenlist, dill, async-timeout, aiohappyeyeballs, yarl, multiprocess, aiosignal, aiohttp, datasets\n",
      "  Attempting uninstall: fsspec\n",
      "    Found existing installation: fsspec 2025.2.0\n",
      "    Uninstalling fsspec-2025.2.0:\n",
      "      Successfully uninstalled fsspec-2025.2.0\n",
      "  Attempting uninstall: dill\n",
      "    Found existing installation: dill 0.3.9\n",
      "    Uninstalling dill-0.3.9:\n",
      "      Successfully uninstalled dill-0.3.9\n",
      "  Attempting uninstall: multiprocess\n",
      "    Found existing installation: multiprocess 0.70.17\n",
      "    Uninstalling multiprocess-0.70.17:\n",
      "      Successfully uninstalled multiprocess-0.70.17\n",
      "\u001b[31mERROR: pip's dependency resolver does not currently take into account all the packages that are installed. This behaviour is the source of the following dependency conflicts.\n",
      "pathos 0.3.3 requires dill>=0.3.9, but you have dill 0.3.8 which is incompatible.\n",
      "pathos 0.3.3 requires multiprocess>=0.70.17, but you have multiprocess 0.70.16 which is incompatible.\u001b[0m\u001b[31m\n",
      "\u001b[0mSuccessfully installed aiohappyeyeballs-2.6.1 aiohttp-3.11.15 aiosignal-1.3.2 async-timeout-5.0.1 datasets-3.5.0 dill-0.3.8 frozenlist-1.5.0 fsspec-2024.12.0 multidict-6.3.0 multiprocess-0.70.16 propcache-0.3.1 xxhash-3.5.0 yarl-1.18.3\n"
     ]
    }
   ],
   "source": [
    "!pip install datasets"
   ]
  },
  {
   "cell_type": "code",
   "execution_count": 4,
   "id": "56cd7c91-eff5-4dd0-930b-c244ab84c420",
   "metadata": {
    "tags": []
   },
   "outputs": [
    {
     "name": "stdout",
     "output_type": "stream",
     "text": [
      "                                               input  \\\n",
      "0  Would you mind by start starting to tell me ab...   \n",
      "1  How may I help you? Hi, umm, so I've had a sor...   \n",
      "2  What brings you in today? So I so I have COPD ...   \n",
      "3  How may I help you? So I've been having a lot ...   \n",
      "4  How may I help you? Hi I'm, I have been having...   \n",
      "\n",
      "                                              output  \\\n",
      "0  Subjective:\\n- Presenting with worsening short...   \n",
      "1  Subjective:\\n- Sore throat for 3 days, not imp...   \n",
      "2  Subjective:\\n- Presenting with worsening COPD ...   \n",
      "3  Subjective:\\n- Presenting with worsening short...   \n",
      "4  Subjective:\\n- Nasal obstruction and discharge...   \n",
      "\n",
      "                                         instruction  \n",
      "0  Generate a SOAP (Subjective, Objective, Assesm...  \n",
      "1  Generate a SOAP (Subjective, Objective, Assesm...  \n",
      "2  Generate a SOAP (Subjective, Objective, Assesm...  \n",
      "3  Generate a SOAP (Subjective, Objective, Assesm...  \n",
      "4  Generate a SOAP (Subjective, Objective, Assesm...  \n",
      "<class 'pandas.core.frame.DataFrame'>\n",
      "RangeIndex: 1473 entries, 0 to 1472\n",
      "Data columns (total 3 columns):\n",
      " #   Column       Non-Null Count  Dtype \n",
      "---  ------       --------------  ----- \n",
      " 0   input        1473 non-null   object\n",
      " 1   output       1473 non-null   object\n",
      " 2   instruction  1473 non-null   object\n",
      "dtypes: object(3)\n",
      "memory usage: 34.6+ KB\n",
      "None\n"
     ]
    }
   ],
   "source": [
    "from datasets import load_dataset\n",
    "import pandas as pd\n",
    "\n",
    "# Load the dataset\n",
    "ds = load_dataset(\"SubashNeupane/dataset_SOAP_summary\")\n",
    "\n",
    "# Convert the 'train' dataset split to a DataFrame\n",
    "df_train = ds['train'].to_pandas()\n",
    "\n",
    "# Now you can use DataFrame operations like .head() to see the data\n",
    "print(df_train.head())\n",
    "\n",
    "# If you want to explore other parts of the dataset (like 'test' or 'validation' if they exist)\n",
    "# you can convert them to DataFrames in a similar manner:\n",
    "if 'test' in ds:\n",
    "    df_test = ds['test'].to_pandas()\n",
    "    print(df_test.head())\n",
    "\n",
    "if 'validation' in ds:\n",
    "    df_validation = ds['validation'].to_pandas()\n",
    "    print(df_validation.head())\n",
    "\n",
    "# You can also check the structure of the DataFrame\n",
    "print(df_train.info())"
   ]
  },
  {
   "cell_type": "code",
   "execution_count": 5,
   "id": "139803f3-2fc8-4613-85c0-2a0225fcfdf5",
   "metadata": {
    "tags": []
   },
   "outputs": [
    {
     "data": {
      "text/html": [
       "<div>\n",
       "<style scoped>\n",
       "    .dataframe tbody tr th:only-of-type {\n",
       "        vertical-align: middle;\n",
       "    }\n",
       "\n",
       "    .dataframe tbody tr th {\n",
       "        vertical-align: top;\n",
       "    }\n",
       "\n",
       "    .dataframe thead th {\n",
       "        text-align: right;\n",
       "    }\n",
       "</style>\n",
       "<table border=\"1\" class=\"dataframe\">\n",
       "  <thead>\n",
       "    <tr style=\"text-align: right;\">\n",
       "      <th></th>\n",
       "      <th>input</th>\n",
       "      <th>output</th>\n",
       "      <th>instruction</th>\n",
       "    </tr>\n",
       "  </thead>\n",
       "  <tbody>\n",
       "    <tr>\n",
       "      <th>0</th>\n",
       "      <td>Would you mind by start starting to tell me ab...</td>\n",
       "      <td>Subjective:\\n- Presenting with worsening short...</td>\n",
       "      <td>Generate a SOAP (Subjective, Objective, Assesm...</td>\n",
       "    </tr>\n",
       "    <tr>\n",
       "      <th>1</th>\n",
       "      <td>How may I help you? Hi, umm, so I've had a sor...</td>\n",
       "      <td>Subjective:\\n- Sore throat for 3 days, not imp...</td>\n",
       "      <td>Generate a SOAP (Subjective, Objective, Assesm...</td>\n",
       "    </tr>\n",
       "    <tr>\n",
       "      <th>2</th>\n",
       "      <td>What brings you in today? So I so I have COPD ...</td>\n",
       "      <td>Subjective:\\n- Presenting with worsening COPD ...</td>\n",
       "      <td>Generate a SOAP (Subjective, Objective, Assesm...</td>\n",
       "    </tr>\n",
       "    <tr>\n",
       "      <th>3</th>\n",
       "      <td>How may I help you? So I've been having a lot ...</td>\n",
       "      <td>Subjective:\\n- Presenting with worsening short...</td>\n",
       "      <td>Generate a SOAP (Subjective, Objective, Assesm...</td>\n",
       "    </tr>\n",
       "    <tr>\n",
       "      <th>4</th>\n",
       "      <td>How may I help you? Hi I'm, I have been having...</td>\n",
       "      <td>Subjective:\\n- Nasal obstruction and discharge...</td>\n",
       "      <td>Generate a SOAP (Subjective, Objective, Assesm...</td>\n",
       "    </tr>\n",
       "  </tbody>\n",
       "</table>\n",
       "</div>"
      ],
      "text/plain": [
       "                                               input  \\\n",
       "0  Would you mind by start starting to tell me ab...   \n",
       "1  How may I help you? Hi, umm, so I've had a sor...   \n",
       "2  What brings you in today? So I so I have COPD ...   \n",
       "3  How may I help you? So I've been having a lot ...   \n",
       "4  How may I help you? Hi I'm, I have been having...   \n",
       "\n",
       "                                              output  \\\n",
       "0  Subjective:\\n- Presenting with worsening short...   \n",
       "1  Subjective:\\n- Sore throat for 3 days, not imp...   \n",
       "2  Subjective:\\n- Presenting with worsening COPD ...   \n",
       "3  Subjective:\\n- Presenting with worsening short...   \n",
       "4  Subjective:\\n- Nasal obstruction and discharge...   \n",
       "\n",
       "                                         instruction  \n",
       "0  Generate a SOAP (Subjective, Objective, Assesm...  \n",
       "1  Generate a SOAP (Subjective, Objective, Assesm...  \n",
       "2  Generate a SOAP (Subjective, Objective, Assesm...  \n",
       "3  Generate a SOAP (Subjective, Objective, Assesm...  \n",
       "4  Generate a SOAP (Subjective, Objective, Assesm...  "
      ]
     },
     "execution_count": 5,
     "metadata": {},
     "output_type": "execute_result"
    }
   ],
   "source": [
    "df_train.head(5)"
   ]
  },
  {
   "cell_type": "code",
   "execution_count": 7,
   "id": "39a8ee7c-278a-4773-9030-4ee297e7ab8b",
   "metadata": {
    "tags": []
   },
   "outputs": [
    {
     "name": "stdout",
     "output_type": "stream",
     "text": [
      "How may I help you? Hi I'm, I have been having this nasal obstruction and discharge for the past week and it doesn't seem to be going away and it's bothering me so I thought I would get it checked out by you. OK, for sure. Uhm, could you describe the discharge? Yeah, it's a. It's mostly clear, it doesn't, it doesn't have a color to it. OK, so no yellow, green or or red to indicate any blood? No. OK, and you mentioned, so with the obstruction, have you had difficulties breathing? Um a little bit, I just need to, and is mostly at night. I just need to shift to one side or the other to like unblock my airways. I see OK and have you been having any pain on your face? Like I like kind of over your cheeks or over your forehead? No. OK, how about any headaches? No headaches. All right, have you had any changes or to your sense of smell or any loss of smell? Uhm no, maybe a little bit, but no, not really. I can still eat. I can still smell like candles and things like that so, maybe go with no. OK. Have you had any changes to your sense of taste? No. OK. Have you had any eye redness or or any eye pain? No. Any ear pain or ear discharge? No. Any changes to the vision or hearing? Uh, no. OK, have you had a sore throat? No. Have you had a cough? No. Have you had any shortness of breath Uh, no. Have you had any wheezing? No. OK. And have you coughed up any blood? No. OK, and have you had any chest pain? No. Have you had any lightheadedness or dizziness? Uh, no. Have you felt like your hearts beating really fast or racing? No. OK, have you had any fevers or chills? No. Have you had a night sweats? No. Have you had any unexpected weight loss? No. OK, have you had any loss of appetite? Uh, nope. OK, have you had any nausea or vomiting? No. Have you had any abdominal pain? No. Have you had any diarrhea or constipation? No. Have you had any painful urination or urinary frequency? No. OK, have you had any skin rashes? No. Have you had any muscle aches or joint pains? No. Have you had any memory loss or confusion? No. OK, and how has your energy been? Have you had fatigue or malaise? No, nothing like that. OK. Uhm, and have you had any sneezing? No. OK. Uhm, and, uh, are you healthy? Or, or have you been diagnosed with any medical conditions in the past? No, I'm actually pretty healthy. OK. Have you had any prior surgeries or hospitalizations? Nope. OK, and any allergies like to any medications or any seasonal allergies? Like do you get symptoms like this that change throughout the year? No. OK and sorry, no allergies to medications as well? No allergies to medications. OK, and do you take any medications regularly, either prescribed or over the counter? No, I don't take any medications. OK, and can you tell me about where you're living currently and who you're living with? Uhm, I live by myself right now. I live in an apartment downtown. OK, and are you, got working right now or are you going to school or both? I'm working right now, but I'm working from home. OK, uh, have you been around anybody who's been sick? No one personally, but I do go to the grocery store and the bank and all the essential things. I see, OK. Uhm, and have you have you traveled anywhere recently? No, I haven't. OK. Are you in a relationship? I am. Are you sexually active? I am. OK, could you tell me a little bit about your partner or, or partners? Uhm yeah, so we've been together for the past five years. And yeah, he's the only sexual partner I have. OK, and do you use condoms or birth control? Birth control. OK. Uhm, and any concern for a sexually transmitted infection? No. OK and you smoke cigarettes? I don't. Do you smoke cannabis or use cannabis products? Uh, nope. OK, how about the use of any recreational drugs? No. OK, do you drink alcohol? I do, I'll have like a glass of wine every day. OK. And in the family, are there any heart conditions or lung conditions that run in the family? No. How about things like diabetes or or high blood pressure? Uhm, I don't think so. OK, and uh, are there any cancers in the family? Uhm, there's colon cancer in the family. OK, and who was that and how old were they? Uhm, my grandfather, he was 55. OK. Uhm, alright, and so that was everything that I wanted to ask today on history. Was there anything else that I was maybe forgetting? Uh, no, I think that was it. OK, so with the prominent symptoms of being nasal discharge and obstruction without fever and without, like changes to smell and also without pain, it's most likely a viral rhinosinusitis. Uhm, however, this could have symptoms that overlap with, with COVID, and so we will still end up doing a swab even though the most likely diagnosis is going to be a viral acute rhinosinusitis. OK. Do you have any other questions? No thank you or yeah, thank you. Thank you.\n"
     ]
    }
   ],
   "source": [
    "print(df_train['input'].iloc[4])"
   ]
  },
  {
   "cell_type": "code",
   "execution_count": 6,
   "id": "d1710607-2aaf-4bc4-95a3-9046448736fe",
   "metadata": {
    "tags": []
   },
   "outputs": [
    {
     "name": "stdout",
     "output_type": "stream",
     "text": [
      "Subjective:\n",
      "- Nasal obstruction and discharge for the past week\n",
      "- Discharge: clear, no colour\n",
      "- Obstruction: mild difficulty breathing, mostly at night, relieved by shifting position\n",
      "- No facial pain, headaches, changes in smell or taste, eye redness, eye pain, ear pain, ear discharge, changes in vision or hearing, sore throat, cough, shortness of breath, wheezing, haemoptysis, chest pain, lightheadedness, dizziness, palpitations, fevers, chills, night sweats, unexpected weight loss, loss of appetite, nausea, vomiting, abdominal pain, diarrhoea, constipation, dysuria, urinary frequency, skin rashes, muscle aches, joint pains, memory loss, confusion, fatigue, malaise, or sneezing\n",
      "\n",
      "Past Medical History:\n",
      "- No significant PMHx\n",
      "- No prior surgeries or hospitalisations\n",
      "- No allergies to medications or seasonal allergies\n",
      "- No regular medications\n",
      "\n",
      "Social History:\n",
      "- Lives alone in an apartment downtown\n",
      "- Works from home\n",
      "- No recent travel\n",
      "- In a relationship, sexually active with one partner for the past 5 years, uses birth control\n",
      "- No smoking, cannabis use, or recreational drug use\n",
      "- Drinks alcohol (one glass of wine daily)\n",
      "\n",
      "Family History:\n",
      "- Grandfather had colon cancer at age 55\n",
      "- No known heart or lung conditions, diabetes, or high blood pressure in the family\n",
      "\n",
      "Objective:\n",
      "- No vitals or physical examination findings provided\n",
      "\n",
      "Assessment:\n",
      "- Likely diagnosis: Viral acute rhinosinusitis\n",
      "\n",
      "Plan:\n",
      "- COVID-19 swab to rule out overlapping symptoms with COVID-19\n"
     ]
    }
   ],
   "source": [
    "print(df_train['output'].iloc[4])"
   ]
  },
  {
   "cell_type": "code",
   "execution_count": 9,
   "id": "2559850c-8565-467f-a5d8-5cb049366c2b",
   "metadata": {
    "tags": []
   },
   "outputs": [
    {
     "name": "stdout",
     "output_type": "stream",
     "text": [
      "Generate a SOAP (Subjective, Objective, Assesment , and Plan) notes based on the provided input (patient-doctor conversation).Only include information explicitly stated in the transcript. Do not add any assumptions or details not present in the provided information. If certain sections lack information, simply leave them blank. Use bullet points for clarity and organization. Do not provide any pre- or post-statements.\n"
     ]
    }
   ],
   "source": [
    "print(df_train['instruction'].iloc[4])"
   ]
  },
  {
   "cell_type": "code",
   "execution_count": 12,
   "id": "acc2a6c6-91f2-4bee-80cb-b9af4834b883",
   "metadata": {
    "tags": []
   },
   "outputs": [
    {
     "data": {
      "text/plain": [
       "input          1471\n",
       "output         1471\n",
       "instruction       1\n",
       "dtype: int64"
      ]
     },
     "execution_count": 12,
     "metadata": {},
     "output_type": "execute_result"
    }
   ],
   "source": [
    "df_train.nunique()"
   ]
  },
  {
   "cell_type": "code",
   "execution_count": 10,
   "id": "a36f458f-aa8e-4d70-89ce-ee5360891b88",
   "metadata": {
    "tags": []
   },
   "outputs": [],
   "source": [
    "sample_df = df_train.sample(n=100, random_state=42)\n"
   ]
  },
  {
   "cell_type": "code",
   "execution_count": 13,
   "id": "e9585437-dbbd-472a-9900-02166d51cc73",
   "metadata": {
    "tags": []
   },
   "outputs": [
    {
     "name": "stdout",
     "output_type": "stream",
     "text": [
      "                                                  input  \\\n",
      "852   Good afternoon, champ, how you holding up? Goo...   \n",
      "184   What brings you in here today? Hi, I'm um, I'm...   \n",
      "1261  Do you have any known allergies to medications...   \n",
      "67    How may I help you today? Yeah I've had, a fev...   \n",
      "220   It sounds like that you're experiencing some c...   \n",
      "\n",
      "                                                 output  \n",
      "852   Subjective:\\n- Symptoms: Lower back pain, radi...  \n",
      "184   Subjective:\\n- Presenting with dry cough for 1...  \n",
      "1261  Subjective:\\n- No known allergies to medicatio...  \n",
      "67    Subjective:\\n- Fever and dry cough started 4 d...  \n",
      "220   Subjective:\\n- Presenting with chest pain for ...  \n"
     ]
    }
   ],
   "source": [
    "# Select only the 'input' and 'output' columns\n",
    "df_filtered = df_train[['input', 'output']]\n",
    "\n",
    "# Take a random sample of 100 rows\n",
    "sample_df = df_filtered.sample(n=100, random_state=42)\n",
    "\n",
    "# View the sample\n",
    "print(sample_df.head())\n"
   ]
  },
  {
   "cell_type": "code",
   "execution_count": 14,
   "id": "5997c37f-4895-4a79-a9fd-02538ed571f4",
   "metadata": {
    "tags": []
   },
   "outputs": [],
   "source": [
    "# Save the sample DataFrame to a CSV file without the index column\n",
    "sample_df.to_csv(\"sample_summary.csv\", index=False)\n"
   ]
  },
  {
   "cell_type": "code",
   "execution_count": null,
   "id": "ee2773b1-d8af-40e3-854c-f74c6958c776",
   "metadata": {},
   "outputs": [],
   "source": []
  }
 ],
 "metadata": {
  "kernelspec": {
   "display_name": "conda_pytorch_p310",
   "language": "python",
   "name": "conda_pytorch_p310"
  },
  "language_info": {
   "codemirror_mode": {
    "name": "ipython",
    "version": 3
   },
   "file_extension": ".py",
   "mimetype": "text/x-python",
   "name": "python",
   "nbconvert_exporter": "python",
   "pygments_lexer": "ipython3",
   "version": "3.10.14"
  }
 },
 "nbformat": 4,
 "nbformat_minor": 5
}

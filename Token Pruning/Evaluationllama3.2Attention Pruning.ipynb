{
 "cells": [
  {
   "cell_type": "code",
   "execution_count": 1,
   "id": "7770b181-ea9a-418e-b760-48ec58bfa0bf",
   "metadata": {
    "tags": []
   },
   "outputs": [],
   "source": [
    "!pip install -q nltk bert-score\n",
    "!pip install -q rouge-metric"
   ]
  },
  {
   "cell_type": "code",
   "execution_count": 2,
   "id": "07271446-53ff-4a0b-939b-c7f06f8c417a",
   "metadata": {
    "tags": []
   },
   "outputs": [
    {
     "name": "stdout",
     "output_type": "stream",
     "text": [
      "          note_id                                              input  \\\n",
      "0  16002318-DS-17  <SEX> F <SERVICE> SURGERY <ALLERGIES> Iodine /...   \n",
      "1   15638884-DS-4  <SEX> M <SERVICE> MEDICINE <ALLERGIES> Augment...   \n",
      "2  12435705-DS-14  <SEX> M <SERVICE> MEDICINE <ALLERGIES> ibuprof...   \n",
      "3   12413577-DS-4  <SEX> F <SERVICE> OBSTETRICS/GYNECOLOGY <ALLER...   \n",
      "4  17967161-DS-29  <SEX> M <SERVICE> SURGERY <ALLERGIES> lisinopr...   \n",
      "\n",
      "                                              target  input_tokens  \\\n",
      "0  This is a ___ yo F admitted to the hospital af...          1195   \n",
      "1  Mr. ___ is a ___ yo man with CAD with prior MI...          3496   \n",
      "2  Mr. ___ is a ___ w/ Ph+ve ALL on dasatanib and...          5591   \n",
      "3  On ___, Ms. ___ was admitted to the gynecology...          1119   \n",
      "4  Mr. ___ underwent an angiogram on ___ which sh...          3307   \n",
      "\n",
      "   target_tokens                                       reduced_text  \\\n",
      "0             75  <|begin_of_text|><SEX> F <SERVICE> SURGERY <AL...   \n",
      "1           1143  <|begin_of_text|><SEX> M <SERVICE> MEDICINE <A...   \n",
      "2           1098  <|begin_of_text|><SEX> M <SERVICE> MEDICINE <A...   \n",
      "3            221  <|begin_of_text|><SEX> F <SERVICE> OBSTETRICS/...   \n",
      "4            439  <|begin_of_text|><SEX> M <SERVICE> SURGERY <AL...   \n",
      "\n",
      "                                   importance_scores  \\\n",
      "0  [0.010251283645629883, 0.010246990248560905, 0...   \n",
      "1  [0.0059814453125, 0.005979984533041716, 0.0059...   \n",
      "2  [0.0059814453125, 0.005979984533041716, 0.0059...   \n",
      "3  [0.010935068130493164, 0.0109328031539917, 0.0...   \n",
      "4  [0.0059814453125, 0.005979984533041716, 0.0059...   \n",
      "\n",
      "                                   generated_summary  \n",
      "0  Follow up within 30 days after discharge via p...  \n",
      "1  0.42 FETAL MEASURES - Fetal heart rate normal,...  \n",
      "2  12.2 ___ 20.5 ___ 13.8 ___ 14.8 ___ WBC 23.2 _...  \n",
      "3  ARGING THE PATIENT>\\nIn this case, we see seve...  \n",
      "4  2 POX-11.1 *Treatments administered during hos...  \n"
     ]
    }
   ],
   "source": [
    "import pandas as pd\n",
    "\n",
    "# Load the saved CSV file\n",
    "generated_summaries_with_reduced_text = pd.read_csv(\"summarization_results.csv\")\n",
    "\n",
    "# Verify the data\n",
    "print(generated_summaries_with_reduced_text.head())"
   ]
  },
  {
   "cell_type": "code",
   "execution_count": 4,
   "id": "87a2ea96-69d7-4c4e-94a8-140da17e4280",
   "metadata": {
    "tags": []
   },
   "outputs": [
    {
     "data": {
      "text/plain": [
       "note_id              100\n",
       "input                100\n",
       "target               100\n",
       "input_tokens         100\n",
       "target_tokens         91\n",
       "reduced_text         100\n",
       "importance_scores    100\n",
       "generated_summary    100\n",
       "bleu1                 99\n",
       "bleu2                 99\n",
       "rouge_l               99\n",
       "bert_p               100\n",
       "bert_r               100\n",
       "bert_f1              100\n",
       "dtype: int64"
      ]
     },
     "execution_count": 4,
     "metadata": {},
     "output_type": "execute_result"
    }
   ],
   "source": [
    "generated_summaries_with_reduced_text.nunique()"
   ]
  },
  {
   "cell_type": "code",
   "execution_count": 5,
   "id": "063104bd-b659-43c6-992b-80025d2a1de8",
   "metadata": {
    "tags": []
   },
   "outputs": [
    {
     "data": {
      "text/plain": [
       "\"<SEX> F <SERVICE> MEDICINE <ALLERGIES> Penicillins <ATTENDING> ___. <CHIEF COMPLAINT> DKA <MAJOR SURGICAL OR INVASIVE PROCEDURE> None <HISTORY OF PRESENT ILLNESS> ___ year old female with a history of type 1 diabetes mellitus presents with DKA secondary to mechanical failure of her insulin pump. She awoke around 3: 00 this morning with kinking of the tubing of her insulin pump. She has had problems before with her pump and she thought she had resolved it. Her glucometer measured a blood sugar>600 (the limits of her monitor). She also had some confusion and was persistently thirsty despite drinking large amounts of water. Mild nausea without vomiting or abdominal pain. She came to the ED. In the ED, initial vs were: T98.6, ___, BP 119/86, RR 18, O2 Sat 100% on RA. She had a 28 point gap. She was started on an insulin drip improvement in her sugars, started on fluids, and admitted. Review of systems: (+) Per HPI (-) Denies fever, chills, night sweats, recent weight loss or gain. Denies rhinorrhea or congestion (had last week). Denied cough, shortness of breath. Denied chest pain or tightness, palpitations. Denied diarrhea, constipation or abdominal pain. No recent change in bowel or bladder habits. No dysuria. Denied arthralgias or myalgias. <PAST MEDICAL HISTORY> -Diabetes Mellitus Type 1 -Allergic Rhinitis/Asthma -Depression/Anxiety <SOCIAL HISTORY> ___ <FAMILY HISTORY> Notable for DM, Depression, CAD, Alzheimer's Disease <PHYSICAL EXAM> Vitals T 98.4, BP 104/64, HR 58, RR 21, O2 sat 98% Gnl: NAD, Alert and oriented x 3 HEENT: Anicteric, Mucous membranes dry, no JVD CV: RRR, Normal S1 + S2, No murmurs, rubs or gallops Resp: Clear to auscultation bilaterally, No wheezes or crackles Abd: Soft, Nontender, NABS, No hepatosplenomegaly Extremities: No cyanosis, clubbing or edema Skin/nails: No rashes/no jaundice Neuro: AAOx3. Cn II-XII intact. <PERTINENT RESULTS> ___ 10: 15AM GLUCOSE-684* UREA N-24* CREAT-1.2* SODIUM-126* POTASSIUM-5.7* CHLORIDE-90* TOTAL CO2-17* ANION GAP-25* ___ 10: 30AM URINE BLOOD-NEG NITRITE-NEG PROTEIN-NEG GLUCOSE-1000 KETONE-50 BILIRUBIN-NEG UROBILNGN-NEG PH-5.0 LEUK-NEG CXR: AP radiograph of the chest is reviewed without previous studies for comparison. There is no consolidation, pulmonary edema, or pleural fluid. The cardiomediastinal silhouette is normal. <MEDICATIONS ON ADMISSION> -ALBUTEROL Inhaler PRN -CITALOPRAM 60 mg daily -Insulin Lispro by pump -NORGESTREL-ETHINYL ESTRADIOL daily -OMEPRAZOLE - 40 mg daily <DISCHARGE MEDICATIONS> 1. Lantus Solostar 300 unit/3 mL Insulin Pen Sig: Fifteen (15) units Subcutaneous at bedtime. Disp: *1 pen* Refills: *2* 2. Humalog KwikPen 100 unit/mL Insulin Pen Sig: Based on carbohydrate counting (1 to 12 ratio) Subcutaneous Before breakfast, lunch, and dinner. Disp: *1 pen* Refills: *2* 3. BD Insulin Pen Needle UF Mini 31 x ___ Needle Sig: N/A Miscellaneous N/A. Disp: *100 needles* Refills: *2* 4. Citalopram 20 mg Tablet Sig: Three (3) Tablet PO DAILY (Daily). 5. Omeprazole 20 mg Capsule, Delayed Release(E.C.) Sig: Two (2) Capsule, Delayed Release(E.C.) PO DAILY (Daily). 6. Norgestrel-Ethinyl Estradiol 0.3-30 mg-mcg Tablet Sig: One (1) Tablet PO daily (). <DISCHARGE DISPOSITION> Home <DISCHARGE DIAGNOSIS> Primary: - Diabetic ketoacidosis Secondary: - Diabetes mellitus, type I <DISCHARGE CONDITION> Hemodynamically stable. Anion gap closed. <FOLLOWUP INSTRUCTIONS> ___ <DISCHARGE INSTRUCTIONS> You were admitted to ___ on ___ with DKA due to high blood glucose. You improved quickly in the intensive care unit, and on transfer to the medical floor. Your medication regimen has changed. We ask that you stop using the insulin pump. Instead, you will take Lantus and a Humalog sliding scale based on carbohydrate counting. Please be sure to follow-up with your providers as listed below. Please return to the emergency department or call your physician for blood glucose>400, lightheadedness, nausea, inability to tolerate food or fluids, or for any other symptoms which are concerning to you. \""
      ]
     },
     "execution_count": 5,
     "metadata": {},
     "output_type": "execute_result"
    }
   ],
   "source": [
    "generated_summaries_with_reduced_text['input'].iloc[20]"
   ]
  },
  {
   "cell_type": "code",
   "execution_count": 7,
   "id": "a53b4048-2494-49fb-b708-3c0d30891c1f",
   "metadata": {
    "tags": []
   },
   "outputs": [
    {
     "data": {
      "text/plain": [
       "\"The patient was admitted to the hospital for elective repair of a ventral hernia. He was taken to the operating room where he underwent a ventral hernia repair with mesh overlay and lysis of adhesion. A thoracic epidural catheter was placed prior to the procedure for pain management. The operative course was stable with minimal blood loss. The patient was extubated after the procedure and monitored in the recovery room. His post-operative course was stable. The patient resumed a regular diet on the operative day. His foley catheter was removed on POD #1 and the patient voided without difficulty. He was transitioned from intravenous analgesia to an oral pain regimen and his epidural catheter was removed. He was reported to have a white blood cell count of 20 on POD #1. The patient's hemodynamic status remained stable and there were no signs of wound infection. On POD #2, his white blood cell count remained elevated to 22 and he underwent a chest x-ray which revealed a right-sided consolidation. Clindamycin was started for presumed pneumonia. One POD #3 the patient's leukocytosis decreased to 14 and normalized on POD #4. He did have mild blanching erythema surrounding the midline abdominal incision with minimal tenderness and no notable drainage or fluctuance. This remained stable without expansion from POD#2 - POD#4. The patient's vital signs remained stable and he afebrile. He was tolerating a regular diet and resumed his home medication. The patient was discharged home on POD #4 in stable condition. He was given a prescription for a 10-day course of clindamycin. An appointment for follow-up was made with the acute care service and with his primary care provider. \""
      ]
     },
     "execution_count": 7,
     "metadata": {},
     "output_type": "execute_result"
    }
   ],
   "source": [
    "generated_summaries_with_reduced_text['target'].iloc[36]"
   ]
  },
  {
   "cell_type": "code",
   "execution_count": 6,
   "id": "a044fb6e-43fe-48cd-9400-2137df48faff",
   "metadata": {
    "tags": []
   },
   "outputs": [
    {
     "data": {
      "text/plain": [
       "'consciousness = stable <CONCLUSION>\\n \\n\\nNote:\\n\\nThe final answer is:\\n\\n\\n**Patient Profile:** Male\\n\\n**Chief Complaints**: Chest pain and shortness of breath\\n\\n**Diagnosis**: Myocardial Infarction (MI)\\n\\n**Treatment**: Aspirin treatment and admission to Cardiac Unit\\n\\n\\n**Physical Examination Findings**\\n\\n* Pulse: Regular, 70 beats/min\\n* Blood Pressure: 120/80 mmHg\\n* Cardiovascular Exam Revealed:\\n\\t+ Regular rhythm\\n\\t+ Normal Apical Impulse\\n\\t+ Normal Heart Sounds\\n\\t+ No Significant Murmur\\n\\t+ Edematous extremities\\n* Lung Function Tests:\\n\\t+ CTP scan shows scattered wheezes but no rales or rhonchi\\n\\t+ Absence of pneumonia signs\\n* Vital Signs:\\n\\t+ Temperature: Not mentioned\\n\\t+ Respiratory Rate: Scattered\\n\\t+ Oxygen Saturation: Not mentioned\\n\\t+ Other vital signs within normal limits except'"
      ]
     },
     "execution_count": 6,
     "metadata": {},
     "output_type": "execute_result"
    }
   ],
   "source": [
    "generated_summaries_with_reduced_text['generated_summary'].iloc[36]"
   ]
  },
  {
   "cell_type": "code",
   "execution_count": 3,
   "id": "06ec5e44-6d44-4d69-847a-9c4210556c4d",
   "metadata": {
    "tags": []
   },
   "outputs": [
    {
     "name": "stdout",
     "output_type": "stream",
     "text": [
      "Computing BLEU and ROUGE-L scores...\n"
     ]
    },
    {
     "name": "stderr",
     "output_type": "stream",
     "text": [
      "Processing Rows: 100%|██████████| 100/100 [00:02<00:00, 48.67row/s]\n"
     ]
    },
    {
     "name": "stdout",
     "output_type": "stream",
     "text": [
      "\n",
      "Computing BERTScore...\n"
     ]
    },
    {
     "name": "stderr",
     "output_type": "stream",
     "text": [
      "Some weights of RobertaModel were not initialized from the model checkpoint at roberta-large and are newly initialized: ['pooler.dense.bias', 'pooler.dense.weight']\n",
      "You should probably TRAIN this model on a down-stream task to be able to use it for predictions and inference.\n",
      "Some weights of RobertaModel were not initialized from the model checkpoint at roberta-large and are newly initialized: ['pooler.dense.bias', 'pooler.dense.weight']\n",
      "You should probably TRAIN this model on a down-stream task to be able to use it for predictions and inference.\n",
      "Some weights of RobertaModel were not initialized from the model checkpoint at roberta-large and are newly initialized: ['pooler.dense.bias', 'pooler.dense.weight']\n",
      "You should probably TRAIN this model on a down-stream task to be able to use it for predictions and inference.\n",
      "Some weights of RobertaModel were not initialized from the model checkpoint at roberta-large and are newly initialized: ['pooler.dense.bias', 'pooler.dense.weight']\n",
      "You should probably TRAIN this model on a down-stream task to be able to use it for predictions and inference.\n"
     ]
    },
    {
     "name": "stdout",
     "output_type": "stream",
     "text": [
      "\n",
      "Evaluation Metrics (in percentages):\n",
      "Average BLEU-1: 4.49476491641967 %\n",
      "Average BLEU-2: 1.324374356577883 %\n",
      "Average ROUGE-L: 5.577647681622525 %\n",
      "Average BERT P: 80.32063806056976 %\n",
      "Average BERT R: 78.61822867393494 %\n",
      "Average BERT F1: 79.43593049049377 %\n",
      "\n",
      "Standard Deviations (in percentages):\n",
      "BLEU-1 Std: 5.477810946592718 %\n",
      "BLEU-2 Std: 2.0429039129104316 %\n",
      "ROUGE-L Std: 2.9416886652155423 %\n",
      "BERT F1 Std: 1.7633774807706055 %\n",
      "BERT P Std: 2.384023658631612 %\n",
      "BERT R Std: 2.068661411975958 %\n",
      "\n",
      "Results saved to 'evaluation_results.csv'\n"
     ]
    }
   ],
   "source": [
    "from tqdm import tqdm\n",
    "import pandas as pd\n",
    "from nltk.translate.bleu_score import sentence_bleu, SmoothingFunction\n",
    "from bert_score import score\n",
    "from rouge_metric import PyRouge\n",
    "\n",
    "def clean_text(text):\n",
    "    \"\"\"Clean and normalize text.\"\"\"\n",
    "    if pd.isna(text) or not isinstance(text, str):\n",
    "        return \"\"\n",
    "    return ' '.join(text.strip().lower().split())  # Lowercase, strip spaces, normalize.\n",
    "\n",
    "def compute_bleu_scores(reference, candidate):\n",
    "    \"\"\"Compute BLEU-1 and BLEU-2 scores.\"\"\"\n",
    "    try:\n",
    "        smoothing_function = SmoothingFunction().method1\n",
    "        # Compute BLEU-1\n",
    "        bleu1 = sentence_bleu(\n",
    "            [reference.split()],\n",
    "            candidate.split(),\n",
    "            weights=(1.0, 0, 0, 0),  # Only unigrams\n",
    "            smoothing_function=smoothing_function\n",
    "        )\n",
    "        # Compute BLEU-2\n",
    "        bleu2 = sentence_bleu(\n",
    "            [reference.split()],\n",
    "            candidate.split(),\n",
    "            weights=(0.5, 0.5, 0, 0),  # Unigrams and bigrams only\n",
    "            smoothing_function=smoothing_function\n",
    "        )\n",
    "        return bleu1 * 100, bleu2 * 100  # Convert to percentages\n",
    "    except Exception as e:\n",
    "        print(f\"BLEU Error: {e}\")\n",
    "        print(f\"Reference: '{reference[:50]}...'\")\n",
    "        print(f\"Candidate: '{candidate[:50]}...'\")\n",
    "        return 0.0, 0.0\n",
    "\n",
    "def compute_rouge_l(reference, candidate):\n",
    "    \"\"\"Compute ROUGE-L score.\"\"\"\n",
    "    rouge = PyRouge(rouge_n=(1, 2), rouge_l=True, rouge_w=False,\n",
    "                    rouge_w_weight=1.2, rouge_s=False, rouge_su=False, skip_gap=4)\n",
    "    try:\n",
    "        scores = rouge.evaluate([candidate], [[reference]])\n",
    "        return scores['rouge-l']['f'] * 100  # Convert to percentage\n",
    "    except Exception as e:\n",
    "        print(f\"ROUGE-L Error: {e}\")\n",
    "        print(f\"Reference: '{reference[:50]}...'\")\n",
    "        print(f\"Candidate: '{candidate[:50]}...'\")\n",
    "        return 0.0\n",
    "\n",
    "def compute_bert_score_batched(references, candidates, batch_size=32):\n",
    "    \"\"\"Compute BERTScore in batches.\"\"\"\n",
    "    all_P, all_R, all_F1 = [], [], []\n",
    "    for i in range(0, len(references), batch_size):\n",
    "        batch_refs = references[i:i + batch_size]\n",
    "        batch_cands = candidates[i:i + batch_size]\n",
    "        try:\n",
    "            P, R, F1 = score(batch_cands, batch_refs, lang=\"en\", verbose=False)\n",
    "            all_P.extend([p * 100 for p in P.tolist()])  # Convert to percentages\n",
    "            all_R.extend([r * 100 for r in R.tolist()])  # Convert to percentages\n",
    "            all_F1.extend([f * 100 for f in F1.tolist()])  # Convert to percentages\n",
    "        except Exception as e:\n",
    "            print(f\"BERTScore Error in batch {i}: {e}\")\n",
    "            batch_len = len(batch_refs)\n",
    "            all_P.extend([0.0] * batch_len)\n",
    "            all_R.extend([0.0] * batch_len)\n",
    "            all_F1.extend([0.0] * batch_len)\n",
    "    return all_P, all_R, all_F1\n",
    "\n",
    "def evaluate_summaries(df):\n",
    "    bleu1_scores, bleu2_scores, rouge_l_scores = [], [], []\n",
    "    print(\"Computing BLEU and ROUGE-L scores...\")\n",
    "    \n",
    "    with tqdm(total=len(df), desc=\"Processing Rows\", unit=\"row\") as pbar:\n",
    "        for _, row in df.iterrows():\n",
    "            reference = clean_text(row['target'])\n",
    "            candidate = clean_text(row['generated_summary'])\n",
    "            \n",
    "            if not reference or not candidate:\n",
    "                print(f\"Empty text - Reference: '{reference}', Candidate: '{candidate}'\")\n",
    "                bleu1_scores.append(0.0)\n",
    "                bleu2_scores.append(0.0)\n",
    "                rouge_l_scores.append(0.0)\n",
    "            else:\n",
    "                bleu1, bleu2 = compute_bleu_scores(reference, candidate)\n",
    "                bleu1_scores.append(bleu1)\n",
    "                bleu2_scores.append(bleu2)\n",
    "                rouge_l_scores.append(compute_rouge_l(reference, candidate))\n",
    "            \n",
    "            pbar.update(1)\n",
    "    \n",
    "    print(\"\\nComputing BERTScore...\")\n",
    "    references = [clean_text(text) for text in df['target'].tolist()]\n",
    "    candidates = [clean_text(text) for text in df['generated_summary'].tolist()]\n",
    "    bert_p, bert_r, bert_f1 = compute_bert_score_batched(references, candidates)\n",
    "    \n",
    "    # Add all scores to DataFrame\n",
    "    df['bleu1'] = bleu1_scores\n",
    "    df['bleu2'] = bleu2_scores\n",
    "    df['rouge_l'] = rouge_l_scores\n",
    "    df['bert_p'] = bert_p\n",
    "    df['bert_r'] = bert_r\n",
    "    df['bert_f1'] = bert_f1\n",
    "    \n",
    "    # Print evaluation metrics\n",
    "    print(\"\\nEvaluation Metrics (in percentages):\")\n",
    "    print(\"Average BLEU-1:\", df['bleu1'].mean(), \"%\")\n",
    "    print(\"Average BLEU-2:\", df['bleu2'].mean(), \"%\")\n",
    "    print(\"Average ROUGE-L:\", df['rouge_l'].mean(), \"%\")\n",
    "    print(\"Average BERT P:\", df['bert_p'].mean(), \"%\")\n",
    "    print(\"Average BERT R:\", df['bert_r'].mean(), \"%\")\n",
    "    print(\"Average BERT F1:\", df['bert_f1'].mean(), \"%\")\n",
    "    \n",
    "    # Print standard deviations\n",
    "    print(\"\\nStandard Deviations (in percentages):\")\n",
    "    print(\"BLEU-1 Std:\", df['bleu1'].std(), \"%\")\n",
    "    print(\"BLEU-2 Std:\", df['bleu2'].std(), \"%\")\n",
    "    print(\"ROUGE-L Std:\", df['rouge_l'].std(), \"%\")\n",
    "    print(\"BERT F1 Std:\", df['bert_f1'].std(), \"%\")\n",
    "    print(\"BERT P Std:\", df['bert_p'].std(), \"%\")\n",
    "    print(\"BERT R Std:\", df['bert_r'].std(), \"%\")\n",
    "    \n",
    "    return df\n",
    "\n",
    "AGTD_Summaries_mimic_iv_bhc_100 = evaluate_summaries(generated_summaries_with_reduced_text)\n",
    "AGTD_Summaries_mimic_iv_bhc_100.to_csv(\"AGTD_evaluation_results.csv\", index=False)\n",
    "print(\"\\nResults saved to 'evaluation_results.csv'\")"
   ]
  },
  {
   "cell_type": "code",
   "execution_count": null,
   "id": "0d4d1124-dc72-4275-aafb-6130226d24c5",
   "metadata": {},
   "outputs": [],
   "source": []
  }
 ],
 "metadata": {
  "kernelspec": {
   "display_name": "conda_pytorch_p310",
   "language": "python",
   "name": "conda_pytorch_p310"
  },
  "language_info": {
   "codemirror_mode": {
    "name": "ipython",
    "version": 3
   },
   "file_extension": ".py",
   "mimetype": "text/x-python",
   "name": "python",
   "nbconvert_exporter": "python",
   "pygments_lexer": "ipython3",
   "version": "3.10.14"
  }
 },
 "nbformat": 4,
 "nbformat_minor": 5
}

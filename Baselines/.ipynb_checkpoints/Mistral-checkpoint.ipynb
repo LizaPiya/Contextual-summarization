{
 "cells": [
  {
   "cell_type": "code",
   "execution_count": 1,
   "id": "f6f813b3-5077-4df3-a33a-5acd68d81ff0",
   "metadata": {
    "tags": []
   },
   "outputs": [
    {
     "name": "stderr",
     "output_type": "stream",
     "text": [
      "/home/ec2-user/anaconda3/envs/pytorch_p310/lib/python3.10/site-packages/fsspec/registry.py:283: UserWarning: Your installed version of s3fs is very old and known to cause\n",
      "severe performance issues, see also https://github.com/dask/dask/issues/10276\n",
      "\n",
      "To fix, you should specify a lower version bound on s3fs, or\n",
      "update the current installation.\n",
      "\n",
      "  warnings.warn(s3_msg)\n"
     ]
    },
    {
     "data": {
      "text/html": [
       "<div>\n",
       "<style scoped>\n",
       "    .dataframe tbody tr th:only-of-type {\n",
       "        vertical-align: middle;\n",
       "    }\n",
       "\n",
       "    .dataframe tbody tr th {\n",
       "        vertical-align: top;\n",
       "    }\n",
       "\n",
       "    .dataframe thead th {\n",
       "        text-align: right;\n",
       "    }\n",
       "</style>\n",
       "<table border=\"1\" class=\"dataframe\">\n",
       "  <thead>\n",
       "    <tr style=\"text-align: right;\">\n",
       "      <th></th>\n",
       "      <th>note_id</th>\n",
       "      <th>input</th>\n",
       "      <th>target</th>\n",
       "      <th>input_tokens</th>\n",
       "      <th>target_tokens</th>\n",
       "    </tr>\n",
       "  </thead>\n",
       "  <tbody>\n",
       "    <tr>\n",
       "      <th>0</th>\n",
       "      <td>16002318-DS-17</td>\n",
       "      <td>&lt;SEX&gt; F &lt;SERVICE&gt; SURGERY &lt;ALLERGIES&gt; Iodine /...</td>\n",
       "      <td>This is a ___ yo F admitted to the hospital af...</td>\n",
       "      <td>1195</td>\n",
       "      <td>75</td>\n",
       "    </tr>\n",
       "    <tr>\n",
       "      <th>1</th>\n",
       "      <td>15638884-DS-4</td>\n",
       "      <td>&lt;SEX&gt; M &lt;SERVICE&gt; MEDICINE &lt;ALLERGIES&gt; Augment...</td>\n",
       "      <td>Mr. ___ is a ___ yo man with CAD with prior MI...</td>\n",
       "      <td>3496</td>\n",
       "      <td>1143</td>\n",
       "    </tr>\n",
       "    <tr>\n",
       "      <th>2</th>\n",
       "      <td>12435705-DS-14</td>\n",
       "      <td>&lt;SEX&gt; M &lt;SERVICE&gt; MEDICINE &lt;ALLERGIES&gt; ibuprof...</td>\n",
       "      <td>Mr. ___ is a ___ w/ Ph+ve ALL on dasatanib and...</td>\n",
       "      <td>5591</td>\n",
       "      <td>1098</td>\n",
       "    </tr>\n",
       "    <tr>\n",
       "      <th>3</th>\n",
       "      <td>12413577-DS-4</td>\n",
       "      <td>&lt;SEX&gt; F &lt;SERVICE&gt; OBSTETRICS/GYNECOLOGY &lt;ALLER...</td>\n",
       "      <td>On ___, Ms. ___ was admitted to the gynecology...</td>\n",
       "      <td>1119</td>\n",
       "      <td>221</td>\n",
       "    </tr>\n",
       "    <tr>\n",
       "      <th>4</th>\n",
       "      <td>17967161-DS-29</td>\n",
       "      <td>&lt;SEX&gt; M &lt;SERVICE&gt; SURGERY &lt;ALLERGIES&gt; lisinopr...</td>\n",
       "      <td>Mr. ___ underwent an angiogram on ___ which sh...</td>\n",
       "      <td>3307</td>\n",
       "      <td>439</td>\n",
       "    </tr>\n",
       "    <tr>\n",
       "      <th>5</th>\n",
       "      <td>16956007-DS-20</td>\n",
       "      <td>&lt;SEX&gt; M &lt;SERVICE&gt; SURGERY &lt;ALLERGIES&gt; Codeine ...</td>\n",
       "      <td>Mr. ___ is a ___ who underwent an exploratory ...</td>\n",
       "      <td>4168</td>\n",
       "      <td>1209</td>\n",
       "    </tr>\n",
       "    <tr>\n",
       "      <th>6</th>\n",
       "      <td>16919911-DS-15</td>\n",
       "      <td>&lt;SEX&gt; F &lt;SERVICE&gt; MEDICINE &lt;ALLERGIES&gt; Penicil...</td>\n",
       "      <td>This is a ___ year old female with a recent di...</td>\n",
       "      <td>2059</td>\n",
       "      <td>208</td>\n",
       "    </tr>\n",
       "    <tr>\n",
       "      <th>7</th>\n",
       "      <td>15682570-DS-25</td>\n",
       "      <td>&lt;SEX&gt; M &lt;SERVICE&gt; MEDICINE &lt;ALLERGIES&gt; No Know...</td>\n",
       "      <td>___ w/ h/o CAD ___ CABG LIMA to LAD, SVG to D1...</td>\n",
       "      <td>2215</td>\n",
       "      <td>451</td>\n",
       "    </tr>\n",
       "    <tr>\n",
       "      <th>8</th>\n",
       "      <td>12135369-DS-24</td>\n",
       "      <td>&lt;SEX&gt; F &lt;SERVICE&gt; MEDICINE &lt;ALLERGIES&gt; Compazi...</td>\n",
       "      <td>Ms ___ is a ___ year old woman with a history ...</td>\n",
       "      <td>2132</td>\n",
       "      <td>416</td>\n",
       "    </tr>\n",
       "    <tr>\n",
       "      <th>9</th>\n",
       "      <td>11906321-DS-20</td>\n",
       "      <td>&lt;SEX&gt; M &lt;SERVICE&gt; NEUROSURGERY &lt;ALLERGIES&gt; Pat...</td>\n",
       "      <td>The patient was admitted to the neurosurgery s...</td>\n",
       "      <td>2347</td>\n",
       "      <td>316</td>\n",
       "    </tr>\n",
       "    <tr>\n",
       "      <th>10</th>\n",
       "      <td>17384661-DS-20</td>\n",
       "      <td>&lt;SEX&gt; M &lt;SERVICE&gt; UROLOGY &lt;ALLERGIES&gt; No Known...</td>\n",
       "      <td>Mr. ___ was admitted to Dr. ___ Urology servic...</td>\n",
       "      <td>1452</td>\n",
       "      <td>171</td>\n",
       "    </tr>\n",
       "    <tr>\n",
       "      <th>11</th>\n",
       "      <td>11162709-DS-18</td>\n",
       "      <td>&lt;SEX&gt; M &lt;SERVICE&gt; MEDICINE &lt;ALLERGIES&gt; Sulfa (...</td>\n",
       "      <td>___ yoM with PMH notable for hx of left ICA an...</td>\n",
       "      <td>2469</td>\n",
       "      <td>420</td>\n",
       "    </tr>\n",
       "    <tr>\n",
       "      <th>12</th>\n",
       "      <td>19473355-DS-13</td>\n",
       "      <td>&lt;SEX&gt; M &lt;SERVICE&gt; SURGERY &lt;ALLERGIES&gt; No Known...</td>\n",
       "      <td>Mr. ___ is a ___ year old male with AAA who wa...</td>\n",
       "      <td>1593</td>\n",
       "      <td>259</td>\n",
       "    </tr>\n",
       "    <tr>\n",
       "      <th>13</th>\n",
       "      <td>14711846-DS-15</td>\n",
       "      <td>&lt;SEX&gt; F &lt;SERVICE&gt; MEDICINE &lt;ALLERGIES&gt; Gold Sa...</td>\n",
       "      <td>Ms. ___ was admitted for diagnosis and treatme...</td>\n",
       "      <td>3140</td>\n",
       "      <td>415</td>\n",
       "    </tr>\n",
       "    <tr>\n",
       "      <th>14</th>\n",
       "      <td>18094090-DS-35</td>\n",
       "      <td>&lt;SEX&gt; F &lt;SERVICE&gt; MEDICINE &lt;ALLERGIES&gt; Penicil...</td>\n",
       "      <td>Patient is a ___ year old woman with history o...</td>\n",
       "      <td>2346</td>\n",
       "      <td>528</td>\n",
       "    </tr>\n",
       "    <tr>\n",
       "      <th>15</th>\n",
       "      <td>16047293-DS-34</td>\n",
       "      <td>&lt;SEX&gt; M &lt;SERVICE&gt; MEDICINE &lt;ALLERGIES&gt; Penicil...</td>\n",
       "      <td>___ year-old male with PMH of diastolic heart ...</td>\n",
       "      <td>1747</td>\n",
       "      <td>144</td>\n",
       "    </tr>\n",
       "    <tr>\n",
       "      <th>16</th>\n",
       "      <td>15690160-DS-11</td>\n",
       "      <td>&lt;SEX&gt; F &lt;SERVICE&gt; NEUROLOGY &lt;ALLERGIES&gt; No Dru...</td>\n",
       "      <td>Her neuro exam has been asymptomatic since adm...</td>\n",
       "      <td>2438</td>\n",
       "      <td>18</td>\n",
       "    </tr>\n",
       "    <tr>\n",
       "      <th>17</th>\n",
       "      <td>18477272-DS-18</td>\n",
       "      <td>&lt;SEX&gt; F &lt;SERVICE&gt; OBSTETRICS/GYNECOLOGY &lt;ALLER...</td>\n",
       "      <td>On ___, Ms. ___ was admitted to the gynecology...</td>\n",
       "      <td>1192</td>\n",
       "      <td>154</td>\n",
       "    </tr>\n",
       "    <tr>\n",
       "      <th>18</th>\n",
       "      <td>10476129-DS-14</td>\n",
       "      <td>&lt;SEX&gt; F &lt;SERVICE&gt; MEDICINE &lt;ALLERGIES&gt; No Know...</td>\n",
       "      <td>BRIEF COURSE: ___ with limited PMH presented w...</td>\n",
       "      <td>2998</td>\n",
       "      <td>1119</td>\n",
       "    </tr>\n",
       "    <tr>\n",
       "      <th>19</th>\n",
       "      <td>19868904-DS-20</td>\n",
       "      <td>&lt;SEX&gt; F &lt;SERVICE&gt; NEUROLOGY &lt;ALLERGIES&gt; No Kno...</td>\n",
       "      <td>Ms. ___ was admitted to the neurology service ...</td>\n",
       "      <td>2072</td>\n",
       "      <td>221</td>\n",
       "    </tr>\n",
       "  </tbody>\n",
       "</table>\n",
       "</div>"
      ],
      "text/plain": [
       "           note_id                                              input  \\\n",
       "0   16002318-DS-17  <SEX> F <SERVICE> SURGERY <ALLERGIES> Iodine /...   \n",
       "1    15638884-DS-4  <SEX> M <SERVICE> MEDICINE <ALLERGIES> Augment...   \n",
       "2   12435705-DS-14  <SEX> M <SERVICE> MEDICINE <ALLERGIES> ibuprof...   \n",
       "3    12413577-DS-4  <SEX> F <SERVICE> OBSTETRICS/GYNECOLOGY <ALLER...   \n",
       "4   17967161-DS-29  <SEX> M <SERVICE> SURGERY <ALLERGIES> lisinopr...   \n",
       "5   16956007-DS-20  <SEX> M <SERVICE> SURGERY <ALLERGIES> Codeine ...   \n",
       "6   16919911-DS-15  <SEX> F <SERVICE> MEDICINE <ALLERGIES> Penicil...   \n",
       "7   15682570-DS-25  <SEX> M <SERVICE> MEDICINE <ALLERGIES> No Know...   \n",
       "8   12135369-DS-24  <SEX> F <SERVICE> MEDICINE <ALLERGIES> Compazi...   \n",
       "9   11906321-DS-20  <SEX> M <SERVICE> NEUROSURGERY <ALLERGIES> Pat...   \n",
       "10  17384661-DS-20  <SEX> M <SERVICE> UROLOGY <ALLERGIES> No Known...   \n",
       "11  11162709-DS-18  <SEX> M <SERVICE> MEDICINE <ALLERGIES> Sulfa (...   \n",
       "12  19473355-DS-13  <SEX> M <SERVICE> SURGERY <ALLERGIES> No Known...   \n",
       "13  14711846-DS-15  <SEX> F <SERVICE> MEDICINE <ALLERGIES> Gold Sa...   \n",
       "14  18094090-DS-35  <SEX> F <SERVICE> MEDICINE <ALLERGIES> Penicil...   \n",
       "15  16047293-DS-34  <SEX> M <SERVICE> MEDICINE <ALLERGIES> Penicil...   \n",
       "16  15690160-DS-11  <SEX> F <SERVICE> NEUROLOGY <ALLERGIES> No Dru...   \n",
       "17  18477272-DS-18  <SEX> F <SERVICE> OBSTETRICS/GYNECOLOGY <ALLER...   \n",
       "18  10476129-DS-14  <SEX> F <SERVICE> MEDICINE <ALLERGIES> No Know...   \n",
       "19  19868904-DS-20  <SEX> F <SERVICE> NEUROLOGY <ALLERGIES> No Kno...   \n",
       "\n",
       "                                               target  input_tokens  \\\n",
       "0   This is a ___ yo F admitted to the hospital af...          1195   \n",
       "1   Mr. ___ is a ___ yo man with CAD with prior MI...          3496   \n",
       "2   Mr. ___ is a ___ w/ Ph+ve ALL on dasatanib and...          5591   \n",
       "3   On ___, Ms. ___ was admitted to the gynecology...          1119   \n",
       "4   Mr. ___ underwent an angiogram on ___ which sh...          3307   \n",
       "5   Mr. ___ is a ___ who underwent an exploratory ...          4168   \n",
       "6   This is a ___ year old female with a recent di...          2059   \n",
       "7   ___ w/ h/o CAD ___ CABG LIMA to LAD, SVG to D1...          2215   \n",
       "8   Ms ___ is a ___ year old woman with a history ...          2132   \n",
       "9   The patient was admitted to the neurosurgery s...          2347   \n",
       "10  Mr. ___ was admitted to Dr. ___ Urology servic...          1452   \n",
       "11  ___ yoM with PMH notable for hx of left ICA an...          2469   \n",
       "12  Mr. ___ is a ___ year old male with AAA who wa...          1593   \n",
       "13  Ms. ___ was admitted for diagnosis and treatme...          3140   \n",
       "14  Patient is a ___ year old woman with history o...          2346   \n",
       "15  ___ year-old male with PMH of diastolic heart ...          1747   \n",
       "16  Her neuro exam has been asymptomatic since adm...          2438   \n",
       "17  On ___, Ms. ___ was admitted to the gynecology...          1192   \n",
       "18  BRIEF COURSE: ___ with limited PMH presented w...          2998   \n",
       "19  Ms. ___ was admitted to the neurology service ...          2072   \n",
       "\n",
       "    target_tokens  \n",
       "0              75  \n",
       "1            1143  \n",
       "2            1098  \n",
       "3             221  \n",
       "4             439  \n",
       "5            1209  \n",
       "6             208  \n",
       "7             451  \n",
       "8             416  \n",
       "9             316  \n",
       "10            171  \n",
       "11            420  \n",
       "12            259  \n",
       "13            415  \n",
       "14            528  \n",
       "15            144  \n",
       "16             18  \n",
       "17            154  \n",
       "18           1119  \n",
       "19            221  "
      ]
     },
     "execution_count": 1,
     "metadata": {},
     "output_type": "execute_result"
    }
   ],
   "source": [
    "import pandas as pd\n",
    "\n",
    "# Define the bucket and file names\n",
    "bucket_name = 'mimicivliza'  # Replace with your bucket name\n",
    "mimic_iv_bhc = f's3://{bucket_name}/sample_data_100.csv'\n",
    "\n",
    "# Load the files\n",
    "mimic_iv_bhc_100 = pd.read_csv(mimic_iv_bhc)\n",
    "\n",
    "# Display the data\n",
    "mimic_iv_bhc_100.head(20)"
   ]
  },
  {
   "cell_type": "code",
   "execution_count": 2,
   "id": "bf53530d-4005-4231-9cd7-2b6834e7bb70",
   "metadata": {
    "tags": []
   },
   "outputs": [
    {
     "name": "stdout",
     "output_type": "stream",
     "text": [
      "Collecting transformers\n",
      "  Downloading transformers-4.50.2-py3-none-any.whl.metadata (39 kB)\n",
      "Requirement already satisfied: filelock in /home/ec2-user/anaconda3/envs/pytorch_p310/lib/python3.10/site-packages (from transformers) (3.17.0)\n",
      "Collecting huggingface-hub<1.0,>=0.26.0 (from transformers)\n",
      "  Downloading huggingface_hub-0.29.3-py3-none-any.whl.metadata (13 kB)\n",
      "Requirement already satisfied: numpy>=1.17 in /home/ec2-user/anaconda3/envs/pytorch_p310/lib/python3.10/site-packages (from transformers) (1.26.4)\n",
      "Requirement already satisfied: packaging>=20.0 in /home/ec2-user/anaconda3/envs/pytorch_p310/lib/python3.10/site-packages (from transformers) (21.3)\n",
      "Requirement already satisfied: pyyaml>=5.1 in /home/ec2-user/anaconda3/envs/pytorch_p310/lib/python3.10/site-packages (from transformers) (6.0.2)\n",
      "Collecting regex!=2019.12.17 (from transformers)\n",
      "  Downloading regex-2024.11.6-cp310-cp310-manylinux_2_17_x86_64.manylinux2014_x86_64.whl.metadata (40 kB)\n",
      "Requirement already satisfied: requests in /home/ec2-user/anaconda3/envs/pytorch_p310/lib/python3.10/site-packages (from transformers) (2.32.3)\n",
      "Collecting tokenizers<0.22,>=0.21 (from transformers)\n",
      "  Downloading tokenizers-0.21.1-cp39-abi3-manylinux_2_17_x86_64.manylinux2014_x86_64.whl.metadata (6.8 kB)\n",
      "Collecting safetensors>=0.4.3 (from transformers)\n",
      "  Downloading safetensors-0.5.3-cp38-abi3-manylinux_2_17_x86_64.manylinux2014_x86_64.whl.metadata (3.8 kB)\n",
      "Requirement already satisfied: tqdm>=4.27 in /home/ec2-user/anaconda3/envs/pytorch_p310/lib/python3.10/site-packages (from transformers) (4.67.1)\n",
      "Requirement already satisfied: fsspec>=2023.5.0 in /home/ec2-user/anaconda3/envs/pytorch_p310/lib/python3.10/site-packages (from huggingface-hub<1.0,>=0.26.0->transformers) (2025.2.0)\n",
      "Requirement already satisfied: typing-extensions>=3.7.4.3 in /home/ec2-user/anaconda3/envs/pytorch_p310/lib/python3.10/site-packages (from huggingface-hub<1.0,>=0.26.0->transformers) (4.12.2)\n",
      "Requirement already satisfied: pyparsing!=3.0.5,>=2.0.2 in /home/ec2-user/anaconda3/envs/pytorch_p310/lib/python3.10/site-packages (from packaging>=20.0->transformers) (3.2.1)\n",
      "Requirement already satisfied: charset_normalizer<4,>=2 in /home/ec2-user/anaconda3/envs/pytorch_p310/lib/python3.10/site-packages (from requests->transformers) (3.4.1)\n",
      "Requirement already satisfied: idna<4,>=2.5 in /home/ec2-user/anaconda3/envs/pytorch_p310/lib/python3.10/site-packages (from requests->transformers) (3.10)\n",
      "Requirement already satisfied: urllib3<3,>=1.21.1 in /home/ec2-user/anaconda3/envs/pytorch_p310/lib/python3.10/site-packages (from requests->transformers) (2.3.0)\n",
      "Requirement already satisfied: certifi>=2017.4.17 in /home/ec2-user/anaconda3/envs/pytorch_p310/lib/python3.10/site-packages (from requests->transformers) (2025.1.31)\n",
      "Downloading transformers-4.50.2-py3-none-any.whl (10.2 MB)\n",
      "\u001b[2K   \u001b[90m━━━━━━━━━━━━━━━━━━━━━━━━━━━━━━━━━━━━━━━━\u001b[0m \u001b[32m10.2/10.2 MB\u001b[0m \u001b[31m108.8 MB/s\u001b[0m eta \u001b[36m0:00:00\u001b[0m\n",
      "\u001b[?25hDownloading huggingface_hub-0.29.3-py3-none-any.whl (468 kB)\n",
      "Downloading regex-2024.11.6-cp310-cp310-manylinux_2_17_x86_64.manylinux2014_x86_64.whl (781 kB)\n",
      "\u001b[2K   \u001b[90m━━━━━━━━━━━━━━━━━━━━━━━━━━━━━━━━━━━━━━━━\u001b[0m \u001b[32m781.7/781.7 kB\u001b[0m \u001b[31m69.6 MB/s\u001b[0m eta \u001b[36m0:00:00\u001b[0m\n",
      "\u001b[?25hDownloading safetensors-0.5.3-cp38-abi3-manylinux_2_17_x86_64.manylinux2014_x86_64.whl (471 kB)\n",
      "Downloading tokenizers-0.21.1-cp39-abi3-manylinux_2_17_x86_64.manylinux2014_x86_64.whl (3.0 MB)\n",
      "\u001b[2K   \u001b[90m━━━━━━━━━━━━━━━━━━━━━━━━━━━━━━━━━━━━━━━━\u001b[0m \u001b[32m3.0/3.0 MB\u001b[0m \u001b[31m157.2 MB/s\u001b[0m eta \u001b[36m0:00:00\u001b[0m\n",
      "\u001b[?25hInstalling collected packages: safetensors, regex, huggingface-hub, tokenizers, transformers\n",
      "Successfully installed huggingface-hub-0.29.3 regex-2024.11.6 safetensors-0.5.3 tokenizers-0.21.1 transformers-4.50.2\n",
      "Collecting sacremoses\n",
      "  Downloading sacremoses-0.1.1-py3-none-any.whl.metadata (8.3 kB)\n",
      "Requirement already satisfied: regex in /home/ec2-user/anaconda3/envs/pytorch_p310/lib/python3.10/site-packages (from sacremoses) (2024.11.6)\n",
      "Requirement already satisfied: click in /home/ec2-user/anaconda3/envs/pytorch_p310/lib/python3.10/site-packages (from sacremoses) (8.1.8)\n",
      "Requirement already satisfied: joblib in /home/ec2-user/anaconda3/envs/pytorch_p310/lib/python3.10/site-packages (from sacremoses) (1.4.2)\n",
      "Requirement already satisfied: tqdm in /home/ec2-user/anaconda3/envs/pytorch_p310/lib/python3.10/site-packages (from sacremoses) (4.67.1)\n",
      "Downloading sacremoses-0.1.1-py3-none-any.whl (897 kB)\n",
      "\u001b[2K   \u001b[90m━━━━━━━━━━━━━━━━━━━━━━━━━━━━━━━━━━━━━━━━\u001b[0m \u001b[32m897.5/897.5 kB\u001b[0m \u001b[31m32.3 MB/s\u001b[0m eta \u001b[36m0:00:00\u001b[0m\n",
      "\u001b[?25hInstalling collected packages: sacremoses\n",
      "Successfully installed sacremoses-0.1.1\n",
      "Collecting bitsandbytes\n",
      "  Downloading bitsandbytes-0.45.4-py3-none-manylinux_2_24_x86_64.whl.metadata (5.0 kB)\n",
      "Collecting accelerate\n",
      "  Downloading accelerate-1.5.2-py3-none-any.whl.metadata (19 kB)\n",
      "Requirement already satisfied: torch<3,>=2.0 in /home/ec2-user/anaconda3/envs/pytorch_p310/lib/python3.10/site-packages (from bitsandbytes) (2.2.2)\n",
      "Requirement already satisfied: numpy>=1.17 in /home/ec2-user/anaconda3/envs/pytorch_p310/lib/python3.10/site-packages (from bitsandbytes) (1.26.4)\n",
      "Requirement already satisfied: packaging>=20.0 in /home/ec2-user/anaconda3/envs/pytorch_p310/lib/python3.10/site-packages (from accelerate) (21.3)\n",
      "Requirement already satisfied: psutil in /home/ec2-user/anaconda3/envs/pytorch_p310/lib/python3.10/site-packages (from accelerate) (6.1.1)\n",
      "Requirement already satisfied: pyyaml in /home/ec2-user/anaconda3/envs/pytorch_p310/lib/python3.10/site-packages (from accelerate) (6.0.2)\n",
      "Requirement already satisfied: huggingface-hub>=0.21.0 in /home/ec2-user/anaconda3/envs/pytorch_p310/lib/python3.10/site-packages (from accelerate) (0.29.3)\n",
      "Requirement already satisfied: safetensors>=0.4.3 in /home/ec2-user/anaconda3/envs/pytorch_p310/lib/python3.10/site-packages (from accelerate) (0.5.3)\n",
      "Requirement already satisfied: filelock in /home/ec2-user/anaconda3/envs/pytorch_p310/lib/python3.10/site-packages (from huggingface-hub>=0.21.0->accelerate) (3.17.0)\n",
      "Requirement already satisfied: fsspec>=2023.5.0 in /home/ec2-user/anaconda3/envs/pytorch_p310/lib/python3.10/site-packages (from huggingface-hub>=0.21.0->accelerate) (2025.2.0)\n",
      "Requirement already satisfied: requests in /home/ec2-user/anaconda3/envs/pytorch_p310/lib/python3.10/site-packages (from huggingface-hub>=0.21.0->accelerate) (2.32.3)\n",
      "Requirement already satisfied: tqdm>=4.42.1 in /home/ec2-user/anaconda3/envs/pytorch_p310/lib/python3.10/site-packages (from huggingface-hub>=0.21.0->accelerate) (4.67.1)\n",
      "Requirement already satisfied: typing-extensions>=3.7.4.3 in /home/ec2-user/anaconda3/envs/pytorch_p310/lib/python3.10/site-packages (from huggingface-hub>=0.21.0->accelerate) (4.12.2)\n",
      "Requirement already satisfied: pyparsing!=3.0.5,>=2.0.2 in /home/ec2-user/anaconda3/envs/pytorch_p310/lib/python3.10/site-packages (from packaging>=20.0->accelerate) (3.2.1)\n",
      "Requirement already satisfied: sympy in /home/ec2-user/anaconda3/envs/pytorch_p310/lib/python3.10/site-packages (from torch<3,>=2.0->bitsandbytes) (1.13.3)\n",
      "Requirement already satisfied: networkx in /home/ec2-user/anaconda3/envs/pytorch_p310/lib/python3.10/site-packages (from torch<3,>=2.0->bitsandbytes) (3.4.2)\n",
      "Requirement already satisfied: jinja2 in /home/ec2-user/anaconda3/envs/pytorch_p310/lib/python3.10/site-packages (from torch<3,>=2.0->bitsandbytes) (3.1.5)\n",
      "Requirement already satisfied: MarkupSafe>=2.0 in /home/ec2-user/anaconda3/envs/pytorch_p310/lib/python3.10/site-packages (from jinja2->torch<3,>=2.0->bitsandbytes) (3.0.2)\n",
      "Requirement already satisfied: charset_normalizer<4,>=2 in /home/ec2-user/anaconda3/envs/pytorch_p310/lib/python3.10/site-packages (from requests->huggingface-hub>=0.21.0->accelerate) (3.4.1)\n",
      "Requirement already satisfied: idna<4,>=2.5 in /home/ec2-user/anaconda3/envs/pytorch_p310/lib/python3.10/site-packages (from requests->huggingface-hub>=0.21.0->accelerate) (3.10)\n",
      "Requirement already satisfied: urllib3<3,>=1.21.1 in /home/ec2-user/anaconda3/envs/pytorch_p310/lib/python3.10/site-packages (from requests->huggingface-hub>=0.21.0->accelerate) (2.3.0)\n",
      "Requirement already satisfied: certifi>=2017.4.17 in /home/ec2-user/anaconda3/envs/pytorch_p310/lib/python3.10/site-packages (from requests->huggingface-hub>=0.21.0->accelerate) (2025.1.31)\n",
      "Requirement already satisfied: mpmath<1.4,>=1.1.0 in /home/ec2-user/anaconda3/envs/pytorch_p310/lib/python3.10/site-packages (from sympy->torch<3,>=2.0->bitsandbytes) (1.3.0)\n",
      "Downloading bitsandbytes-0.45.4-py3-none-manylinux_2_24_x86_64.whl (76.0 MB)\n",
      "\u001b[2K   \u001b[90m━━━━━━━━━━━━━━━━━━━━━━━━━━━━━━━━━━━━━━━━\u001b[0m \u001b[32m76.0/76.0 MB\u001b[0m \u001b[31m161.2 MB/s\u001b[0m eta \u001b[36m0:00:00\u001b[0m00:01\u001b[0m00:01\u001b[0m\n",
      "\u001b[?25hDownloading accelerate-1.5.2-py3-none-any.whl (345 kB)\n",
      "Installing collected packages: bitsandbytes, accelerate\n",
      "Successfully installed accelerate-1.5.2 bitsandbytes-0.45.4\n"
     ]
    }
   ],
   "source": [
    "# Install Hugging Face Transformers\n",
    "!pip install transformers\n",
    "!pip install sacremoses\n",
    "!pip install bitsandbytes accelerate"
   ]
  },
  {
   "cell_type": "code",
   "execution_count": 3,
   "id": "cc9c2f86-4d80-4245-bf75-0f4a3682781d",
   "metadata": {
    "tags": []
   },
   "outputs": [],
   "source": [
    "from huggingface_hub import login\n",
    "import os\n",
    "\n",
    "# Use token from environment variable (safer)\n",
    "login(os.getenv(\"HF_TOKEN\"))\n"
   ]
  },
  {
   "cell_type": "code",
   "execution_count": 4,
   "id": "096dfcd9-aafd-4b2f-815f-5d8125682dd5",
   "metadata": {
    "tags": []
   },
   "outputs": [
    {
     "data": {
      "application/vnd.jupyter.widget-view+json": {
       "model_id": "bfce93d122ba42c9933b31223d1ed80b",
       "version_major": 2,
       "version_minor": 0
      },
      "text/plain": [
       "tokenizer_config.json:   0%|          | 0.00/2.10k [00:00<?, ?B/s]"
      ]
     },
     "metadata": {},
     "output_type": "display_data"
    },
    {
     "data": {
      "application/vnd.jupyter.widget-view+json": {
       "model_id": "7687582507454116b6dec7f23eb1ec20",
       "version_major": 2,
       "version_minor": 0
      },
      "text/plain": [
       "tokenizer.model:   0%|          | 0.00/493k [00:00<?, ?B/s]"
      ]
     },
     "metadata": {},
     "output_type": "display_data"
    },
    {
     "data": {
      "application/vnd.jupyter.widget-view+json": {
       "model_id": "16f14c8ec79b4613a9478bd8171aa7f1",
       "version_major": 2,
       "version_minor": 0
      },
      "text/plain": [
       "tokenizer.json:   0%|          | 0.00/1.80M [00:00<?, ?B/s]"
      ]
     },
     "metadata": {},
     "output_type": "display_data"
    },
    {
     "data": {
      "application/vnd.jupyter.widget-view+json": {
       "model_id": "2b7ddcf5c54840a8abbaa858ba16fba8",
       "version_major": 2,
       "version_minor": 0
      },
      "text/plain": [
       "special_tokens_map.json:   0%|          | 0.00/414 [00:00<?, ?B/s]"
      ]
     },
     "metadata": {},
     "output_type": "display_data"
    },
    {
     "data": {
      "application/vnd.jupyter.widget-view+json": {
       "model_id": "bf00acb4db804f979d26cb3b735d4984",
       "version_major": 2,
       "version_minor": 0
      },
      "text/plain": [
       "config.json:   0%|          | 0.00/596 [00:00<?, ?B/s]"
      ]
     },
     "metadata": {},
     "output_type": "display_data"
    },
    {
     "data": {
      "application/vnd.jupyter.widget-view+json": {
       "model_id": "d9e8294d823d40678f5dcac30dadcbbd",
       "version_major": 2,
       "version_minor": 0
      },
      "text/plain": [
       "model.safetensors.index.json:   0%|          | 0.00/25.1k [00:00<?, ?B/s]"
      ]
     },
     "metadata": {},
     "output_type": "display_data"
    },
    {
     "data": {
      "application/vnd.jupyter.widget-view+json": {
       "model_id": "a53f2178501945ea9c38e168f8ff7c9d",
       "version_major": 2,
       "version_minor": 0
      },
      "text/plain": [
       "Fetching 3 files:   0%|          | 0/3 [00:00<?, ?it/s]"
      ]
     },
     "metadata": {},
     "output_type": "display_data"
    },
    {
     "data": {
      "application/vnd.jupyter.widget-view+json": {
       "model_id": "d78a24b8de114bb58cb3e3b859c86367",
       "version_major": 2,
       "version_minor": 0
      },
      "text/plain": [
       "model-00001-of-00003.safetensors:   0%|          | 0.00/4.94G [00:00<?, ?B/s]"
      ]
     },
     "metadata": {},
     "output_type": "display_data"
    },
    {
     "data": {
      "application/vnd.jupyter.widget-view+json": {
       "model_id": "7ff101c48c494e5ab02c390f649bdc63",
       "version_major": 2,
       "version_minor": 0
      },
      "text/plain": [
       "model-00002-of-00003.safetensors:   0%|          | 0.00/5.00G [00:00<?, ?B/s]"
      ]
     },
     "metadata": {},
     "output_type": "display_data"
    },
    {
     "data": {
      "application/vnd.jupyter.widget-view+json": {
       "model_id": "5ce6bebd5fac453ebadf28e7b6f0e48e",
       "version_major": 2,
       "version_minor": 0
      },
      "text/plain": [
       "model-00003-of-00003.safetensors:   0%|          | 0.00/4.54G [00:00<?, ?B/s]"
      ]
     },
     "metadata": {},
     "output_type": "display_data"
    },
    {
     "data": {
      "application/vnd.jupyter.widget-view+json": {
       "model_id": "7199ce3bab304aaaaa3c5e9f2a7247eb",
       "version_major": 2,
       "version_minor": 0
      },
      "text/plain": [
       "Loading checkpoint shards:   0%|          | 0/3 [00:00<?, ?it/s]"
      ]
     },
     "metadata": {},
     "output_type": "display_data"
    },
    {
     "data": {
      "application/vnd.jupyter.widget-view+json": {
       "model_id": "8589d274b10044bb9fb18603c1093578",
       "version_major": 2,
       "version_minor": 0
      },
      "text/plain": [
       "generation_config.json:   0%|          | 0.00/111 [00:00<?, ?B/s]"
      ]
     },
     "metadata": {},
     "output_type": "display_data"
    }
   ],
   "source": [
    "import torch\n",
    "from tqdm import tqdm\n",
    "from transformers import AutoTokenizer, AutoModelForCausalLM, BitsAndBytesConfig\n",
    "\n",
    "# Load configuration for 8-bit quantized inference\n",
    "bnb_config = BitsAndBytesConfig(\n",
    "    load_in_8bit=True,\n",
    "    bnb_8bit_compute_dtype=torch.float16,\n",
    "    llm_int8_enable_fp32_cpu_offload=True  # ✅ correctly placed inside config\n",
    ")\n",
    "\n",
    "# Define model ID for Mistral\n",
    "model_id = \"mistralai/Mistral-7B-Instruct-v0.2\"\n",
    "\n",
    "# Load tokenizer and model\n",
    "tokenizer = AutoTokenizer.from_pretrained(model_id, trust_remote_code=True)\n",
    "model = AutoModelForCausalLM.from_pretrained(\n",
    "    model_id,\n",
    "    quantization_config=bnb_config,\n",
    "    device_map=\"auto\",\n",
    "    trust_remote_code=True\n",
    ").eval()\n"
   ]
  },
  {
   "cell_type": "code",
   "execution_count": 5,
   "id": "3ac525e3-e74a-405d-b96a-f55bd3b3fd3b",
   "metadata": {
    "tags": []
   },
   "outputs": [
    {
     "name": "stderr",
     "output_type": "stream",
     "text": [
      "Generating Summaries with Mistral-7B:   0%|          | 0/100 [00:00<?, ?it/s]Setting `pad_token_id` to `eos_token_id`:2 for open-end generation.\n",
      "Generating Summaries with Mistral-7B:   1%|          | 1/100 [01:02<1:43:56, 62.99s/it]Setting `pad_token_id` to `eos_token_id`:2 for open-end generation.\n",
      "Generating Summaries with Mistral-7B:   2%|▏         | 2/100 [01:39<1:17:32, 47.48s/it]Setting `pad_token_id` to `eos_token_id`:2 for open-end generation.\n",
      "Generating Summaries with Mistral-7B:   3%|▎         | 3/100 [02:27<1:17:13, 47.77s/it]Setting `pad_token_id` to `eos_token_id`:2 for open-end generation.\n",
      "Generating Summaries with Mistral-7B:   4%|▍         | 4/100 [02:47<58:54, 36.82s/it]  Setting `pad_token_id` to `eos_token_id`:2 for open-end generation.\n",
      "Generating Summaries with Mistral-7B:   5%|▌         | 5/100 [02:59<43:47, 27.66s/it]Setting `pad_token_id` to `eos_token_id`:2 for open-end generation.\n",
      "Generating Summaries with Mistral-7B:   6%|▌         | 6/100 [03:47<54:14, 34.62s/it]Setting `pad_token_id` to `eos_token_id`:2 for open-end generation.\n",
      "Generating Summaries with Mistral-7B:   7%|▋         | 7/100 [04:06<46:01, 29.69s/it]Setting `pad_token_id` to `eos_token_id`:2 for open-end generation.\n",
      "Generating Summaries with Mistral-7B:   8%|▊         | 8/100 [04:42<48:19, 31.51s/it]Setting `pad_token_id` to `eos_token_id`:2 for open-end generation.\n",
      "Generating Summaries with Mistral-7B:   9%|▉         | 9/100 [05:05<43:51, 28.92s/it]Setting `pad_token_id` to `eos_token_id`:2 for open-end generation.\n",
      "Generating Summaries with Mistral-7B:  10%|█         | 10/100 [05:26<39:38, 26.43s/it]Setting `pad_token_id` to `eos_token_id`:2 for open-end generation.\n",
      "Generating Summaries with Mistral-7B:  11%|█         | 11/100 [05:41<34:18, 23.13s/it]Setting `pad_token_id` to `eos_token_id`:2 for open-end generation.\n",
      "Generating Summaries with Mistral-7B:  12%|█▏        | 12/100 [06:09<35:49, 24.43s/it]Setting `pad_token_id` to `eos_token_id`:2 for open-end generation.\n",
      "Generating Summaries with Mistral-7B:  13%|█▎        | 13/100 [06:33<35:26, 24.44s/it]Setting `pad_token_id` to `eos_token_id`:2 for open-end generation.\n",
      "Generating Summaries with Mistral-7B:  14%|█▍        | 14/100 [06:43<28:45, 20.06s/it]Setting `pad_token_id` to `eos_token_id`:2 for open-end generation.\n",
      "Generating Summaries with Mistral-7B:  15%|█▌        | 15/100 [07:15<33:35, 23.71s/it]Setting `pad_token_id` to `eos_token_id`:2 for open-end generation.\n",
      "Generating Summaries with Mistral-7B:  16%|█▌        | 16/100 [07:37<32:24, 23.15s/it]Setting `pad_token_id` to `eos_token_id`:2 for open-end generation.\n",
      "Generating Summaries with Mistral-7B:  17%|█▋        | 17/100 [08:00<31:46, 22.97s/it]Setting `pad_token_id` to `eos_token_id`:2 for open-end generation.\n",
      "Generating Summaries with Mistral-7B:  18%|█▊        | 18/100 [08:30<34:08, 24.98s/it]Setting `pad_token_id` to `eos_token_id`:2 for open-end generation.\n",
      "Generating Summaries with Mistral-7B:  19%|█▉        | 19/100 [09:18<43:03, 31.89s/it]Setting `pad_token_id` to `eos_token_id`:2 for open-end generation.\n",
      "Generating Summaries with Mistral-7B:  20%|██        | 20/100 [09:33<35:46, 26.83s/it]Setting `pad_token_id` to `eos_token_id`:2 for open-end generation.\n",
      "Generating Summaries with Mistral-7B:  21%|██        | 21/100 [09:45<29:27, 22.37s/it]Setting `pad_token_id` to `eos_token_id`:2 for open-end generation.\n",
      "Generating Summaries with Mistral-7B:  22%|██▏       | 22/100 [10:00<26:20, 20.26s/it]Setting `pad_token_id` to `eos_token_id`:2 for open-end generation.\n",
      "Generating Summaries with Mistral-7B:  23%|██▎       | 23/100 [10:16<24:13, 18.88s/it]Setting `pad_token_id` to `eos_token_id`:2 for open-end generation.\n",
      "Generating Summaries with Mistral-7B:  24%|██▍       | 24/100 [10:43<27:07, 21.41s/it]Setting `pad_token_id` to `eos_token_id`:2 for open-end generation.\n",
      "Generating Summaries with Mistral-7B:  25%|██▌       | 25/100 [11:07<27:37, 22.11s/it]Setting `pad_token_id` to `eos_token_id`:2 for open-end generation.\n",
      "Generating Summaries with Mistral-7B:  26%|██▌       | 26/100 [11:38<30:47, 24.96s/it]Setting `pad_token_id` to `eos_token_id`:2 for open-end generation.\n",
      "Generating Summaries with Mistral-7B:  27%|██▋       | 27/100 [12:02<29:54, 24.58s/it]Setting `pad_token_id` to `eos_token_id`:2 for open-end generation.\n",
      "Generating Summaries with Mistral-7B:  28%|██▊       | 28/100 [12:13<24:49, 20.68s/it]Setting `pad_token_id` to `eos_token_id`:2 for open-end generation.\n",
      "Generating Summaries with Mistral-7B:  29%|██▉       | 29/100 [12:34<24:33, 20.76s/it]Setting `pad_token_id` to `eos_token_id`:2 for open-end generation.\n",
      "Generating Summaries with Mistral-7B:  30%|███       | 30/100 [12:43<19:59, 17.13s/it]Setting `pad_token_id` to `eos_token_id`:2 for open-end generation.\n",
      "Generating Summaries with Mistral-7B:  31%|███       | 31/100 [13:04<20:52, 18.16s/it]Setting `pad_token_id` to `eos_token_id`:2 for open-end generation.\n",
      "Generating Summaries with Mistral-7B:  32%|███▏      | 32/100 [13:27<22:13, 19.62s/it]Setting `pad_token_id` to `eos_token_id`:2 for open-end generation.\n",
      "Generating Summaries with Mistral-7B:  33%|███▎      | 33/100 [13:43<20:45, 18.59s/it]Setting `pad_token_id` to `eos_token_id`:2 for open-end generation.\n",
      "Generating Summaries with Mistral-7B:  34%|███▍      | 34/100 [14:31<30:05, 27.36s/it]Setting `pad_token_id` to `eos_token_id`:2 for open-end generation.\n",
      "Generating Summaries with Mistral-7B:  35%|███▌      | 35/100 [14:57<29:21, 27.11s/it]Setting `pad_token_id` to `eos_token_id`:2 for open-end generation.\n",
      "Generating Summaries with Mistral-7B:  36%|███▌      | 36/100 [15:27<29:47, 27.93s/it]Setting `pad_token_id` to `eos_token_id`:2 for open-end generation.\n",
      "Generating Summaries with Mistral-7B:  37%|███▋      | 37/100 [16:05<32:27, 30.91s/it]Setting `pad_token_id` to `eos_token_id`:2 for open-end generation.\n",
      "Generating Summaries with Mistral-7B:  38%|███▊      | 38/100 [16:20<27:01, 26.15s/it]Setting `pad_token_id` to `eos_token_id`:2 for open-end generation.\n",
      "Generating Summaries with Mistral-7B:  39%|███▉      | 39/100 [16:48<27:16, 26.83s/it]Setting `pad_token_id` to `eos_token_id`:2 for open-end generation.\n",
      "Generating Summaries with Mistral-7B:  40%|████      | 40/100 [17:27<30:31, 30.52s/it]Setting `pad_token_id` to `eos_token_id`:2 for open-end generation.\n",
      "Generating Summaries with Mistral-7B:  41%|████      | 41/100 [17:49<27:17, 27.76s/it]Setting `pad_token_id` to `eos_token_id`:2 for open-end generation.\n",
      "Generating Summaries with Mistral-7B:  42%|████▏     | 42/100 [18:15<26:24, 27.32s/it]Setting `pad_token_id` to `eos_token_id`:2 for open-end generation.\n",
      "Generating Summaries with Mistral-7B:  43%|████▎     | 43/100 [18:36<24:12, 25.48s/it]Setting `pad_token_id` to `eos_token_id`:2 for open-end generation.\n",
      "Generating Summaries with Mistral-7B:  44%|████▍     | 44/100 [19:00<23:18, 24.98s/it]Setting `pad_token_id` to `eos_token_id`:2 for open-end generation.\n",
      "Generating Summaries with Mistral-7B:  45%|████▌     | 45/100 [19:15<20:04, 21.90s/it]Setting `pad_token_id` to `eos_token_id`:2 for open-end generation.\n",
      "Generating Summaries with Mistral-7B:  46%|████▌     | 46/100 [19:35<19:22, 21.53s/it]Setting `pad_token_id` to `eos_token_id`:2 for open-end generation.\n",
      "Generating Summaries with Mistral-7B:  47%|████▋     | 47/100 [20:06<21:31, 24.37s/it]Setting `pad_token_id` to `eos_token_id`:2 for open-end generation.\n",
      "Generating Summaries with Mistral-7B:  48%|████▊     | 48/100 [20:30<20:52, 24.08s/it]Setting `pad_token_id` to `eos_token_id`:2 for open-end generation.\n",
      "Generating Summaries with Mistral-7B:  49%|████▉     | 49/100 [21:15<25:54, 30.47s/it]Setting `pad_token_id` to `eos_token_id`:2 for open-end generation.\n",
      "Generating Summaries with Mistral-7B:  50%|█████     | 50/100 [21:40<24:03, 28.88s/it]Setting `pad_token_id` to `eos_token_id`:2 for open-end generation.\n",
      "Generating Summaries with Mistral-7B:  51%|█████     | 51/100 [22:03<22:04, 27.03s/it]Setting `pad_token_id` to `eos_token_id`:2 for open-end generation.\n",
      "Generating Summaries with Mistral-7B:  52%|█████▏    | 52/100 [22:49<26:02, 32.55s/it]Setting `pad_token_id` to `eos_token_id`:2 for open-end generation.\n",
      "Generating Summaries with Mistral-7B:  53%|█████▎    | 53/100 [23:19<25:06, 32.05s/it]Setting `pad_token_id` to `eos_token_id`:2 for open-end generation.\n",
      "Generating Summaries with Mistral-7B:  54%|█████▍    | 54/100 [23:40<22:01, 28.73s/it]Setting `pad_token_id` to `eos_token_id`:2 for open-end generation.\n",
      "Generating Summaries with Mistral-7B:  55%|█████▌    | 55/100 [24:26<25:21, 33.80s/it]Setting `pad_token_id` to `eos_token_id`:2 for open-end generation.\n",
      "Generating Summaries with Mistral-7B:  56%|█████▌    | 56/100 [24:45<21:33, 29.40s/it]Setting `pad_token_id` to `eos_token_id`:2 for open-end generation.\n",
      "Generating Summaries with Mistral-7B:  57%|█████▋    | 57/100 [24:59<17:47, 24.83s/it]Setting `pad_token_id` to `eos_token_id`:2 for open-end generation.\n",
      "Generating Summaries with Mistral-7B:  58%|█████▊    | 58/100 [25:26<17:49, 25.47s/it]Setting `pad_token_id` to `eos_token_id`:2 for open-end generation.\n",
      "Generating Summaries with Mistral-7B:  59%|█████▉    | 59/100 [26:04<19:53, 29.11s/it]Setting `pad_token_id` to `eos_token_id`:2 for open-end generation.\n",
      "Generating Summaries with Mistral-7B:  60%|██████    | 60/100 [26:31<19:01, 28.54s/it]Setting `pad_token_id` to `eos_token_id`:2 for open-end generation.\n",
      "Generating Summaries with Mistral-7B:  61%|██████    | 61/100 [27:17<21:59, 33.83s/it]Setting `pad_token_id` to `eos_token_id`:2 for open-end generation.\n",
      "Generating Summaries with Mistral-7B:  62%|██████▏   | 62/100 [27:50<21:15, 33.55s/it]Setting `pad_token_id` to `eos_token_id`:2 for open-end generation.\n",
      "Generating Summaries with Mistral-7B:  63%|██████▎   | 63/100 [28:15<19:07, 31.01s/it]Setting `pad_token_id` to `eos_token_id`:2 for open-end generation.\n",
      "Generating Summaries with Mistral-7B:  64%|██████▍   | 64/100 [28:53<19:50, 33.07s/it]Setting `pad_token_id` to `eos_token_id`:2 for open-end generation.\n",
      "Generating Summaries with Mistral-7B:  65%|██████▌   | 65/100 [29:26<19:19, 33.13s/it]Setting `pad_token_id` to `eos_token_id`:2 for open-end generation.\n",
      "Generating Summaries with Mistral-7B:  66%|██████▌   | 66/100 [29:45<16:16, 28.71s/it]Setting `pad_token_id` to `eos_token_id`:2 for open-end generation.\n",
      "Generating Summaries with Mistral-7B:  67%|██████▋   | 67/100 [30:10<15:08, 27.54s/it]Setting `pad_token_id` to `eos_token_id`:2 for open-end generation.\n",
      "Generating Summaries with Mistral-7B:  68%|██████▊   | 68/100 [30:26<12:56, 24.27s/it]Setting `pad_token_id` to `eos_token_id`:2 for open-end generation.\n",
      "Generating Summaries with Mistral-7B:  69%|██████▉   | 69/100 [30:58<13:45, 26.63s/it]Setting `pad_token_id` to `eos_token_id`:2 for open-end generation.\n",
      "Generating Summaries with Mistral-7B:  70%|███████   | 70/100 [31:03<09:57, 19.92s/it]Setting `pad_token_id` to `eos_token_id`:2 for open-end generation.\n",
      "Generating Summaries with Mistral-7B:  71%|███████   | 71/100 [31:20<09:12, 19.04s/it]Setting `pad_token_id` to `eos_token_id`:2 for open-end generation.\n",
      "Generating Summaries with Mistral-7B:  72%|███████▏  | 72/100 [31:48<10:09, 21.76s/it]Setting `pad_token_id` to `eos_token_id`:2 for open-end generation.\n",
      "Generating Summaries with Mistral-7B:  73%|███████▎  | 73/100 [32:13<10:12, 22.68s/it]Setting `pad_token_id` to `eos_token_id`:2 for open-end generation.\n",
      "Generating Summaries with Mistral-7B:  74%|███████▍  | 74/100 [32:37<10:01, 23.15s/it]Setting `pad_token_id` to `eos_token_id`:2 for open-end generation.\n",
      "Generating Summaries with Mistral-7B:  75%|███████▌  | 75/100 [32:49<08:12, 19.70s/it]Setting `pad_token_id` to `eos_token_id`:2 for open-end generation.\n",
      "Generating Summaries with Mistral-7B:  76%|███████▌  | 76/100 [33:14<08:33, 21.41s/it]Setting `pad_token_id` to `eos_token_id`:2 for open-end generation.\n",
      "Generating Summaries with Mistral-7B:  77%|███████▋  | 77/100 [33:53<10:12, 26.64s/it]Setting `pad_token_id` to `eos_token_id`:2 for open-end generation.\n",
      "Generating Summaries with Mistral-7B:  78%|███████▊  | 78/100 [34:39<11:53, 32.41s/it]Setting `pad_token_id` to `eos_token_id`:2 for open-end generation.\n",
      "Generating Summaries with Mistral-7B:  79%|███████▉  | 79/100 [35:21<12:25, 35.52s/it]Setting `pad_token_id` to `eos_token_id`:2 for open-end generation.\n",
      "Generating Summaries with Mistral-7B:  80%|████████  | 80/100 [35:29<08:59, 26.99s/it]Setting `pad_token_id` to `eos_token_id`:2 for open-end generation.\n",
      "Generating Summaries with Mistral-7B:  81%|████████  | 81/100 [35:48<07:47, 24.62s/it]Setting `pad_token_id` to `eos_token_id`:2 for open-end generation.\n",
      "Generating Summaries with Mistral-7B:  82%|████████▏ | 82/100 [36:05<06:45, 22.53s/it]Setting `pad_token_id` to `eos_token_id`:2 for open-end generation.\n",
      "Generating Summaries with Mistral-7B:  83%|████████▎ | 83/100 [36:51<08:22, 29.57s/it]Setting `pad_token_id` to `eos_token_id`:2 for open-end generation.\n",
      "Generating Summaries with Mistral-7B:  84%|████████▍ | 84/100 [37:37<09:11, 34.47s/it]Setting `pad_token_id` to `eos_token_id`:2 for open-end generation.\n",
      "Generating Summaries with Mistral-7B:  85%|████████▌ | 85/100 [37:59<07:39, 30.66s/it]Setting `pad_token_id` to `eos_token_id`:2 for open-end generation.\n",
      "Generating Summaries with Mistral-7B:  86%|████████▌ | 86/100 [38:17<06:16, 26.88s/it]Setting `pad_token_id` to `eos_token_id`:2 for open-end generation.\n",
      "Generating Summaries with Mistral-7B:  87%|████████▋ | 87/100 [38:46<05:58, 27.61s/it]Setting `pad_token_id` to `eos_token_id`:2 for open-end generation.\n",
      "Generating Summaries with Mistral-7B:  88%|████████▊ | 88/100 [39:03<04:53, 24.44s/it]Setting `pad_token_id` to `eos_token_id`:2 for open-end generation.\n",
      "Generating Summaries with Mistral-7B:  89%|████████▉ | 89/100 [39:34<04:50, 26.42s/it]Setting `pad_token_id` to `eos_token_id`:2 for open-end generation.\n",
      "Generating Summaries with Mistral-7B:  90%|█████████ | 90/100 [40:20<05:23, 32.30s/it]Setting `pad_token_id` to `eos_token_id`:2 for open-end generation.\n",
      "Generating Summaries with Mistral-7B:  91%|█████████ | 91/100 [40:42<04:20, 28.95s/it]Setting `pad_token_id` to `eos_token_id`:2 for open-end generation.\n",
      "Generating Summaries with Mistral-7B:  92%|█████████▏| 92/100 [41:29<04:35, 34.47s/it]Setting `pad_token_id` to `eos_token_id`:2 for open-end generation.\n",
      "Generating Summaries with Mistral-7B:  93%|█████████▎| 93/100 [41:45<03:23, 29.03s/it]Setting `pad_token_id` to `eos_token_id`:2 for open-end generation.\n",
      "Generating Summaries with Mistral-7B:  94%|█████████▍| 94/100 [41:59<02:26, 24.40s/it]Setting `pad_token_id` to `eos_token_id`:2 for open-end generation.\n",
      "Generating Summaries with Mistral-7B:  95%|█████████▌| 95/100 [42:14<01:47, 21.49s/it]Setting `pad_token_id` to `eos_token_id`:2 for open-end generation.\n",
      "Generating Summaries with Mistral-7B:  96%|█████████▌| 96/100 [42:37<01:27, 21.95s/it]Setting `pad_token_id` to `eos_token_id`:2 for open-end generation.\n",
      "Generating Summaries with Mistral-7B:  97%|█████████▋| 97/100 [43:25<01:29, 29.85s/it]Setting `pad_token_id` to `eos_token_id`:2 for open-end generation.\n",
      "Generating Summaries with Mistral-7B:  98%|█████████▊| 98/100 [43:47<00:54, 27.45s/it]Setting `pad_token_id` to `eos_token_id`:2 for open-end generation.\n",
      "Generating Summaries with Mistral-7B:  99%|█████████▉| 99/100 [44:01<00:23, 23.62s/it]Setting `pad_token_id` to `eos_token_id`:2 for open-end generation.\n",
      "Generating Summaries with Mistral-7B: 100%|██████████| 100/100 [44:45<00:00, 26.86s/it]"
     ]
    },
    {
     "name": "stdout",
     "output_type": "stream",
     "text": [
      "✅ Summaries saved to 'mistral_7b_generated_summaries.csv'\n"
     ]
    },
    {
     "name": "stderr",
     "output_type": "stream",
     "text": [
      "\n",
      "/tmp/ipykernel_12008/3912003086.py:100: SettingWithCopyWarning: \n",
      "A value is trying to be set on a copy of a slice from a DataFrame.\n",
      "Try using .loc[row_indexer,col_indexer] = value instead\n",
      "\n",
      "See the caveats in the documentation: https://pandas.pydata.org/pandas-docs/stable/user_guide/indexing.html#returning-a-view-versus-a-copy\n",
      "  subset_df['generated_summary_mistral_7b'] = generated_summaries\n"
     ]
    }
   ],
   "source": [
    "import torch\n",
    "from tqdm import tqdm\n",
    "\n",
    "# Few-shot examples for prompt construction (limit to 2 for better performance)\n",
    "few_shot_examples = [\n",
    "    {\n",
    "        \"input\": \"<SEX> F <SERVICE> ONCOLOGY <CHIEF COMPLAINT> worsening back pain <HISTORY OF PRESENT ILLNESS> The patient is a 45-year-old female with a history of metastatic breast cancer presenting with worsening back pain over the last two weeks...\",\n",
    "        \"Summary\": \"A 45-year-old female with metastatic breast cancer presented with worsening back pain. Imaging showed thoracic spine fractures, and she received palliative radiation therapy.\"\n",
    "    },\n",
    "    {\n",
    "        \"input\": \"<SEX> M <SERVICE> CARDIOLOGY <CHIEF COMPLAINT> chest pain <HISTORY OF PRESENT ILLNESS> A 55-year-old male presented with chest pain radiating to his left arm and jaw...\",\n",
    "        \"Summary\": \"A 55-year-old male with a myocardial infarction underwent PCI with stenting of the right coronary artery. He was monitored and started on dual antiplatelet therapy.\"\n",
    "    }\n",
    "]\n",
    "\n",
    "# Function to construct the prompt for Mistral-7B with clearer separation\n",
    "def construct_few_shot_prompt(input_text):\n",
    "    prompt = (\n",
    "    \"You are a clinical summarization expert.\\n\"\n",
    "    \"Given a patient's structured case, summarize it in 2-3 sentences, including age, gender, primary complaint, diagnosis, and treatment.\\n\"\n",
    "    \"Your response must ONLY contain the summary in natural language, not tags or labels.\\n\\n\")\n",
    "    prompt += \"DO NOT include any prompt text in your response, only provide the summary.\\n\\n\"\n",
    "    for example in few_shot_examples:\n",
    "        prompt += f\"### CASE:\\n{example['input']}\\n\\n### SUMMARY:\\n{example['Summary']}\\n\\n\"\n",
    "    prompt += f\"### CASE:\\n{input_text}\\n\\n### SUMMARY:\"\n",
    "    return f\"<s>[INST] {prompt} [/INST]\"\n",
    "\n",
    "# Optional: process fewer rows to avoid memory crash\n",
    "subset_df = mimic_iv_bhc_100.iloc[:101]  # ← You can change/remove this limit\n",
    "generated_summaries = []\n",
    "\n",
    "for input_text in tqdm(subset_df['input'], desc=\"Generating Summaries with Mistral-7B\"):\n",
    "    prompt = construct_few_shot_prompt(input_text)\n",
    "    \n",
    "    # Tokenize with truncation\n",
    "    inputs = tokenizer(\n",
    "        prompt,\n",
    "        return_tensors=\"pt\",\n",
    "        max_length=4096, \n",
    "        truncation=True\n",
    "    )\n",
    "    \n",
    "    inputs = {k: v.to(model.device) for k, v in inputs.items()}\n",
    "    \n",
    "    generation_params = {\n",
    "        \"do_sample\": True,\n",
    "        \"top_p\": 0.9, \n",
    "        \"temperature\": 0.7,\n",
    "        \"top_k\": 50,\n",
    "        \"max_new_tokens\": 250,\n",
    "        \"repetition_penalty\": 1,\n",
    "        \"eos_token_id\": tokenizer.eos_token_id\n",
    "    }\n",
    "    \n",
    "    # Get the length of input tokens\n",
    "    prompt_length = inputs[\"input_ids\"].shape[1]\n",
    "    \n",
    "    with torch.no_grad():\n",
    "        outputs = model.generate(\n",
    "            input_ids=inputs[\"input_ids\"],\n",
    "            attention_mask=inputs[\"attention_mask\"],\n",
    "            return_dict_in_generate=True,\n",
    "            output_scores=False,\n",
    "            **generation_params\n",
    "        )\n",
    "    \n",
    "    # Extract only the new tokens\n",
    "    new_tokens = outputs.sequences[0, prompt_length:]\n",
    "    generated_text = tokenizer.decode(new_tokens, skip_special_tokens=True).strip()\n",
    "    \n",
    "    # Comprehensive cleaning of any prompt formatting that might have been generated\n",
    "    # Remove any prompt fragments\n",
    "    for prefix in [\"Input:\", \"Output:\", \"### CASE:\", \"### SUMMARY:\", \"CASE:\", \"SUMMARY:\", \"Case:\", \"Summary:\"]:\n",
    "        if prefix in generated_text:\n",
    "            parts = generated_text.split(prefix)\n",
    "            if prefix in [\"### SUMMARY:\", \"SUMMARY:\", \"Summary:\", \"Output:\"]:\n",
    "                # Keep the part after the last occurrence\n",
    "                generated_text = parts[-1].strip()\n",
    "            else:\n",
    "                # For other prefixes, keep only the part before\n",
    "                generated_text = parts[0].strip()\n",
    "    \n",
    "    # Remove any examples text that might have been copied\n",
    "    for example in few_shot_examples:\n",
    "        if example['Summary'] in generated_text:\n",
    "            generated_text = generated_text.replace(example['target'], \"\").strip()\n",
    "    \n",
    "    # Remove any instruction tags\n",
    "    generated_text = generated_text.replace(\"[INST]\", \"\").replace(\"[/INST]\", \"\").strip()\n",
    "    \n",
    "    # Final check: If it still has Input/Case in it, take only the last paragraph\n",
    "    if any(keyword in generated_text for keyword in [\"Input:\", \"Case:\", \"Output:\", \"Summary:\"]):\n",
    "        paragraphs = generated_text.split('\\n\\n')\n",
    "        generated_text = paragraphs[-1].strip()\n",
    "    \n",
    "    generated_summaries.append(generated_text)\n",
    "    torch.cuda.empty_cache()  # clear memory after each example\n",
    "\n",
    "# Save results\n",
    "subset_df['generated_summary_mistral_7b'] = generated_summaries\n",
    "subset_df.to_csv(\"mistral_7b_generated_summaries.csv\", index=False)\n",
    "print(\"✅ Summaries saved to 'mistral_7b_generated_summaries.csv'\")"
   ]
  },
  {
   "cell_type": "code",
   "execution_count": 6,
   "id": "a0656165-0d6f-437c-a619-131505be33c2",
   "metadata": {
    "tags": []
   },
   "outputs": [
    {
     "data": {
      "text/html": [
       "<div>\n",
       "<style scoped>\n",
       "    .dataframe tbody tr th:only-of-type {\n",
       "        vertical-align: middle;\n",
       "    }\n",
       "\n",
       "    .dataframe tbody tr th {\n",
       "        vertical-align: top;\n",
       "    }\n",
       "\n",
       "    .dataframe thead th {\n",
       "        text-align: right;\n",
       "    }\n",
       "</style>\n",
       "<table border=\"1\" class=\"dataframe\">\n",
       "  <thead>\n",
       "    <tr style=\"text-align: right;\">\n",
       "      <th></th>\n",
       "      <th>note_id</th>\n",
       "      <th>input</th>\n",
       "      <th>target</th>\n",
       "      <th>input_tokens</th>\n",
       "      <th>target_tokens</th>\n",
       "      <th>generated_summary_mistral_7b</th>\n",
       "    </tr>\n",
       "  </thead>\n",
       "  <tbody>\n",
       "    <tr>\n",
       "      <th>0</th>\n",
       "      <td>16002318-DS-17</td>\n",
       "      <td>&lt;SEX&gt; F &lt;SERVICE&gt; SURGERY &lt;ALLERGIES&gt; Iodine /...</td>\n",
       "      <td>This is a ___ yo F admitted to the hospital af...</td>\n",
       "      <td>1195</td>\n",
       "      <td>75</td>\n",
       "      <td>A morbidly obese 45-year-old female with a his...</td>\n",
       "    </tr>\n",
       "    <tr>\n",
       "      <th>1</th>\n",
       "      <td>15638884-DS-4</td>\n",
       "      <td>&lt;SEX&gt; M &lt;SERVICE&gt; MEDICINE &lt;ALLERGIES&gt; Augment...</td>\n",
       "      <td>Mr. ___ is a ___ yo man with CAD with prior MI...</td>\n",
       "      <td>3496</td>\n",
       "      <td>1143</td>\n",
       "      <td>Succinate XL 100 mg PO DAILY 20. HELD- meloxic...</td>\n",
       "    </tr>\n",
       "    <tr>\n",
       "      <th>2</th>\n",
       "      <td>12435705-DS-14</td>\n",
       "      <td>&lt;SEX&gt; M &lt;SERVICE&gt; MEDICINE &lt;ALLERGIES&gt; ibuprof...</td>\n",
       "      <td>Mr. ___ is a ___ w/ Ph+ve ALL on dasatanib and...</td>\n",
       "      <td>5591</td>\n",
       "      <td>1098</td>\n",
       "      <td>IA ISOLATED. MICROBIOLOGY REPORT (Final ___: N...</td>\n",
       "    </tr>\n",
       "    <tr>\n",
       "      <th>3</th>\n",
       "      <td>12413577-DS-4</td>\n",
       "      <td>&lt;SEX&gt; F &lt;SERVICE&gt; OBSTETRICS/GYNECOLOGY &lt;ALLER...</td>\n",
       "      <td>On ___, Ms. ___ was admitted to the gynecology...</td>\n",
       "      <td>1119</td>\n",
       "      <td>221</td>\n",
       "      <td>A 45-year-old female with a history of ulcerat...</td>\n",
       "    </tr>\n",
       "  </tbody>\n",
       "</table>\n",
       "</div>"
      ],
      "text/plain": [
       "          note_id                                              input  \\\n",
       "0  16002318-DS-17  <SEX> F <SERVICE> SURGERY <ALLERGIES> Iodine /...   \n",
       "1   15638884-DS-4  <SEX> M <SERVICE> MEDICINE <ALLERGIES> Augment...   \n",
       "2  12435705-DS-14  <SEX> M <SERVICE> MEDICINE <ALLERGIES> ibuprof...   \n",
       "3   12413577-DS-4  <SEX> F <SERVICE> OBSTETRICS/GYNECOLOGY <ALLER...   \n",
       "\n",
       "                                              target  input_tokens  \\\n",
       "0  This is a ___ yo F admitted to the hospital af...          1195   \n",
       "1  Mr. ___ is a ___ yo man with CAD with prior MI...          3496   \n",
       "2  Mr. ___ is a ___ w/ Ph+ve ALL on dasatanib and...          5591   \n",
       "3  On ___, Ms. ___ was admitted to the gynecology...          1119   \n",
       "\n",
       "   target_tokens                       generated_summary_mistral_7b  \n",
       "0             75  A morbidly obese 45-year-old female with a his...  \n",
       "1           1143  Succinate XL 100 mg PO DAILY 20. HELD- meloxic...  \n",
       "2           1098  IA ISOLATED. MICROBIOLOGY REPORT (Final ___: N...  \n",
       "3            221  A 45-year-old female with a history of ulcerat...  "
      ]
     },
     "execution_count": 6,
     "metadata": {},
     "output_type": "execute_result"
    }
   ],
   "source": [
    "subset_df.head(4)"
   ]
  },
  {
   "cell_type": "code",
   "execution_count": 7,
   "id": "53dcd5d0-3986-43c7-8b91-5c6ed3df87a4",
   "metadata": {
    "tags": []
   },
   "outputs": [
    {
     "name": "stdout",
     "output_type": "stream",
     "text": [
      "<SEX> M <SERVICE> MEDICINE <ALLERGIES> ibuprofen <ATTENDING> ___ <CHIEF COMPLAINT> Fever, altered mental status <MAJOR SURGICAL OR INVASIVE PROCEDURE> Parietal bone biopsy ___ <HISTORY OF PRESENT ILLNESS> ___ year old man with history of ruptured AVM on ___, s/p craniectomy/ embolization/ cranioplasty) who presented with abnormal CBC and was diagnosed with PH+ ALL and found to have a MRSA intracranial abscess/osteomyelitis at the site of his previous surgery in ___ of this year now with fever and altered mental status. The patient's wife told me that he had a fall on ___ when he got up to urinate but used his weak left hand to support himself. Has been altered since. Went to ___ but they dc-ed after negative NCHCT. However, presented again to ___ on ___ this time also had fevers. They placed foley (he uses diapers at baseline) and transferred him to ___. Received vanco/cefepime PTA. Hx and ROS is per wife. Pt is unable to contribute much. - In the ED, initial VS were 0 98.7 108 115/78 26 98%. - Exam was notable for AOX0. - Labs were notable for Cr 1.8 (at baseline), wbc 11.9 (up from 7.6), hct 24.1, inr 1.4, normal LFts, lactate and csf cell counts. UA was +ve. Blood, urine and csf cultures were sent. - Imaging was notable for CXR which showed no acute cardio pulmonary process. - Consulted services included neurosurgery who reported that son described period of gaze deviation at OSH and periods of unresponsiveness. ED reviewed CT with NS and no acute process. - Patient was given 2L NS, Ampicillin, meropenam. Had already gotten vanc and cefepime in OSH. - Patient was admitted to ___ for further workup. - VS prior to ED 92 ___ 98% RA. On arrival to floor, the patient was alert, and while mentation was very slow was able to tell where he was and what time it was. Did not complain of any pain. REVIEW OF SYSTEMS: +ve per HPI. <PAST MEDICAL HISTORY> PAST ONCOLOGIC HISTORY: The patient was recently diagnosed with Ph(+) ALL and epidural abscess at the same time. He started induction therapy with Dexamethasone, vincristine and dasatinib. Once cleared his PB blasts went to OR for abscess evacuation and removal of the bone graft. He was hospitalized for a prolonged time, discharged home to continue 10 weeks of IV antibiotics with vancomycin. AFB culture from the bone grew MYCOBACTERIUM FORTUITUM. On discharge Bmbx was consistent with molecular remission. He remains on Dasatinib and comes for scheduled follow up and ongoing IT MTX for CNS prophylaxis ___: Bone marrow biopsy and aspirate ___: IVC filter placement ___ Vincristine 1mg IV ___ hemicraniectomy and evacuation of subdural empyema with Dr. ___ ___: Lumbar puncture #1 with intrathecal cytarabine ___: Lumbar puncture #2 with intrathecal methotrexate ___: Lumbar puncture #3 with intrathecal methotrexate ___: Bone marrow biopsy and aspirate, Molecular CR ___: Lumbar puncture #4 with intrathecal methotrexate ___: Lumbar puncture #5 with IT MTX, PB BCR/ABL negative ___: Lumbar puncture #6 with IT MTX, PB BCR/ABL negative ___: Lumbar puncture #7 with IT MTX, PB BCR/ABL negative ___: Lumbar puncture #8 with IT MTX PAST MEDICAL HISTORY: - AVM s/p coiling, subsequently ruptured ___ - s/p EVD ___ - s/p craniectomy ___ - s/p cerebral angio + AVM embolization, ___ - s/p G-tube placement ___ - s/p cranioplasty ___ - s/p debridement of superficial infxn ___ - UTI ___ - C. diff - ___ - Latent TB - completed rifampin therapy ___ - Minimally displaced left proximal humerus fracture, conservatively managed - Pancreatitis ___ - LLE DVT ___ - HTN - Depression <SOCIAL HISTORY> ___ <FAMILY HISTORY> Father murdered in ___. Mother healthy. <PHYSICAL EXAM> ADMISSION EXAM: -------------- General: NAD VITAL SIGNS: 99.3 142/78 97 18 99 ra HEENT: MMM, no OP lesions, no cervical, supraclavicular, or axillary adenopathy, no thyromegaly CV: RR, NL S1S2 no S3S4 MRG PULM: CTAB ABD: BS+, soft, NTND, no masses or hepatosplenomegaly LIMBS: No edema, clubbing, tremors, or asterixis; no inguinal adenopathy SKIN: No rashes or skin breakdown NEURO: Cranial nerves II-XII are within normal limits excluding visual acuity which was not assessed, no nystagmus; strength is ___ of in the right upper and lower extremities but ___ ___nd ___ in RLE, mentation very slow, but improved from prior (knew in ___, ___, name) DISCHARGE EXAM: -------------- Vitals: 98 126/76 89 18 97% RA General: NAD, slow to respond to questions, answers questions appropriately in both ___ and ___ HEENT: MMM, no cervical, supraclavicular, or axillary adenopathy, no thyromegaly CV: RR, NL S1S2 no S3S4 MRG PULM: CTAB ABD: BS+, soft, NTND, no masses or hepatosplenomegaly LIMBS: No edema, clubbing, tremors, or asterixis; no inguinal adenopathy SKIN: No rashes or skin breakdown NEURO: Cranial nerves II-XII are within normal limits excluding visual acuity which was not assessed, no nystagmus; strength is ___ of in the right upper and lower extremities but ___ ___nd ___ in RLE, mentation improved, AA+O X 3 today <PERTINENT RESULTS> ADMISSION LABS: ------------- ___ 10: 21PM ___ PTT-27.4 ___ ___ 10: 21PM PLT SMR-NORMAL PLT COUNT-231 ___ 10: 21PM HYPOCHROM-NORMAL ANISOCYT-1+ POIKILOCY-OCCASIONAL MACROCYT-1+ MICROCYT-OCCASIONAL POLYCHROM-1+ TEARDROP-OCCASIONAL ___ 10: 21PM NEUTS-83* BANDS-5 LYMPHS-8* MONOS-4 EOS-0 BASOS-0 ___ MYELOS-0 ___ 10: 21PM WBC-11.9*# RBC-2.52* HGB-8.4* HCT-24.1* MCV-96 MCH-33.3* MCHC-34.8 RDW-16.8* ___ 10: 21PM ALBUMIN-3.6 ___ 10: 21PM LIPASE-28 ___ 10: 21PM ALT(SGPT)-27 AST(SGOT)-17 ALK PHOS-78 TOT BILI-1.0 ___ 10: 21PM estGFR-Using this ___ 10: 21PM GLUCOSE-122* UREA N-18 CREAT-1.8* SODIUM-133 POTASSIUM-4.1 CHLORIDE-102 TOTAL CO2-20* ANION GAP-15 ___ 10: 34PM LACTATE-0.8 ___ 10: 40PM URINE WBCCLUMP-MOD MUCOUS-OCC ___ 10: 40PM URINE AMORPH-OCC ___ 10: 40PM URINE RBC-11* WBC-155* BACTERIA-FEW YEAST-NONE EPI-1 ___ 10: 40PM URINE BLOOD-MOD NITRITE-NEG PROTEIN-100 GLUCOSE-NEG KETONE-NEG BILIRUBIN-NEG UROBILNGN-NEG PH-6.0 LEUK-LG ___ 10: 40PM URINE COLOR-Yellow APPEAR-Hazy SP ___ ___ 10: 40PM URINE UHOLD-HOLD ___ 10: 40PM URINE HOURS-RANDOM ___ 12: 00AM CEREBROSPINAL FLUID (CSF) WBC-1 RBC-1* POLYS-60 ___ MONOS-11 EOS-1 ___ 12: 00AM CEREBROSPINAL FLUID (CSF) PROTEIN-32 GLUCOSE-60 ___ 02: 30AM OTHER BODY FLUID FluAPCR-NEGATIVE FluBPCR-NEGATIVE ___ 08: 00AM PLT COUNT-237 ___ 08: 00AM WBC-11.2* RBC-2.43* HGB-8.3* HCT-23.6* MCV-97 MCH-34.2* MCHC-35.2* RDW-16.4* ___ 08: 00AM CRP-173.9* ___ 08: 00AM CALCIUM-8.6 PHOSPHATE-3.0 MAGNESIUM-2.0 ___ 08: 00AM GLUCOSE-105* UREA N-19 CREAT-1.7* SODIUM-140 POTASSIUM-3.9 CHLORIDE-109* TOTAL CO2-23 ANION GAP-12 PERTINENT LABS: -------------- ___ 08: 00AM BLOOD CRP-173.9* ___ 08: 00AM BLOOD SED RATE-Test ___ 12: 00AM CEREBROSPINAL FLUID (CSF) WBC-1 RBC-1* Polys-60 ___ Monos-11 Eos-1 ___ 12: 00AM CEREBROSPINAL FLUID (CSF) TotProt-32 Glucose-60 ___ 05: 30AM BLOOD Ferritn-169 ___ 01: 20PM BLOOD LMWH-0.69 ___ 05: 33AM BLOOD CRP-2.8 SED RATE Test Result Reference Range/Units SED RATE BY MODIFIED 130 H < OR = 20 mm/h ___ Test Result Reference Range/Units SOURCE Blood JAK2 V617F NOT DETECTED Test Result Reference Range/Units SED RATE BY MODIFIED 79 H < OR = 20 mm/h ___ INCLUDING LABORATORIES AT ___, ___ AND ___ CAP ___, ___ Tissue Extract and Amplify Specimen Description: Parietal Bone Tissue Special Requests: No special requests Bacterial Detection by PCR Culture: No bacterial DNA detected with 16S rDNA primer set. MICROBIOLOGY: ------------ Blood cultures: ___, no growth, no fungus or mycobacteria isolated ___ no growth ___ 9: 00 pm STOOL CONSISTENCY: NOT APPLICABLE Source: Stool. **FINAL REPORT ___ C. difficile DNA amplification assay (Final ___: Negative for toxigenic C. difficile by the Illumigene DNA amplification assay. (Reference Range-Negative). ___ 10: 40 pm URINE **FINAL REPORT ___ URINE CULTURE (Final ___: KLEBSIELLA PNEUMONIAE. >100,000 ORGANISMS/ML.. Piperacillin/Tazobactam sensitivity testing performed by ___ ___. Cefepime sensitivity testing confirmed by ___ ___. SENSITIVITIES: MIC expressed in MCG/ML _________________________________________________________ KLEBSIELLA PNEUMONIAE | AMPICILLIN/SULBACTAM-- =>32 R CEFAZOLIN------------- =>64 R CEFEPIME-------------- <=1 S CEFTAZIDIME----------- 16 R CEFTRIAXONE----------- 16 R CIPROFLOXACIN---------<=0.25 S GENTAMICIN------------ <=1 S MEROPENEM-------------<=0.25 S NITROFURANTOIN-------- 64 I PIPERACILLIN/TAZO----- S TOBRAMYCIN------------ <=1 S TRIMETHOPRIM/SULFA---- <=1 S ___ 8: 29 am Rapid Respiratory Viral Screen & Culture Source: Nasopharyngeal swab. **FINAL REPORT ___ Respiratory Viral Culture (Final ___: No respiratory viruses isolated. Culture screened for Adenovirus, Influenza A & B, Parainfluenza type 1,2 & 3, and Respiratory Syncytial Virus.. Detection of viruses other than those listed above will only be performed on specific request. Please call Virology at ___ within 1 week if additional testing is needed. Respiratory Viral Antigen Screen (Final ___: Negative for Respiratory Viral Antigen. Specimen screened for: Adeno, Parainfluenza 1, 2, 3, Influenza A, B, and RSV by immunofluorescence. Refer to respiratory viral culture and/or Influenza PCR (results listed under \"OTHER\" tab) for further information. ___ 12: 00 am CSF;SPINAL FLUID # 3. **FINAL REPORT ___ GRAM STAIN (Final ___: NO POLYMORPHONUCLEAR LEUKOCYTES SEEN. NO MICROORGANISMS SEEN. FLUID CULTURE (Final ___: NO GROWTH. TISSUE RIGHT PARIETAL BONE BIOPSY. GRAM STAIN (Final ___: NO POLYMORPHONUCLEAR LEUKOCYTES SEEN. NO MICROORGANISMS SEEN. TISSUE (Final ___: NO GROWTH. ANAEROBIC CULTURE (Final ___: NO GROWTH. FUNGAL CULTURE (Final ___: NO FUNGUS ISOLATED. ACID FAST SMEAR (Final ___: NO ACID FAST BACILLI SEEN ON DIRECT SMEAR. ACID FAST CULTURE (Preliminary): NO MYCOBACTERIA ISOLATED. ACID FAST CULTURE (Pending): Urine ___: Negative for Neisseria, chlamydia, no growth on culture. ___ 3: 30 pm URINE Source: Catheter. ACID FAST CULTURE (Preliminary): NO MYCOBACTERIA ISOLATED. ___ 12: 00AM CEREBROSPINAL FLUID (CSF) WBC-1 RBC-1* Polys-60 ___ Monos-11 Eos-1 ___ 12: 00AM CEREBROSPINAL FLUID (CSF) TotProt-32 Glucose-60 ___ 02: 30AM OTHER BODY FLUID FluAPCR-NEGATIVE FluBPCR-NEGATIVE ___ 01: 06PM OTHER BODY FLUID UNIVERSAL PCR (BACTERIA AND AFB)- IMAGING/STUDIES: --------------- ___ (PORTABLE AP) IMPRESSION: No acute cardiopulmonary process. ___ HEAD W & W/O CONTRAS IMPRESSION: 1. In comparison with the most recent examination, again postsurgical changes are seen, consistent with right parietal craniotomy and craniectomy, persistent moderate pattern of enhancement along the right temporal bone. 2. Overall no significant changes are demonstrated, there is unchanged encephalomalacia along the right frontal lobe, right insula, with ex vacuo dilatation of the lateral ventricles and moderate pattern of enhancement in the right insula and along the right MCA distribution, consistent with sequela of posttreatment changes. 3. No diffusion abnormalities are detected to indicate acute or subacute ischemic changes or abscess formation. ___: BONE FRAGMENT(S), OTHER THAN PATHOLOGIC FRACTURE FINAL READ PENDING ___ IMPRESSION: This is an abnormal awake and drowsy EEG because of frequent spike-and-wave and sharp-and-wave epileptiform discharges originating in the right central and temporal regions, which at times appear in periodic runs of ___ Hz, but they do not evolve to suggest electrographic seizures. These findings indicate highly epileptogenic cortex in these regions. Additionally, in the same region, there is continuous focal slowing, indicative of a structural lesion, causing subcortical dysfunction. The higher amplitude activity with overriding faster frequencies in the right hemisphere is indicative of a breach rhythm and may be compatible with the patient's history of a craniotomy. Over the left hemisphere, there is diffuse background slowing, indicative of a mild encephalopathy, which is non-specific with regard to etiology but may be due to various causes such as medications, toxic/metabolic disturbances or infections. There are no electrographic seizures. ___ TUMOR IMAGING (PET- IMPRESSION: 1. Increased FDG avidity within the prostate, concerning for acute prostatitis. 2. Surgical changes involving the right parietal bone with increased heterogeneous FDG avidity in the right scalp which could relate to recent surgery, but for which an underlying infectious process cannot be entirely excluded. 3. Focus of low level FDG uptake at the distal right humerus posteriorly, possibly traumatic; however, correlation with physical examination advised. ___ (AP & LAT) RIGH IMPRESSION: No focal lytic or blastic osseous lesions are seen. There is irregularity of the lateral clavicle suggestive of previous trauma. In the region of the soft tissue uptake in the posterior elbow on the prior PET scan, no definitive lesion is seen. The nodular area of uptake appears to be within the triceps tendon or muscle. Findings could be related to muscle strain although an underlying soft tissue lesion is not excluded. If there is persistent pain, this could be further evaluated with MRI. ___ IMPRESSION: This is an abnormal continuous video ICU EEG monitoring study because of (1) focal slowing and a relative attenuation of faster frequencies on the right consistent with focal cortical or subcortical dysfunction. Higher voltages and sharper features in the same region are consistent with the patient's known neurosurgical breach. (2) Mild generalized background slowing, non-specific with regards to etiology. There are no epileptiform discharges or electrographic seizures. There are no pushbutton activations. ___ Neurophysiology EEG IMPRESSION: This is an abnormal continuous video ICU EEG monitoring study because of (1) focal slowing and a relative attenuation of faster frequencies on the right consistent with focal cortical or subcortical dysfunction. Higher voltages and sharper features in the same region are consistent with the patient's known neurosurgical breach. (2) Mild generalized background slowing which is non-specific with regards to etiology. There are no epileptiform discharges or electrographic seizures. There are no pushbutton activations. Compared to the prior day's recording, there is no significant change. ___ Imaging RENAL U.S. FINDINGS: The right kidney measures 11.3 cm. The left kidney measures 10.8 cm. Arising from the midpole of the right kidney is a 2.1 x 2.0 x 2.1 cm cyst. Arising from the upper pole of the right kidney is a 0.7 x 0.7 x 0.7 cm simple cyst. Arising from the upper pole of the left kidney is an oval 2.2 x 1.5 x 1.6 cm simple cyst. No concerning solid masses are detected. There is no hydronephrosis. The bladder is moderately well distended and normal in appearance. IMPRESSION: No hydronephrosis. Simple renal cysts. DISCHARGE LABS: ------------ ___ 06: 20AM BLOOD WBC-6.1 RBC-2.83* Hgb-9.3* Hct-27.4* MCV-97 MCH-32.7* MCHC-33.7 RDW-16.4* Plt ___ ___ 06: 20AM BLOOD ___ PTT-32.1 ___ ___ 06: 20AM BLOOD Glucose-86 UreaN-25* Creat-1.9* Na-136 K-5.0 Cl-103 HCO3-20* AnGap-18 ___ 06: 20AM BLOOD ALT-23 AST-15 AlkPhos-77 TotBili-0.4 ___ 06: 20AM BLOOD Calcium-9.9 Phos-4.8* Mg-1.9 <MEDICATIONS ON ADMISSION> The Preadmission Medication list is accurate and complete. 1. Docusate Sodium 100 mg PO BID: PRN constipation 2. Escitalopram Oxalate 20 mg PO DAILY 3. LeVETiracetam 750 mg PO BID 4. Senna 8.6 mg PO BID: PRN constipatoin 5. TraZODone 50 mg PO HS 6. Vitamin D 400 UNIT PO DAILY 7. RISperidone 1 mg PO HS 8. Atovaquone Suspension 1500 mg PO DAILY 9. Chlorhexidine Gluconate 0.12% Oral Rinse 15 mL ORAL BID 10. Enoxaparin Sodium 60 mg SC Q24H 11. Famvir (famciclovir) 250 mg oral q12 prophylaxis 12. LOPERamide 2 mg PO DAILY: PRN diarrhea 13. Lorazepam 0.5-1 mg PO Q4H: PRN nausea, vomiting, anxiety 14. DASatinib 70 mg PO BID <DISCHARGE MEDICATIONS> 1. Docusate Sodium 100 mg PO BID: PRN constipation 2. Senna 8.6 mg PO BID: PRN constipatoin 3. Famvir (famciclovir) 250 mg oral q12 prophylaxis 4. DASatinib 70 mg PO BID RX *dasatinib [Sprycel] 70 mg 1 tablet(s) by mouth twice a day Disp #*60 Tablet Refills: *0 5. Doxycycline Hyclate 100 mg PO Q12H RX *doxycycline hyclate 100 mg 1 tablet(s) by mouth every twelve (12) hours Disp #*60 Tablet Refills: *0 6. Miconazole Powder 2% 1 Appl TP TID: PRN rash RX *miconazole nitrate [Anti-Fungal] 2 % 1 Appl TID: PRN Refills: *0 7. Chlorhexidine Gluconate 0.12% Oral Rinse 15 mL ORAL BID 8. LOPERamide 2 mg PO DAILY: PRN diarrhea 9. Vitamin D 400 UNIT PO DAILY 10. Lorazepam 0.5-1 mg PO Q4H: PRN nausea, vomiting, anxiety 11. Escitalopram Oxalate 20 mg PO DAILY 12. RISperidone 1 mg PO HS 13. TraZODone 50 mg PO HS 14. Ciprofloxacin HCl 500 mg PO Q12H RX *ciprofloxacin HCl 500 mg 1 tablet(s) by mouth every twelve (12) hours Disp #*60 Tablet Refills: *0 15. Zonisamide 100 mg PO BID RX *zonisamide 100 mg 1 capsule(s) by mouth twice a day Disp #*60 Capsule Refills: *0 16. Sulfameth/Trimethoprim SS 1 TAB PO DAILY RX *sulfamethoxazole-trimethoprim 400 mg-80 mg 1 tablet(s) by mouth daily Disp #*30 Tablet Refills: *0 17. Enoxaparin Sodium 60 mg SC DAILY Start: ___, First Dose: Next Routine Administration Time RX *enoxaparin 60 mg/0.6 mL 60 mg daily subcutaneous Disp #*30 Syringe Refills: *0 <DISCHARGE DISPOSITION> Home with Service <DISCHARGE DIAGNOSIS> Primary Diagnoses: Klebsiella UTI Prostatitis Secondary Diagnoses: Ph+ ALL History of ruptured AVM <DISCHARGE CONDITION> Level of Consciousness: Alert and interactive. Activity Status: Out of Bed with assistance to chair or wheelchair. Mental Status: Clear and coherent, slow to respond. <FOLLOWUP INSTRUCTIONS> ___ <DISCHARGE INSTRUCTIONS> Dear Mr. ___, You were recently hospitalized at ___ because of altered mental status. You were found to have a urinary tract infection and you were treated with antibiotics. You had an MRI of your head which did not show signs of a new stroke. You also had a bone biopsy of your skull which did not show signs of an infection. You had EEGs to monitor for seizures which did not show any seizure activity, but you were started on a new anti-seizure medicine. You had a PET body scan which showed infection of the prostate. You will likely need a prolonged course of antibiotics (about 12 weeks). Please follow up with your appointments listed below. You will need to follow up with heme/onc, infectious disease, neurology, and neurosurgery. Thank you for allowing us to participate in your care. Sincerely, Your ___ Team \n"
     ]
    }
   ],
   "source": [
    "print(subset_df['input'].iloc[2])"
   ]
  },
  {
   "cell_type": "code",
   "execution_count": 8,
   "id": "31f0102f-9157-4099-830f-af967b1902b9",
   "metadata": {
    "tags": []
   },
   "outputs": [
    {
     "name": "stdout",
     "output_type": "stream",
     "text": [
      "IA ISOLATED. MICROBIOLOGY REPORT (Final ___: No growth in any of the cultures. No microorganisms isolated from CSF, parietal bone tissue, or anaerobic culture. MICROBIOLOGY REPORT (Final ___: No growth in any of the cultures. No microorganisms isolated from CSF, parietal bone tissue, or anaerobic culture. MICROBIOLOGY REPORT (Final ___: No growth in any of the cultures. No microorganisms isolated from CSF, parietal bone tissue, or anaerobic culture. MICROBIOLOGY REPORT (Final ___: No growth in any of the cultures. No microorganisms isolated from CSF, parietal bone tissue, or anaerobic culture. MICROBIOLOGY REPORT (Final ___: No growth in any of the cultures. No microorganisms isolated from CSF, parietal bone tissue, or anaerobic culture. MICROBIOLOGY REPORT (Final ___: No growth in any of the cultures. No microorganisms\n"
     ]
    }
   ],
   "source": [
    "print(subset_df['generated_summary_mistral_7b'].iloc[2])"
   ]
  },
  {
   "cell_type": "code",
   "execution_count": null,
   "id": "659496d2-7076-40f4-b916-fe6a91f39c90",
   "metadata": {},
   "outputs": [],
   "source": []
  }
 ],
 "metadata": {
  "kernelspec": {
   "display_name": "conda_pytorch_p310",
   "language": "python",
   "name": "conda_pytorch_p310"
  },
  "language_info": {
   "codemirror_mode": {
    "name": "ipython",
    "version": 3
   },
   "file_extension": ".py",
   "mimetype": "text/x-python",
   "name": "python",
   "nbconvert_exporter": "python",
   "pygments_lexer": "ipython3",
   "version": "3.10.14"
  }
 },
 "nbformat": 4,
 "nbformat_minor": 5
}

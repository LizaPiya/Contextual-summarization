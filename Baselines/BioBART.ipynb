{
 "cells": [
  {
   "cell_type": "code",
   "execution_count": 1,
   "id": "b5bb511f-f510-4ce9-959e-085a2e613ece",
   "metadata": {
    "tags": []
   },
   "outputs": [
    {
     "name": "stderr",
     "output_type": "stream",
     "text": [
      "/home/ec2-user/anaconda3/envs/pytorch_p310/lib/python3.10/site-packages/fsspec/registry.py:279: UserWarning: Your installed version of s3fs is very old and known to cause\n",
      "severe performance issues, see also https://github.com/dask/dask/issues/10276\n",
      "\n",
      "To fix, you should specify a lower version bound on s3fs, or\n",
      "update the current installation.\n",
      "\n",
      "  warnings.warn(s3_msg)\n"
     ]
    },
    {
     "data": {
      "text/html": [
       "<div>\n",
       "<style scoped>\n",
       "    .dataframe tbody tr th:only-of-type {\n",
       "        vertical-align: middle;\n",
       "    }\n",
       "\n",
       "    .dataframe tbody tr th {\n",
       "        vertical-align: top;\n",
       "    }\n",
       "\n",
       "    .dataframe thead th {\n",
       "        text-align: right;\n",
       "    }\n",
       "</style>\n",
       "<table border=\"1\" class=\"dataframe\">\n",
       "  <thead>\n",
       "    <tr style=\"text-align: right;\">\n",
       "      <th></th>\n",
       "      <th>note_id</th>\n",
       "      <th>input</th>\n",
       "      <th>target</th>\n",
       "      <th>input_tokens</th>\n",
       "      <th>target_tokens</th>\n",
       "    </tr>\n",
       "  </thead>\n",
       "  <tbody>\n",
       "    <tr>\n",
       "      <th>0</th>\n",
       "      <td>16002318-DS-17</td>\n",
       "      <td>&lt;SEX&gt; F &lt;SERVICE&gt; SURGERY &lt;ALLERGIES&gt; Iodine /...</td>\n",
       "      <td>This is a ___ yo F admitted to the hospital af...</td>\n",
       "      <td>1195</td>\n",
       "      <td>75</td>\n",
       "    </tr>\n",
       "    <tr>\n",
       "      <th>1</th>\n",
       "      <td>15638884-DS-4</td>\n",
       "      <td>&lt;SEX&gt; M &lt;SERVICE&gt; MEDICINE &lt;ALLERGIES&gt; Augment...</td>\n",
       "      <td>Mr. ___ is a ___ yo man with CAD with prior MI...</td>\n",
       "      <td>3496</td>\n",
       "      <td>1143</td>\n",
       "    </tr>\n",
       "    <tr>\n",
       "      <th>2</th>\n",
       "      <td>12435705-DS-14</td>\n",
       "      <td>&lt;SEX&gt; M &lt;SERVICE&gt; MEDICINE &lt;ALLERGIES&gt; ibuprof...</td>\n",
       "      <td>Mr. ___ is a ___ w/ Ph+ve ALL on dasatanib and...</td>\n",
       "      <td>5591</td>\n",
       "      <td>1098</td>\n",
       "    </tr>\n",
       "    <tr>\n",
       "      <th>3</th>\n",
       "      <td>12413577-DS-4</td>\n",
       "      <td>&lt;SEX&gt; F &lt;SERVICE&gt; OBSTETRICS/GYNECOLOGY &lt;ALLER...</td>\n",
       "      <td>On ___, Ms. ___ was admitted to the gynecology...</td>\n",
       "      <td>1119</td>\n",
       "      <td>221</td>\n",
       "    </tr>\n",
       "    <tr>\n",
       "      <th>4</th>\n",
       "      <td>17967161-DS-29</td>\n",
       "      <td>&lt;SEX&gt; M &lt;SERVICE&gt; SURGERY &lt;ALLERGIES&gt; lisinopr...</td>\n",
       "      <td>Mr. ___ underwent an angiogram on ___ which sh...</td>\n",
       "      <td>3307</td>\n",
       "      <td>439</td>\n",
       "    </tr>\n",
       "    <tr>\n",
       "      <th>5</th>\n",
       "      <td>16956007-DS-20</td>\n",
       "      <td>&lt;SEX&gt; M &lt;SERVICE&gt; SURGERY &lt;ALLERGIES&gt; Codeine ...</td>\n",
       "      <td>Mr. ___ is a ___ who underwent an exploratory ...</td>\n",
       "      <td>4168</td>\n",
       "      <td>1209</td>\n",
       "    </tr>\n",
       "    <tr>\n",
       "      <th>6</th>\n",
       "      <td>16919911-DS-15</td>\n",
       "      <td>&lt;SEX&gt; F &lt;SERVICE&gt; MEDICINE &lt;ALLERGIES&gt; Penicil...</td>\n",
       "      <td>This is a ___ year old female with a recent di...</td>\n",
       "      <td>2059</td>\n",
       "      <td>208</td>\n",
       "    </tr>\n",
       "    <tr>\n",
       "      <th>7</th>\n",
       "      <td>15682570-DS-25</td>\n",
       "      <td>&lt;SEX&gt; M &lt;SERVICE&gt; MEDICINE &lt;ALLERGIES&gt; No Know...</td>\n",
       "      <td>___ w/ h/o CAD ___ CABG LIMA to LAD, SVG to D1...</td>\n",
       "      <td>2215</td>\n",
       "      <td>451</td>\n",
       "    </tr>\n",
       "    <tr>\n",
       "      <th>8</th>\n",
       "      <td>12135369-DS-24</td>\n",
       "      <td>&lt;SEX&gt; F &lt;SERVICE&gt; MEDICINE &lt;ALLERGIES&gt; Compazi...</td>\n",
       "      <td>Ms ___ is a ___ year old woman with a history ...</td>\n",
       "      <td>2132</td>\n",
       "      <td>416</td>\n",
       "    </tr>\n",
       "    <tr>\n",
       "      <th>9</th>\n",
       "      <td>11906321-DS-20</td>\n",
       "      <td>&lt;SEX&gt; M &lt;SERVICE&gt; NEUROSURGERY &lt;ALLERGIES&gt; Pat...</td>\n",
       "      <td>The patient was admitted to the neurosurgery s...</td>\n",
       "      <td>2347</td>\n",
       "      <td>316</td>\n",
       "    </tr>\n",
       "    <tr>\n",
       "      <th>10</th>\n",
       "      <td>17384661-DS-20</td>\n",
       "      <td>&lt;SEX&gt; M &lt;SERVICE&gt; UROLOGY &lt;ALLERGIES&gt; No Known...</td>\n",
       "      <td>Mr. ___ was admitted to Dr. ___ Urology servic...</td>\n",
       "      <td>1452</td>\n",
       "      <td>171</td>\n",
       "    </tr>\n",
       "    <tr>\n",
       "      <th>11</th>\n",
       "      <td>11162709-DS-18</td>\n",
       "      <td>&lt;SEX&gt; M &lt;SERVICE&gt; MEDICINE &lt;ALLERGIES&gt; Sulfa (...</td>\n",
       "      <td>___ yoM with PMH notable for hx of left ICA an...</td>\n",
       "      <td>2469</td>\n",
       "      <td>420</td>\n",
       "    </tr>\n",
       "    <tr>\n",
       "      <th>12</th>\n",
       "      <td>19473355-DS-13</td>\n",
       "      <td>&lt;SEX&gt; M &lt;SERVICE&gt; SURGERY &lt;ALLERGIES&gt; No Known...</td>\n",
       "      <td>Mr. ___ is a ___ year old male with AAA who wa...</td>\n",
       "      <td>1593</td>\n",
       "      <td>259</td>\n",
       "    </tr>\n",
       "    <tr>\n",
       "      <th>13</th>\n",
       "      <td>14711846-DS-15</td>\n",
       "      <td>&lt;SEX&gt; F &lt;SERVICE&gt; MEDICINE &lt;ALLERGIES&gt; Gold Sa...</td>\n",
       "      <td>Ms. ___ was admitted for diagnosis and treatme...</td>\n",
       "      <td>3140</td>\n",
       "      <td>415</td>\n",
       "    </tr>\n",
       "    <tr>\n",
       "      <th>14</th>\n",
       "      <td>18094090-DS-35</td>\n",
       "      <td>&lt;SEX&gt; F &lt;SERVICE&gt; MEDICINE &lt;ALLERGIES&gt; Penicil...</td>\n",
       "      <td>Patient is a ___ year old woman with history o...</td>\n",
       "      <td>2346</td>\n",
       "      <td>528</td>\n",
       "    </tr>\n",
       "    <tr>\n",
       "      <th>15</th>\n",
       "      <td>16047293-DS-34</td>\n",
       "      <td>&lt;SEX&gt; M &lt;SERVICE&gt; MEDICINE &lt;ALLERGIES&gt; Penicil...</td>\n",
       "      <td>___ year-old male with PMH of diastolic heart ...</td>\n",
       "      <td>1747</td>\n",
       "      <td>144</td>\n",
       "    </tr>\n",
       "    <tr>\n",
       "      <th>16</th>\n",
       "      <td>15690160-DS-11</td>\n",
       "      <td>&lt;SEX&gt; F &lt;SERVICE&gt; NEUROLOGY &lt;ALLERGIES&gt; No Dru...</td>\n",
       "      <td>Her neuro exam has been asymptomatic since adm...</td>\n",
       "      <td>2438</td>\n",
       "      <td>18</td>\n",
       "    </tr>\n",
       "    <tr>\n",
       "      <th>17</th>\n",
       "      <td>18477272-DS-18</td>\n",
       "      <td>&lt;SEX&gt; F &lt;SERVICE&gt; OBSTETRICS/GYNECOLOGY &lt;ALLER...</td>\n",
       "      <td>On ___, Ms. ___ was admitted to the gynecology...</td>\n",
       "      <td>1192</td>\n",
       "      <td>154</td>\n",
       "    </tr>\n",
       "    <tr>\n",
       "      <th>18</th>\n",
       "      <td>10476129-DS-14</td>\n",
       "      <td>&lt;SEX&gt; F &lt;SERVICE&gt; MEDICINE &lt;ALLERGIES&gt; No Know...</td>\n",
       "      <td>BRIEF COURSE: ___ with limited PMH presented w...</td>\n",
       "      <td>2998</td>\n",
       "      <td>1119</td>\n",
       "    </tr>\n",
       "    <tr>\n",
       "      <th>19</th>\n",
       "      <td>19868904-DS-20</td>\n",
       "      <td>&lt;SEX&gt; F &lt;SERVICE&gt; NEUROLOGY &lt;ALLERGIES&gt; No Kno...</td>\n",
       "      <td>Ms. ___ was admitted to the neurology service ...</td>\n",
       "      <td>2072</td>\n",
       "      <td>221</td>\n",
       "    </tr>\n",
       "  </tbody>\n",
       "</table>\n",
       "</div>"
      ],
      "text/plain": [
       "           note_id                                              input  \\\n",
       "0   16002318-DS-17  <SEX> F <SERVICE> SURGERY <ALLERGIES> Iodine /...   \n",
       "1    15638884-DS-4  <SEX> M <SERVICE> MEDICINE <ALLERGIES> Augment...   \n",
       "2   12435705-DS-14  <SEX> M <SERVICE> MEDICINE <ALLERGIES> ibuprof...   \n",
       "3    12413577-DS-4  <SEX> F <SERVICE> OBSTETRICS/GYNECOLOGY <ALLER...   \n",
       "4   17967161-DS-29  <SEX> M <SERVICE> SURGERY <ALLERGIES> lisinopr...   \n",
       "5   16956007-DS-20  <SEX> M <SERVICE> SURGERY <ALLERGIES> Codeine ...   \n",
       "6   16919911-DS-15  <SEX> F <SERVICE> MEDICINE <ALLERGIES> Penicil...   \n",
       "7   15682570-DS-25  <SEX> M <SERVICE> MEDICINE <ALLERGIES> No Know...   \n",
       "8   12135369-DS-24  <SEX> F <SERVICE> MEDICINE <ALLERGIES> Compazi...   \n",
       "9   11906321-DS-20  <SEX> M <SERVICE> NEUROSURGERY <ALLERGIES> Pat...   \n",
       "10  17384661-DS-20  <SEX> M <SERVICE> UROLOGY <ALLERGIES> No Known...   \n",
       "11  11162709-DS-18  <SEX> M <SERVICE> MEDICINE <ALLERGIES> Sulfa (...   \n",
       "12  19473355-DS-13  <SEX> M <SERVICE> SURGERY <ALLERGIES> No Known...   \n",
       "13  14711846-DS-15  <SEX> F <SERVICE> MEDICINE <ALLERGIES> Gold Sa...   \n",
       "14  18094090-DS-35  <SEX> F <SERVICE> MEDICINE <ALLERGIES> Penicil...   \n",
       "15  16047293-DS-34  <SEX> M <SERVICE> MEDICINE <ALLERGIES> Penicil...   \n",
       "16  15690160-DS-11  <SEX> F <SERVICE> NEUROLOGY <ALLERGIES> No Dru...   \n",
       "17  18477272-DS-18  <SEX> F <SERVICE> OBSTETRICS/GYNECOLOGY <ALLER...   \n",
       "18  10476129-DS-14  <SEX> F <SERVICE> MEDICINE <ALLERGIES> No Know...   \n",
       "19  19868904-DS-20  <SEX> F <SERVICE> NEUROLOGY <ALLERGIES> No Kno...   \n",
       "\n",
       "                                               target  input_tokens  \\\n",
       "0   This is a ___ yo F admitted to the hospital af...          1195   \n",
       "1   Mr. ___ is a ___ yo man with CAD with prior MI...          3496   \n",
       "2   Mr. ___ is a ___ w/ Ph+ve ALL on dasatanib and...          5591   \n",
       "3   On ___, Ms. ___ was admitted to the gynecology...          1119   \n",
       "4   Mr. ___ underwent an angiogram on ___ which sh...          3307   \n",
       "5   Mr. ___ is a ___ who underwent an exploratory ...          4168   \n",
       "6   This is a ___ year old female with a recent di...          2059   \n",
       "7   ___ w/ h/o CAD ___ CABG LIMA to LAD, SVG to D1...          2215   \n",
       "8   Ms ___ is a ___ year old woman with a history ...          2132   \n",
       "9   The patient was admitted to the neurosurgery s...          2347   \n",
       "10  Mr. ___ was admitted to Dr. ___ Urology servic...          1452   \n",
       "11  ___ yoM with PMH notable for hx of left ICA an...          2469   \n",
       "12  Mr. ___ is a ___ year old male with AAA who wa...          1593   \n",
       "13  Ms. ___ was admitted for diagnosis and treatme...          3140   \n",
       "14  Patient is a ___ year old woman with history o...          2346   \n",
       "15  ___ year-old male with PMH of diastolic heart ...          1747   \n",
       "16  Her neuro exam has been asymptomatic since adm...          2438   \n",
       "17  On ___, Ms. ___ was admitted to the gynecology...          1192   \n",
       "18  BRIEF COURSE: ___ with limited PMH presented w...          2998   \n",
       "19  Ms. ___ was admitted to the neurology service ...          2072   \n",
       "\n",
       "    target_tokens  \n",
       "0              75  \n",
       "1            1143  \n",
       "2            1098  \n",
       "3             221  \n",
       "4             439  \n",
       "5            1209  \n",
       "6             208  \n",
       "7             451  \n",
       "8             416  \n",
       "9             316  \n",
       "10            171  \n",
       "11            420  \n",
       "12            259  \n",
       "13            415  \n",
       "14            528  \n",
       "15            144  \n",
       "16             18  \n",
       "17            154  \n",
       "18           1119  \n",
       "19            221  "
      ]
     },
     "execution_count": 1,
     "metadata": {},
     "output_type": "execute_result"
    }
   ],
   "source": [
    "import pandas as pd\n",
    "\n",
    "# Define the bucket and file names\n",
    "bucket_name = 'mimicivliza'  # Replace with your bucket name\n",
    "mimic_iv_bhc = f's3://{bucket_name}/sample_data_100.csv'\n",
    "\n",
    "# Load the files\n",
    "mimic_iv_bhc_100 = pd.read_csv(mimic_iv_bhc)\n",
    "\n",
    "# Display the data\n",
    "mimic_iv_bhc_100.head(20)"
   ]
  },
  {
   "cell_type": "code",
   "execution_count": 2,
   "id": "3762904b-50ab-4d36-84a2-7c4f240dd373",
   "metadata": {
    "tags": []
   },
   "outputs": [
    {
     "name": "stdout",
     "output_type": "stream",
     "text": [
      "Requirement already satisfied: transformers in /home/ec2-user/anaconda3/envs/pytorch_p310/lib/python3.10/site-packages (4.47.1)\n",
      "Requirement already satisfied: filelock in /home/ec2-user/anaconda3/envs/pytorch_p310/lib/python3.10/site-packages (from transformers) (3.16.1)\n",
      "Requirement already satisfied: huggingface-hub<1.0,>=0.24.0 in /home/ec2-user/anaconda3/envs/pytorch_p310/lib/python3.10/site-packages (from transformers) (0.27.1)\n",
      "Requirement already satisfied: numpy>=1.17 in /home/ec2-user/anaconda3/envs/pytorch_p310/lib/python3.10/site-packages (from transformers) (1.26.4)\n",
      "Requirement already satisfied: packaging>=20.0 in /home/ec2-user/anaconda3/envs/pytorch_p310/lib/python3.10/site-packages (from transformers) (21.3)\n",
      "Requirement already satisfied: pyyaml>=5.1 in /home/ec2-user/anaconda3/envs/pytorch_p310/lib/python3.10/site-packages (from transformers) (6.0.2)\n",
      "Requirement already satisfied: regex!=2019.12.17 in /home/ec2-user/anaconda3/envs/pytorch_p310/lib/python3.10/site-packages (from transformers) (2024.11.6)\n",
      "Requirement already satisfied: requests in /home/ec2-user/anaconda3/envs/pytorch_p310/lib/python3.10/site-packages (from transformers) (2.32.3)\n",
      "Requirement already satisfied: tokenizers<0.22,>=0.21 in /home/ec2-user/anaconda3/envs/pytorch_p310/lib/python3.10/site-packages (from transformers) (0.21.0)\n",
      "Requirement already satisfied: safetensors>=0.4.1 in /home/ec2-user/anaconda3/envs/pytorch_p310/lib/python3.10/site-packages (from transformers) (0.5.0)\n",
      "Requirement already satisfied: tqdm>=4.27 in /home/ec2-user/anaconda3/envs/pytorch_p310/lib/python3.10/site-packages (from transformers) (4.67.1)\n",
      "Requirement already satisfied: fsspec>=2023.5.0 in /home/ec2-user/anaconda3/envs/pytorch_p310/lib/python3.10/site-packages (from huggingface-hub<1.0,>=0.24.0->transformers) (2024.10.0)\n",
      "Requirement already satisfied: typing-extensions>=3.7.4.3 in /home/ec2-user/anaconda3/envs/pytorch_p310/lib/python3.10/site-packages (from huggingface-hub<1.0,>=0.24.0->transformers) (4.12.2)\n",
      "Requirement already satisfied: pyparsing!=3.0.5,>=2.0.2 in /home/ec2-user/anaconda3/envs/pytorch_p310/lib/python3.10/site-packages (from packaging>=20.0->transformers) (3.2.0)\n",
      "Requirement already satisfied: charset_normalizer<4,>=2 in /home/ec2-user/anaconda3/envs/pytorch_p310/lib/python3.10/site-packages (from requests->transformers) (3.4.0)\n",
      "Requirement already satisfied: idna<4,>=2.5 in /home/ec2-user/anaconda3/envs/pytorch_p310/lib/python3.10/site-packages (from requests->transformers) (3.10)\n",
      "Requirement already satisfied: urllib3<3,>=1.21.1 in /home/ec2-user/anaconda3/envs/pytorch_p310/lib/python3.10/site-packages (from requests->transformers) (2.2.3)\n",
      "Requirement already satisfied: certifi>=2017.4.17 in /home/ec2-user/anaconda3/envs/pytorch_p310/lib/python3.10/site-packages (from requests->transformers) (2024.8.30)\n"
     ]
    }
   ],
   "source": [
    "# Install Hugging Face Transformers if not already installed\n",
    "!pip install transformers"
   ]
  },
  {
   "cell_type": "code",
   "execution_count": 3,
   "id": "20d39a9a-3ac8-435a-ab43-29c917031786",
   "metadata": {
    "tags": []
   },
   "outputs": [
    {
     "data": {
      "application/vnd.jupyter.widget-view+json": {
       "model_id": "bd58b18bc27949609945cedd1d8ed143",
       "version_major": 2,
       "version_minor": 0
      },
      "text/plain": [
       "tokenizer_config.json:   0%|          | 0.00/1.08k [00:00<?, ?B/s]"
      ]
     },
     "metadata": {},
     "output_type": "display_data"
    },
    {
     "data": {
      "application/vnd.jupyter.widget-view+json": {
       "model_id": "abc1a7ec1ef348d89c99b686ffdcc8df",
       "version_major": 2,
       "version_minor": 0
      },
      "text/plain": [
       "vocab.json:   0%|          | 0.00/899k [00:00<?, ?B/s]"
      ]
     },
     "metadata": {},
     "output_type": "display_data"
    },
    {
     "data": {
      "application/vnd.jupyter.widget-view+json": {
       "model_id": "12798a79c87944aa8c766671122d645d",
       "version_major": 2,
       "version_minor": 0
      },
      "text/plain": [
       "merges.txt:   0%|          | 0.00/456k [00:00<?, ?B/s]"
      ]
     },
     "metadata": {},
     "output_type": "display_data"
    },
    {
     "data": {
      "application/vnd.jupyter.widget-view+json": {
       "model_id": "e30dac963a234990b664d8e61156700e",
       "version_major": 2,
       "version_minor": 0
      },
      "text/plain": [
       "special_tokens_map.json:   0%|          | 0.00/772 [00:00<?, ?B/s]"
      ]
     },
     "metadata": {},
     "output_type": "display_data"
    },
    {
     "data": {
      "application/vnd.jupyter.widget-view+json": {
       "model_id": "c5928ad54841445e9ab11ccacaf40786",
       "version_major": 2,
       "version_minor": 0
      },
      "text/plain": [
       "config.json:   0%|          | 0.00/1.69k [00:00<?, ?B/s]"
      ]
     },
     "metadata": {},
     "output_type": "display_data"
    },
    {
     "data": {
      "application/vnd.jupyter.widget-view+json": {
       "model_id": "98c101ba912f4a688ff840e2f52feb6b",
       "version_major": 2,
       "version_minor": 0
      },
      "text/plain": [
       "model.safetensors:   0%|          | 0.00/813M [00:00<?, ?B/s]"
      ]
     },
     "metadata": {},
     "output_type": "display_data"
    }
   ],
   "source": [
    "from transformers import AutoTokenizer, AutoModelForSeq2SeqLM\n",
    "from tqdm import tqdm\n",
    "import pandas as pd\n",
    "\n",
    "# Step 1: Load the BioBART model and tokenizer\n",
    "# Replace 'GanjinZero/biobart-large' with the desired BioBART model version\n",
    "tokenizer = AutoTokenizer.from_pretrained(\"GanjinZero/biobart-large\")\n",
    "model = AutoModelForSeq2SeqLM.from_pretrained(\"GanjinZero/biobart-large\")"
   ]
  },
  {
   "cell_type": "code",
   "execution_count": 4,
   "id": "c325bde7-9ff8-48ff-97e2-438810d5601e",
   "metadata": {
    "tags": []
   },
   "outputs": [
    {
     "name": "stderr",
     "output_type": "stream",
     "text": [
      "Generating Summaries: 100%|██████████| 100/100 [38:33<00:00, 23.14s/it]"
     ]
    },
    {
     "name": "stdout",
     "output_type": "stream",
     "text": [
      "Summaries generated and saved to 'biobart_generated_summaries.csv'\n"
     ]
    },
    {
     "name": "stderr",
     "output_type": "stream",
     "text": [
      "\n"
     ]
    }
   ],
   "source": [
    "# Adjusting for BioBART\n",
    "\n",
    "# Step 1: Tokenizer and Model\n",
    "from transformers import AutoTokenizer, AutoModelForSeq2SeqLM\n",
    "from tqdm import tqdm\n",
    "\n",
    "tokenizer = AutoTokenizer.from_pretrained(\"GanjinZero/biobart-large\")\n",
    "model = AutoModelForSeq2SeqLM.from_pretrained(\"GanjinZero/biobart-large\")\n",
    "\n",
    "# Few-shot examples for prompt construction\n",
    "few_shot_examples = [\n",
    "    {\n",
    "        \"input\": \"<SEX> F <SERVICE> ONCOLOGY <CHIEF COMPLAINT> worsening back pain <HISTORY OF PRESENT ILLNESS> The patient is a 45-year-old female with a history of metastatic breast cancer presenting with worsening back pain over the last two weeks. Imaging revealed compression fractures in the thoracic spine. She reported increasing discomfort despite over-the-counter pain relievers. Neurological exam was unremarkable, and there were no signs of cord compression. Pain management and radiation oncology were consulted, and palliative radiation therapy was planned. The patient also discussed advanced care planning during her stay.\",\n",
    "        \"target\": \"A 45-year-old female with metastatic breast cancer presented with worsening back pain. Imaging showed thoracic spine fractures, and she received palliative radiation therapy.\"\n",
    "    },\n",
    "    {\n",
    "        \"input\": \"<SEX> M <SERVICE> CARDIOLOGY <CHIEF COMPLAINT> chest pain <HISTORY OF PRESENT ILLNESS> A 55-year-old male presented with chest pain radiating to his left arm and jaw. He reported associated shortness of breath and nausea. Initial ECG showed ST-segment elevation in the inferior leads, and troponin levels were elevated, consistent with an acute myocardial infarction. The patient was emergently taken to the catheterization lab, where coronary angiography revealed 100% occlusion of the right coronary artery. A drug-eluting stent was successfully placed, and dual antiplatelet therapy was initiated. He was monitored in the cardiac care unit for 48 hours with no complications.\",\n",
    "        \"target\": \"A 55-year-old male with a myocardial infarction underwent PCI with stenting of the right coronary artery. He was monitored and started on dual antiplatelet therapy.\"\n",
    "    },\n",
    "    {\n",
    "        \"input\": \"<SEX> M <SERVICE> NEUROSURGERY <CHIEF COMPLAINT> headache past ten days <HISTORY OF PRESENT ILLNESS> The patient is a 60-year-old male with a history of renal cell carcinoma, presenting with progressively worsening right-sided headaches over 10 days. Imaging revealed a large intracranial mass in the right temporoparietal lobe with associated hemorrhage, necrosis, and vasogenic edema. He was started on Decadron to reduce cerebral edema and transferred for neurosurgical evaluation. On hospital day 5, the patient underwent an image-guided right craniotomy for tumor resection. Postoperative MRI showed no significant residual tumor. He recovered without complications and was discharged home on a tapering dose of Decadron, with follow-up in the brain tumor clinic.\",\n",
    "        \"target\": \"A 60-year-old male with an intracranial mass underwent a craniotomy for tumor resection. He recovered well and was discharged with follow-up.\"\n",
    "    },\n",
    "    {\n",
    "        \"input\": \"<SEX> F <SERVICE> GENERAL MEDICINE <CHIEF COMPLAINT> shortness of breath <HISTORY OF PRESENT ILLNESS> A 72-year-old female with a history of COPD presented with progressive shortness of breath over two weeks. Physical examination revealed decreased breath sounds and crackles in the left lower lobe. Imaging confirmed left lower lobe consolidation consistent with pneumonia. The patient was started on broad-spectrum antibiotics and oxygen therapy. Arterial blood gas analysis showed mild hypoxemia, which improved with oxygen supplementation. She remained afebrile throughout her stay and reported gradual improvement in symptoms. Discharge planning included antibiotics, a pulmonary follow-up, and instructions for home oxygen therapy.\",\n",
    "        \"target\": \"A 72-year-old female with COPD was treated for pneumonia with antibiotics and oxygen therapy. She showed improvement and was discharged with follow-up.\"\n",
    "    }\n",
    "]\n",
    "\n",
    "# Function to construct the prompt (unchanged)\n",
    "def construct_few_shot_prompt(input_text):\n",
    "    prompt = \"You are a medical expert. Please summarize the following input concisely:\\n\\n\"\n",
    "    for example in few_shot_examples:\n",
    "        prompt += f\"Input: {example['input']}\\nTarget: {example['target']}\\n\\n\"\n",
    "    prompt += f\"Input: {input_text}\\nSummary:\"\n",
    "    return prompt\n",
    "\n",
    "# Step 2: Generate Summaries\n",
    "generated_summaries = []\n",
    "\n",
    "for input_text in tqdm(mimic_iv_bhc_100['input'], desc=\"Generating Summaries\"):\n",
    "    # Construct the prompt\n",
    "    prompt = construct_few_shot_prompt(input_text)\n",
    "    \n",
    "    # Tokenize the prompt for BioBART\n",
    "    inputs = tokenizer(\n",
    "        prompt,\n",
    "        max_length=512,  # BioBART's token limit\n",
    "        truncation=True,\n",
    "        padding=\"max_length\",\n",
    "        return_tensors=\"pt\"\n",
    "    )\n",
    "    \n",
    "    # Generate the summary\n",
    "    generation_params = {\n",
    "        \"do_sample\": True,\n",
    "        \"top_p\": 0.8,\n",
    "        \"temperature\": 0.1,\n",
    "        \"top_k\": 40,\n",
    "        \"max_new_tokens\": 300,\n",
    "        \"repetition_penalty\": 1.1,\n",
    "        \"early_stopping\": True\n",
    "    }\n",
    "    summary_ids = model.generate(\n",
    "        inputs[\"input_ids\"],\n",
    "        attention_mask=inputs[\"attention_mask\"],\n",
    "        **generation_params\n",
    "    )\n",
    "    \n",
    "    # Decode the summary and append to the list\n",
    "    generated_summary = tokenizer.decode(summary_ids[0], skip_special_tokens=True)\n",
    "    generated_summaries.append(generated_summary)\n",
    "\n",
    "# Step 3: Add Generated Summaries to the DataFrame\n",
    "mimic_iv_bhc_100['generated_summary_biobart'] = generated_summaries\n",
    "\n",
    "# Optional: Save the results\n",
    "mimic_iv_bhc_100.to_csv(\"biobart_generated_summaries.csv\", index=False)\n",
    "print(\"Summaries generated and saved to 'biobart_generated_summaries.csv'\")\n"
   ]
  },
  {
   "cell_type": "code",
   "execution_count": null,
   "id": "94b88fa8-ac74-4be8-9776-1a65ecc0f010",
   "metadata": {},
   "outputs": [],
   "source": []
  }
 ],
 "metadata": {
  "kernelspec": {
   "display_name": "conda_pytorch_p310",
   "language": "python",
   "name": "conda_pytorch_p310"
  },
  "language_info": {
   "codemirror_mode": {
    "name": "ipython",
    "version": 3
   },
   "file_extension": ".py",
   "mimetype": "text/x-python",
   "name": "python",
   "nbconvert_exporter": "python",
   "pygments_lexer": "ipython3",
   "version": "3.10.14"
  }
 },
 "nbformat": 4,
 "nbformat_minor": 5
}

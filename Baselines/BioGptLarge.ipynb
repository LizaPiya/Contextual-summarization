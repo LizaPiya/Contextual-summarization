{
 "cells": [
  {
   "cell_type": "code",
   "execution_count": 1,
   "id": "c5b049fd-a153-4a71-9713-d99659a39367",
   "metadata": {
    "tags": []
   },
   "outputs": [
    {
     "name": "stderr",
     "output_type": "stream",
     "text": [
      "/home/ec2-user/anaconda3/envs/pytorch_p310/lib/python3.10/site-packages/fsspec/registry.py:283: UserWarning: Your installed version of s3fs is very old and known to cause\n",
      "severe performance issues, see also https://github.com/dask/dask/issues/10276\n",
      "\n",
      "To fix, you should specify a lower version bound on s3fs, or\n",
      "update the current installation.\n",
      "\n",
      "  warnings.warn(s3_msg)\n"
     ]
    },
    {
     "data": {
      "text/html": [
       "<div>\n",
       "<style scoped>\n",
       "    .dataframe tbody tr th:only-of-type {\n",
       "        vertical-align: middle;\n",
       "    }\n",
       "\n",
       "    .dataframe tbody tr th {\n",
       "        vertical-align: top;\n",
       "    }\n",
       "\n",
       "    .dataframe thead th {\n",
       "        text-align: right;\n",
       "    }\n",
       "</style>\n",
       "<table border=\"1\" class=\"dataframe\">\n",
       "  <thead>\n",
       "    <tr style=\"text-align: right;\">\n",
       "      <th></th>\n",
       "      <th>note_id</th>\n",
       "      <th>input</th>\n",
       "      <th>target</th>\n",
       "      <th>input_tokens</th>\n",
       "      <th>target_tokens</th>\n",
       "    </tr>\n",
       "  </thead>\n",
       "  <tbody>\n",
       "    <tr>\n",
       "      <th>0</th>\n",
       "      <td>16002318-DS-17</td>\n",
       "      <td>&lt;SEX&gt; F &lt;SERVICE&gt; SURGERY &lt;ALLERGIES&gt; Iodine /...</td>\n",
       "      <td>This is a ___ yo F admitted to the hospital af...</td>\n",
       "      <td>1195</td>\n",
       "      <td>75</td>\n",
       "    </tr>\n",
       "    <tr>\n",
       "      <th>1</th>\n",
       "      <td>15638884-DS-4</td>\n",
       "      <td>&lt;SEX&gt; M &lt;SERVICE&gt; MEDICINE &lt;ALLERGIES&gt; Augment...</td>\n",
       "      <td>Mr. ___ is a ___ yo man with CAD with prior MI...</td>\n",
       "      <td>3496</td>\n",
       "      <td>1143</td>\n",
       "    </tr>\n",
       "    <tr>\n",
       "      <th>2</th>\n",
       "      <td>12435705-DS-14</td>\n",
       "      <td>&lt;SEX&gt; M &lt;SERVICE&gt; MEDICINE &lt;ALLERGIES&gt; ibuprof...</td>\n",
       "      <td>Mr. ___ is a ___ w/ Ph+ve ALL on dasatanib and...</td>\n",
       "      <td>5591</td>\n",
       "      <td>1098</td>\n",
       "    </tr>\n",
       "    <tr>\n",
       "      <th>3</th>\n",
       "      <td>12413577-DS-4</td>\n",
       "      <td>&lt;SEX&gt; F &lt;SERVICE&gt; OBSTETRICS/GYNECOLOGY &lt;ALLER...</td>\n",
       "      <td>On ___, Ms. ___ was admitted to the gynecology...</td>\n",
       "      <td>1119</td>\n",
       "      <td>221</td>\n",
       "    </tr>\n",
       "    <tr>\n",
       "      <th>4</th>\n",
       "      <td>17967161-DS-29</td>\n",
       "      <td>&lt;SEX&gt; M &lt;SERVICE&gt; SURGERY &lt;ALLERGIES&gt; lisinopr...</td>\n",
       "      <td>Mr. ___ underwent an angiogram on ___ which sh...</td>\n",
       "      <td>3307</td>\n",
       "      <td>439</td>\n",
       "    </tr>\n",
       "    <tr>\n",
       "      <th>5</th>\n",
       "      <td>16956007-DS-20</td>\n",
       "      <td>&lt;SEX&gt; M &lt;SERVICE&gt; SURGERY &lt;ALLERGIES&gt; Codeine ...</td>\n",
       "      <td>Mr. ___ is a ___ who underwent an exploratory ...</td>\n",
       "      <td>4168</td>\n",
       "      <td>1209</td>\n",
       "    </tr>\n",
       "    <tr>\n",
       "      <th>6</th>\n",
       "      <td>16919911-DS-15</td>\n",
       "      <td>&lt;SEX&gt; F &lt;SERVICE&gt; MEDICINE &lt;ALLERGIES&gt; Penicil...</td>\n",
       "      <td>This is a ___ year old female with a recent di...</td>\n",
       "      <td>2059</td>\n",
       "      <td>208</td>\n",
       "    </tr>\n",
       "    <tr>\n",
       "      <th>7</th>\n",
       "      <td>15682570-DS-25</td>\n",
       "      <td>&lt;SEX&gt; M &lt;SERVICE&gt; MEDICINE &lt;ALLERGIES&gt; No Know...</td>\n",
       "      <td>___ w/ h/o CAD ___ CABG LIMA to LAD, SVG to D1...</td>\n",
       "      <td>2215</td>\n",
       "      <td>451</td>\n",
       "    </tr>\n",
       "    <tr>\n",
       "      <th>8</th>\n",
       "      <td>12135369-DS-24</td>\n",
       "      <td>&lt;SEX&gt; F &lt;SERVICE&gt; MEDICINE &lt;ALLERGIES&gt; Compazi...</td>\n",
       "      <td>Ms ___ is a ___ year old woman with a history ...</td>\n",
       "      <td>2132</td>\n",
       "      <td>416</td>\n",
       "    </tr>\n",
       "    <tr>\n",
       "      <th>9</th>\n",
       "      <td>11906321-DS-20</td>\n",
       "      <td>&lt;SEX&gt; M &lt;SERVICE&gt; NEUROSURGERY &lt;ALLERGIES&gt; Pat...</td>\n",
       "      <td>The patient was admitted to the neurosurgery s...</td>\n",
       "      <td>2347</td>\n",
       "      <td>316</td>\n",
       "    </tr>\n",
       "    <tr>\n",
       "      <th>10</th>\n",
       "      <td>17384661-DS-20</td>\n",
       "      <td>&lt;SEX&gt; M &lt;SERVICE&gt; UROLOGY &lt;ALLERGIES&gt; No Known...</td>\n",
       "      <td>Mr. ___ was admitted to Dr. ___ Urology servic...</td>\n",
       "      <td>1452</td>\n",
       "      <td>171</td>\n",
       "    </tr>\n",
       "    <tr>\n",
       "      <th>11</th>\n",
       "      <td>11162709-DS-18</td>\n",
       "      <td>&lt;SEX&gt; M &lt;SERVICE&gt; MEDICINE &lt;ALLERGIES&gt; Sulfa (...</td>\n",
       "      <td>___ yoM with PMH notable for hx of left ICA an...</td>\n",
       "      <td>2469</td>\n",
       "      <td>420</td>\n",
       "    </tr>\n",
       "    <tr>\n",
       "      <th>12</th>\n",
       "      <td>19473355-DS-13</td>\n",
       "      <td>&lt;SEX&gt; M &lt;SERVICE&gt; SURGERY &lt;ALLERGIES&gt; No Known...</td>\n",
       "      <td>Mr. ___ is a ___ year old male with AAA who wa...</td>\n",
       "      <td>1593</td>\n",
       "      <td>259</td>\n",
       "    </tr>\n",
       "    <tr>\n",
       "      <th>13</th>\n",
       "      <td>14711846-DS-15</td>\n",
       "      <td>&lt;SEX&gt; F &lt;SERVICE&gt; MEDICINE &lt;ALLERGIES&gt; Gold Sa...</td>\n",
       "      <td>Ms. ___ was admitted for diagnosis and treatme...</td>\n",
       "      <td>3140</td>\n",
       "      <td>415</td>\n",
       "    </tr>\n",
       "    <tr>\n",
       "      <th>14</th>\n",
       "      <td>18094090-DS-35</td>\n",
       "      <td>&lt;SEX&gt; F &lt;SERVICE&gt; MEDICINE &lt;ALLERGIES&gt; Penicil...</td>\n",
       "      <td>Patient is a ___ year old woman with history o...</td>\n",
       "      <td>2346</td>\n",
       "      <td>528</td>\n",
       "    </tr>\n",
       "    <tr>\n",
       "      <th>15</th>\n",
       "      <td>16047293-DS-34</td>\n",
       "      <td>&lt;SEX&gt; M &lt;SERVICE&gt; MEDICINE &lt;ALLERGIES&gt; Penicil...</td>\n",
       "      <td>___ year-old male with PMH of diastolic heart ...</td>\n",
       "      <td>1747</td>\n",
       "      <td>144</td>\n",
       "    </tr>\n",
       "    <tr>\n",
       "      <th>16</th>\n",
       "      <td>15690160-DS-11</td>\n",
       "      <td>&lt;SEX&gt; F &lt;SERVICE&gt; NEUROLOGY &lt;ALLERGIES&gt; No Dru...</td>\n",
       "      <td>Her neuro exam has been asymptomatic since adm...</td>\n",
       "      <td>2438</td>\n",
       "      <td>18</td>\n",
       "    </tr>\n",
       "    <tr>\n",
       "      <th>17</th>\n",
       "      <td>18477272-DS-18</td>\n",
       "      <td>&lt;SEX&gt; F &lt;SERVICE&gt; OBSTETRICS/GYNECOLOGY &lt;ALLER...</td>\n",
       "      <td>On ___, Ms. ___ was admitted to the gynecology...</td>\n",
       "      <td>1192</td>\n",
       "      <td>154</td>\n",
       "    </tr>\n",
       "    <tr>\n",
       "      <th>18</th>\n",
       "      <td>10476129-DS-14</td>\n",
       "      <td>&lt;SEX&gt; F &lt;SERVICE&gt; MEDICINE &lt;ALLERGIES&gt; No Know...</td>\n",
       "      <td>BRIEF COURSE: ___ with limited PMH presented w...</td>\n",
       "      <td>2998</td>\n",
       "      <td>1119</td>\n",
       "    </tr>\n",
       "    <tr>\n",
       "      <th>19</th>\n",
       "      <td>19868904-DS-20</td>\n",
       "      <td>&lt;SEX&gt; F &lt;SERVICE&gt; NEUROLOGY &lt;ALLERGIES&gt; No Kno...</td>\n",
       "      <td>Ms. ___ was admitted to the neurology service ...</td>\n",
       "      <td>2072</td>\n",
       "      <td>221</td>\n",
       "    </tr>\n",
       "  </tbody>\n",
       "</table>\n",
       "</div>"
      ],
      "text/plain": [
       "           note_id                                              input  \\\n",
       "0   16002318-DS-17  <SEX> F <SERVICE> SURGERY <ALLERGIES> Iodine /...   \n",
       "1    15638884-DS-4  <SEX> M <SERVICE> MEDICINE <ALLERGIES> Augment...   \n",
       "2   12435705-DS-14  <SEX> M <SERVICE> MEDICINE <ALLERGIES> ibuprof...   \n",
       "3    12413577-DS-4  <SEX> F <SERVICE> OBSTETRICS/GYNECOLOGY <ALLER...   \n",
       "4   17967161-DS-29  <SEX> M <SERVICE> SURGERY <ALLERGIES> lisinopr...   \n",
       "5   16956007-DS-20  <SEX> M <SERVICE> SURGERY <ALLERGIES> Codeine ...   \n",
       "6   16919911-DS-15  <SEX> F <SERVICE> MEDICINE <ALLERGIES> Penicil...   \n",
       "7   15682570-DS-25  <SEX> M <SERVICE> MEDICINE <ALLERGIES> No Know...   \n",
       "8   12135369-DS-24  <SEX> F <SERVICE> MEDICINE <ALLERGIES> Compazi...   \n",
       "9   11906321-DS-20  <SEX> M <SERVICE> NEUROSURGERY <ALLERGIES> Pat...   \n",
       "10  17384661-DS-20  <SEX> M <SERVICE> UROLOGY <ALLERGIES> No Known...   \n",
       "11  11162709-DS-18  <SEX> M <SERVICE> MEDICINE <ALLERGIES> Sulfa (...   \n",
       "12  19473355-DS-13  <SEX> M <SERVICE> SURGERY <ALLERGIES> No Known...   \n",
       "13  14711846-DS-15  <SEX> F <SERVICE> MEDICINE <ALLERGIES> Gold Sa...   \n",
       "14  18094090-DS-35  <SEX> F <SERVICE> MEDICINE <ALLERGIES> Penicil...   \n",
       "15  16047293-DS-34  <SEX> M <SERVICE> MEDICINE <ALLERGIES> Penicil...   \n",
       "16  15690160-DS-11  <SEX> F <SERVICE> NEUROLOGY <ALLERGIES> No Dru...   \n",
       "17  18477272-DS-18  <SEX> F <SERVICE> OBSTETRICS/GYNECOLOGY <ALLER...   \n",
       "18  10476129-DS-14  <SEX> F <SERVICE> MEDICINE <ALLERGIES> No Know...   \n",
       "19  19868904-DS-20  <SEX> F <SERVICE> NEUROLOGY <ALLERGIES> No Kno...   \n",
       "\n",
       "                                               target  input_tokens  \\\n",
       "0   This is a ___ yo F admitted to the hospital af...          1195   \n",
       "1   Mr. ___ is a ___ yo man with CAD with prior MI...          3496   \n",
       "2   Mr. ___ is a ___ w/ Ph+ve ALL on dasatanib and...          5591   \n",
       "3   On ___, Ms. ___ was admitted to the gynecology...          1119   \n",
       "4   Mr. ___ underwent an angiogram on ___ which sh...          3307   \n",
       "5   Mr. ___ is a ___ who underwent an exploratory ...          4168   \n",
       "6   This is a ___ year old female with a recent di...          2059   \n",
       "7   ___ w/ h/o CAD ___ CABG LIMA to LAD, SVG to D1...          2215   \n",
       "8   Ms ___ is a ___ year old woman with a history ...          2132   \n",
       "9   The patient was admitted to the neurosurgery s...          2347   \n",
       "10  Mr. ___ was admitted to Dr. ___ Urology servic...          1452   \n",
       "11  ___ yoM with PMH notable for hx of left ICA an...          2469   \n",
       "12  Mr. ___ is a ___ year old male with AAA who wa...          1593   \n",
       "13  Ms. ___ was admitted for diagnosis and treatme...          3140   \n",
       "14  Patient is a ___ year old woman with history o...          2346   \n",
       "15  ___ year-old male with PMH of diastolic heart ...          1747   \n",
       "16  Her neuro exam has been asymptomatic since adm...          2438   \n",
       "17  On ___, Ms. ___ was admitted to the gynecology...          1192   \n",
       "18  BRIEF COURSE: ___ with limited PMH presented w...          2998   \n",
       "19  Ms. ___ was admitted to the neurology service ...          2072   \n",
       "\n",
       "    target_tokens  \n",
       "0              75  \n",
       "1            1143  \n",
       "2            1098  \n",
       "3             221  \n",
       "4             439  \n",
       "5            1209  \n",
       "6             208  \n",
       "7             451  \n",
       "8             416  \n",
       "9             316  \n",
       "10            171  \n",
       "11            420  \n",
       "12            259  \n",
       "13            415  \n",
       "14            528  \n",
       "15            144  \n",
       "16             18  \n",
       "17            154  \n",
       "18           1119  \n",
       "19            221  "
      ]
     },
     "execution_count": 1,
     "metadata": {},
     "output_type": "execute_result"
    }
   ],
   "source": [
    "import pandas as pd\n",
    "\n",
    "# Define the bucket and file names\n",
    "bucket_name = 'mimicivliza'  # Replace with your bucket name\n",
    "mimic_iv_bhc = f's3://{bucket_name}/sample_data_100.csv'\n",
    "\n",
    "# Load the files\n",
    "mimic_iv_bhc_100 = pd.read_csv(mimic_iv_bhc)\n",
    "\n",
    "# Display the data\n",
    "mimic_iv_bhc_100.head(20)"
   ]
  },
  {
   "cell_type": "code",
   "execution_count": 2,
   "id": "90e97b23-aaf6-452d-b8ec-2dc1691adef1",
   "metadata": {
    "tags": []
   },
   "outputs": [],
   "source": [
    "# Install Hugging Face Transformers\n",
    "!pip install -q transformers\n",
    "!pip install -q sacremoses\n",
    "!pip install -q bitsandbytes accelerate"
   ]
  },
  {
   "cell_type": "code",
   "execution_count": 3,
   "id": "11f51402-99dc-4ba7-baef-def718fbe866",
   "metadata": {
    "tags": []
   },
   "outputs": [
    {
     "data": {
      "application/vnd.jupyter.widget-view+json": {
       "model_id": "a825ca141e074d4181a7513e7147f7f2",
       "version_major": 2,
       "version_minor": 0
      },
      "text/plain": [
       "tokenizer_config.json:   0%|          | 0.00/256 [00:00<?, ?B/s]"
      ]
     },
     "metadata": {},
     "output_type": "display_data"
    },
    {
     "data": {
      "application/vnd.jupyter.widget-view+json": {
       "model_id": "f6d49810d3254408a361ffa3097d7df3",
       "version_major": 2,
       "version_minor": 0
      },
      "text/plain": [
       "vocab.json:   0%|          | 0.00/1.24M [00:00<?, ?B/s]"
      ]
     },
     "metadata": {},
     "output_type": "display_data"
    },
    {
     "data": {
      "application/vnd.jupyter.widget-view+json": {
       "model_id": "09e639c1aa914fcf9d3907d26774dc07",
       "version_major": 2,
       "version_minor": 0
      },
      "text/plain": [
       "merges.txt:   0%|          | 0.00/566k [00:00<?, ?B/s]"
      ]
     },
     "metadata": {},
     "output_type": "display_data"
    },
    {
     "data": {
      "application/vnd.jupyter.widget-view+json": {
       "model_id": "6df812c5305e44ddb1b07b3397ca765c",
       "version_major": 2,
       "version_minor": 0
      },
      "text/plain": [
       "special_tokens_map.json:   0%|          | 0.00/119 [00:00<?, ?B/s]"
      ]
     },
     "metadata": {},
     "output_type": "display_data"
    },
    {
     "data": {
      "application/vnd.jupyter.widget-view+json": {
       "model_id": "c87c82e328014e66917cfe1078b282a6",
       "version_major": 2,
       "version_minor": 0
      },
      "text/plain": [
       "config.json:   0%|          | 0.00/658 [00:00<?, ?B/s]"
      ]
     },
     "metadata": {},
     "output_type": "display_data"
    },
    {
     "data": {
      "application/vnd.jupyter.widget-view+json": {
       "model_id": "747cafabb36548ac8582b883c69deb64",
       "version_major": 2,
       "version_minor": 0
      },
      "text/plain": [
       "pytorch_model.bin:   0%|          | 0.00/6.29G [00:00<?, ?B/s]"
      ]
     },
     "metadata": {},
     "output_type": "display_data"
    },
    {
     "data": {
      "application/vnd.jupyter.widget-view+json": {
       "model_id": "94ff89bc3c1849e5b5edd95986e03707",
       "version_major": 2,
       "version_minor": 0
      },
      "text/plain": [
       "model.safetensors:   0%|          | 0.00/6.28G [00:00<?, ?B/s]"
      ]
     },
     "metadata": {},
     "output_type": "display_data"
    },
    {
     "data": {
      "application/vnd.jupyter.widget-view+json": {
       "model_id": "8323ebe011524299bee54767442bd920",
       "version_major": 2,
       "version_minor": 0
      },
      "text/plain": [
       "generation_config.json:   0%|          | 0.00/137 [00:00<?, ?B/s]"
      ]
     },
     "metadata": {},
     "output_type": "display_data"
    }
   ],
   "source": [
    "from transformers import AutoTokenizer, AutoModelForCausalLM, BitsAndBytesConfig\n",
    "\n",
    "bnb_config = BitsAndBytesConfig(\n",
    "    load_in_8bit=True,           # or load_in_4bit=True for more compression\n",
    "    llm_int8_threshold=6.0,      # default threshold for 8-bit\n",
    "    llm_int8_skip_modules=None,  # or specify modules to skip\n",
    "    bnb_8bit_compute_dtype=\"float16\"  # use float16 for faster inference\n",
    ")\n",
    "\n",
    "tokenizer = AutoTokenizer.from_pretrained(\"microsoft/BioGPT-Large\")\n",
    "model = AutoModelForCausalLM.from_pretrained(\n",
    "    \"microsoft/BioGPT-Large\",\n",
    "    quantization_config=bnb_config,\n",
    "    device_map=\"auto\"  # use this if you're on a GPU or want automatic device placement\n",
    ")\n",
    "\n"
   ]
  },
  {
   "cell_type": "code",
   "execution_count": 56,
   "id": "f275a4b9-1def-45fe-b24a-32d22fa1e832",
   "metadata": {
    "tags": []
   },
   "outputs": [
    {
     "name": "stderr",
     "output_type": "stream",
     "text": [
      "Generating Summaries with BioGPT-Large:   0%|          | 0/100 [00:00<?, ?it/s]/home/ec2-user/anaconda3/envs/pytorch_p310/lib/python3.10/site-packages/transformers/generation/configuration_utils.py:628: UserWarning: `do_sample` is set to `False`. However, `temperature` is set to `0.5` -- this flag is only used in sample-based generation modes. You should set `do_sample=True` or unset `temperature`.\n",
      "  warnings.warn(\n",
      "/home/ec2-user/anaconda3/envs/pytorch_p310/lib/python3.10/site-packages/transformers/generation/configuration_utils.py:633: UserWarning: `do_sample` is set to `False`. However, `top_p` is set to `0.8` -- this flag is only used in sample-based generation modes. You should set `do_sample=True` or unset `top_p`.\n",
      "  warnings.warn(\n",
      "/home/ec2-user/anaconda3/envs/pytorch_p310/lib/python3.10/site-packages/transformers/generation/configuration_utils.py:650: UserWarning: `do_sample` is set to `False`. However, `top_k` is set to `20` -- this flag is only used in sample-based generation modes. You should set `do_sample=True` or unset `top_k`.\n",
      "  warnings.warn(\n",
      "Generating Summaries with BioGPT-Large: 100%|██████████| 100/100 [34:21<00:00, 20.62s/it]"
     ]
    },
    {
     "name": "stdout",
     "output_type": "stream",
     "text": [
      "✅ Subset summaries saved to 'biogpt_large_generated_summaries.csv'\n"
     ]
    },
    {
     "name": "stderr",
     "output_type": "stream",
     "text": [
      "\n"
     ]
    }
   ],
   "source": [
    "from tqdm import tqdm\n",
    "import torch\n",
    "\n",
    "# Adjusted prompt with clearer instructions\n",
    "def construct_few_shot_prompt(input_text):\n",
    "    prompt = (\n",
    "        \"You are an expert clinician. Summarize the patient case concisely in a storytelling manner, \"\n",
    "        \"Ensure the summary does not exceed 200 words and avoids directly copying any text.\\n\\n\"\n",
    "        \"Example - Input: A 50-year-old male reports severe chest pain and has a history of heart disease.\\n\"\n",
    "        \"Example - Summary: A male patient with heart disease experienced severe chest pain and received emergency angioplasty.\\n\\n\"\n",
    "        f\"Input: {input_text}\\nSummary:\"\n",
    "    )\n",
    "    return prompt\n",
    "\n",
    "subset_df = mimic_iv_bhc_100.iloc[:101].copy()  # Processing the first 101 entries for the example\n",
    "generated_summaries = []\n",
    "\n",
    "for input_text in tqdm(subset_df['input'], desc=\"Generating Summaries with BioGPT-Large\"):\n",
    "    prompt = construct_few_shot_prompt(input_text)\n",
    "\n",
    "    inputs = tokenizer(\n",
    "        prompt,\n",
    "        return_tensors=\"pt\",\n",
    "        truncation=True,\n",
    "        max_length=1000  # Adjust max length according to your model's capabilities\n",
    "    )\n",
    "\n",
    "    inputs = {k: v.to(model.device) for k, v in inputs.items()}\n",
    "\n",
    "    generation_params = {\n",
    "        \"do_sample\": False,\n",
    "        \"max_new_tokens\": 200,\n",
    "        \"temperature\": 0.5,\n",
    "        \"top_p\": 0.8,\n",
    "        \"top_k\": 20,\n",
    "        \"repetition_penalty\": 1.2,\n",
    "        \"eos_token_id\": tokenizer.eos_token_id\n",
    "    }\n",
    "\n",
    "    with torch.no_grad():\n",
    "        original_length = inputs[\"input_ids\"].shape[1]\n",
    "        summary_ids = model.generate(\n",
    "            input_ids=inputs[\"input_ids\"],\n",
    "            attention_mask=inputs[\"attention_mask\"],\n",
    "            **generation_params\n",
    "        )\n",
    "\n",
    "        # Decode only the newly generated tokens\n",
    "        generated_tokens = summary_ids[0, original_length:]\n",
    "        generated_summary = tokenizer.decode(generated_tokens, skip_special_tokens=True).strip()\n",
    "\n",
    "    generated_summaries.append(generated_summary)\n",
    "    torch.cuda.empty_cache()  # Optional: Clear CUDA cache after each generation to free memory\n",
    "\n",
    "# Add generated summaries to DataFrame and save\n",
    "subset_df['generated_summary_biogpt_large'] = generated_summaries\n",
    "subset_df.to_csv(\"biogpt_large_generated_summaries.csv\", index=False)\n",
    "print(\"✅ Subset summaries saved to 'biogpt_large_generated_summaries.csv'\")\n"
   ]
  },
  {
   "cell_type": "code",
   "execution_count": 53,
   "id": "b8eb90a6-c63a-4172-9b0c-abdc4d54648f",
   "metadata": {
    "tags": []
   },
   "outputs": [
    {
     "data": {
      "text/html": [
       "<div>\n",
       "<style scoped>\n",
       "    .dataframe tbody tr th:only-of-type {\n",
       "        vertical-align: middle;\n",
       "    }\n",
       "\n",
       "    .dataframe tbody tr th {\n",
       "        vertical-align: top;\n",
       "    }\n",
       "\n",
       "    .dataframe thead th {\n",
       "        text-align: right;\n",
       "    }\n",
       "</style>\n",
       "<table border=\"1\" class=\"dataframe\">\n",
       "  <thead>\n",
       "    <tr style=\"text-align: right;\">\n",
       "      <th></th>\n",
       "      <th>note_id</th>\n",
       "      <th>input</th>\n",
       "      <th>target</th>\n",
       "      <th>input_tokens</th>\n",
       "      <th>target_tokens</th>\n",
       "      <th>generated_summary_biogpt_large</th>\n",
       "    </tr>\n",
       "  </thead>\n",
       "  <tbody>\n",
       "    <tr>\n",
       "      <th>0</th>\n",
       "      <td>16002318-DS-17</td>\n",
       "      <td>&lt;SEX&gt; F &lt;SERVICE&gt; SURGERY &lt;ALLERGIES&gt; Iodine /...</td>\n",
       "      <td>This is a ___ yo F admitted to the hospital af...</td>\n",
       "      <td>1195</td>\n",
       "      <td>75</td>\n",
       "      <td>activities until you have been off these drugs...</td>\n",
       "    </tr>\n",
       "    <tr>\n",
       "      <th>1</th>\n",
       "      <td>15638884-DS-4</td>\n",
       "      <td>&lt;SEX&gt; M &lt;SERVICE&gt; MEDICINE &lt;ALLERGIES&gt; Augment...</td>\n",
       "      <td>Mr. ___ is a ___ yo man with CAD with prior MI...</td>\n",
       "      <td>3496</td>\n",
       "      <td>1143</td>\n",
       "      <td>Abdomen: No tenderness, no guarding, no palpab...</td>\n",
       "    </tr>\n",
       "  </tbody>\n",
       "</table>\n",
       "</div>"
      ],
      "text/plain": [
       "          note_id                                              input  \\\n",
       "0  16002318-DS-17  <SEX> F <SERVICE> SURGERY <ALLERGIES> Iodine /...   \n",
       "1   15638884-DS-4  <SEX> M <SERVICE> MEDICINE <ALLERGIES> Augment...   \n",
       "\n",
       "                                              target  input_tokens  \\\n",
       "0  This is a ___ yo F admitted to the hospital af...          1195   \n",
       "1  Mr. ___ is a ___ yo man with CAD with prior MI...          3496   \n",
       "\n",
       "   target_tokens                     generated_summary_biogpt_large  \n",
       "0             75  activities until you have been off these drugs...  \n",
       "1           1143  Abdomen: No tenderness, no guarding, no palpab...  "
      ]
     },
     "execution_count": 53,
     "metadata": {},
     "output_type": "execute_result"
    }
   ],
   "source": [
    "subset_df.head()"
   ]
  },
  {
   "cell_type": "code",
   "execution_count": 54,
   "id": "3323849d-f537-4f50-b655-33bd1148ebf9",
   "metadata": {
    "tags": []
   },
   "outputs": [
    {
     "name": "stdout",
     "output_type": "stream",
     "text": [
      "<SEX> M <SERVICE> MEDICINE <ALLERGIES> Augmentin / Nsaids / Tramadol / Niacin <ATTENDING> ___ ___ Complaint: Painless jaundice <MAJOR SURGICAL OR INVASIVE PROCEDURE> ERCP with stent and sphincterotomy on ___ <HISTORY OF PRESENT ILLNESS> Per Dr. ___ note: \"Mr. ___ is a ___ male with a PMH of CAD s/p MI, ischemic CMY, HTN, alcohol abuse, pancreatic insufficiency who presents with painless jaundice. He has had intermittent white stools for 6 months. RUQ US with pancreatic head mass, choledolithiasis and enlarging abdominal aorta. He slipped and fell on his daughter's wet steps two weeks ago and since then noted that his urine was yellow-> dark. His family told him that he was turning yellow at a family BBQ 3 days ago. His family also noted that his eyes were yellow. He saw his PCP two days ago who recommended an US. He was found to have a \"cyst\" and he was advised to go to the ED. He does not have any abdominal pain. He has chronic L shoulder pain. He does not have chest pain or shortness of breath. He does not have nausea or vomiting. He had a loose stool yesterday and today which was brown. He has been having light colored/stool ___ days. He has occasionally been having blonde stool for a couple of months but it wasn't every day. He has not had any weight loss. He has not had fevers or chills. But he thinks that he has had decreased abdominal girth since he has had to put another notch in his belt. VS on presentation to the ED: Today 15: 51 7 |97.3 |89 |118/74 |17 |98% RA He was not given any medications in the ED. ROS: Pertinent positives and negatives as noted in the HPI. All other systems were reviewed and are negative.\" <PAST MEDICAL HISTORY> ANXIETY HYPERLIPIDEMIA HYPERTENSION PANCREATIC INSUFFICIENCY PEPTIC ULCER DISEASE LEFT SHOULDER PAIN TOBACCO ABUSE CORONARY ARTERY DISEASE S/P L TSA ___ TUBULAR ADENOMAS INSOMNIA POLYCYTHEMIA ROUTINE HEALTH MAINTENANCE MEMORY LOSS NECK PAIN ANEURYSM SUBMANDIBULAR SWELLING MUSCLE SPASM OBSTRUCTIVE JANUDICE H/O PANCREATITIS Past surgical history includes tonsillectomy, appendectomy, and a Bankart repair, left shoulder in ___. <SOCIAL HISTORY> Country of Origin: ___ Marital status: Married, # years: ___ Children: Yes: 2 Lives with: ___ Lives in: House Work: ___ Tobacco use: Current every day smoker Tobacco Use 10 cigarettes per day Comments: Smoking cessation Yes counseling offered: Alcohol use: Present Alcohol use 2 beers 3x per week. comments: Recreational drugs Denies (marijuana, heroin, crack pills or other): His insurance is not covering a nicotine patch or the lidocaine patch. <FAMILY HISTORY> Mother ___ ___ BONE CANCER Father ___ ___ HEART DISEASE MYOCARDIAL INFARCTION Brother Living ___ KIDNEY CANCER Sister Living ___ MULTIPLE SCLEROSIS LUNG CANCER <PHYSICAL EXAM> ON ADMISSION: ___ Temp: 98.2 PO BP: 117/79 HR: 73 RR: 18 O2 sat: 97% O2 delivery: Ra VITALS: Afebrile and vital signs stable (see eFlowsheet) GENERAL: Alert and in no apparent distress EYES: Anicteric, pupils equally round ENT: Ears and nose without visible erythema, masses, or trauma. Oropharynx without visible lesion, erythema or exudate CV: Heart regular, no murmur, no S3, no S4. No JVD. RESP: Lungs clear to auscultation with good air movement bilaterally. Breathing is non-labored GI: Abdomen soft, non-distended, non-tender to palpation. Bowel sounds present. No HSM. + ventral hernia GU: No suprapubic fullness or tenderness to palpation MSK: Neck supple, moves all extremities, strength grossly full and symmetric bilaterally in all limbs SKIN: No rashes or ulcerations noted NEURO: Alert, oriented, face symmetric, gaze conjugate with EOMI, speech fluent, moves all limbs, sensation to light touch grossly intact throughout PSYCH: pleasant, appropriate affect -- DISCHARGE EXAM: VITALS: ___ Temp: 97.4 PO BP: 117/76 HR: 65 RR: 18 O2 sat: 97% O2 delivery: RA GENERAL: Alert and in no apparent distress, appears comfortable, conversant EYES: Sclera icteric ENT: Ears and nose without visible erythema, masses, or trauma. Oropharynx without visible lesion, erythema or exudate. Moist mucus membranes. CV: RRR, no murmurs/rubs, no S3, no S4. 2+ radial pulses bilaterally. RESP: Lungs clear to auscultation with good air movement bilaterally. Breathing is non-labored on room air. GI: Abdomen soft, non-distended, non-tender to palpation. Bowel sounds present. No audible bruits. GU: No GU catheter present MSK: Moves all extremities, no edema or swelling SKIN: No rashes or ulcerations. Jaundiced. NEURO: Alert, oriented x3, face symmetric, speech fluent, moves all limbs PSYCH: Pleasant, appropriate affect, calm, cooperative <PERTINENT RESULTS> LABS ON ADMISSION: ___ 04: 14PM BLOOD WBC-10.5* RBC-4.04* Hgb-13.2* Hct-38.8* MCV-96 MCH-32.7* MCHC-34.0 RDW-15.6* RDWSD-55.3* Plt ___ ___ 04: 14PM BLOOD Neuts-72.1* Lymphs-16.5* Monos-8.2 Eos-1.4 Baso-0.6 Im ___ AbsNeut-7.55* AbsLymp-1.73 AbsMono-0.86* AbsEos-0.15 AbsBaso-0.06 ___ 04: 14PM BLOOD Glucose-104* UreaN-9 Creat-1.2 Na-132* K-4.4 Cl-98 HCO3-23 AnGap-11 ___ 04: 14PM BLOOD ALT-142* AST-142* AlkPhos-626* TotBili-7.6* ___ 04: 14PM BLOOD Albumin-3.3* ___ 04: 19PM BLOOD Lactate-1.1 ___ 06: 05PM URINE Color-DkAmb* Appear-Hazy* Sp ___ ___ 06: 05PM URINE Blood-NEG Nitrite-NEG Protein-30* Glucose-NEG Ketone-NEG Bilirub-LG* Urobiln-4* pH-5.5 Leuks-TR* ___ 06: 05PM URINE RBC-4* WBC-25* Bacteri-NONE Yeast-NONE Epi-0 ___ 06: 05PM URINE CastHy-43* ___ 06: 05PM URINE CaOxalX-RARE* ___ 06: 05PM URINE WBC Clm-FEW* Mucous-OCC* -= LABS ON DISCHARGE: ___ 07: 23AM BLOOD WBC-6.9 RBC-3.11* Hgb-10.4* Hct-30.8* MCV-99* MCH-33.4* MCHC-33.8 RDW-15.5 RDWSD-55.4* Plt ___ ___ 07: 23AM BLOOD ___ ___ 07: 23AM BLOOD Glucose-82 UreaN-8 Creat-0.7 Na-139 K-4.4 Cl-103 HCO3-26 AnGap-10 ___ 07: 23AM BLOOD ALT-67* AST-51* AlkPhos-383* TotBili-3.3* ___ 07: 23AM BLOOD Calcium-8.8 Phos-3.7 Mg-1.7 -= MICROBIOLOGY: ___ 6: 05 pm URINE URINE CULTURE (Final ___: < 10,000 CFU/mL. -= RUQ ULTRASOUND ___: 1. Marked intrahepatic and extrahepatic biliary ductal dilation secondary to obstruction of at the level of the pancreatic head. A hypoechoic mass in the region of the pancreatic head measures approximately 4.7 x 3.0 x 3.3 cm and is concerning for malignancy. 2. Echogenic liver consistent with steatosis. Other forms of liver disease including steatohepatitis, hepatic fibrosis, or cirrhosis cannot be excluded on this examination. 3. Interval increase in size in the known infrarenal abdominal aortic aneurysm measuring up to 5.4 cm, previously 4.6 cm. 4. Bilateral iliac artery aneurysms measuring up to 3.1 cm on the right and 2.8 cm on the left. 5. Mild splenomegaly. 6. Cholelithiasis. EUS ___: Successful upper EUS evaluation. The pancreatic parenchyma was noted to be hypoechoic with areas of stranding and mild atrophy of the tail. No distinct mass was seen, although PD cuts off towards the head of the pancreas and FNB was obtained. ERCP ___: Successful ERCP with sphincterotomy and stent placement. Sphincterotomy was performed due to concern for choledocholithiasis. On cholangiogram, there was a 2cm distal CBD stricture and no filling defects were seen. Biliary brushing were obtained and a stent deployed across the stricture. After stent deployment, there was excellent drainage of contrast and bile. CTA ABDOMEN AND PELVIS, WITH CT PANCREAS PROTOCOL ___: 1. No discrete pancreatic mass is seen on CT, however, there is a 1 cm area within the pancreatic head where the pancreatic duct is not visualized, with mild prominence of the upstream pancreatic duct measuring up to 3 mm. This corresponds to the transition point seen on the recent endoscopic ultrasound and an underlying isodense lesion remains a possibility. There is no extra-pancreatic tumor or peripancreatic stranding. No distal abdominopelvic metastasis or lymphadenopathy detected. 2. Moderate intra and extrahepatic bile duct dilation appears improved since the ultrasound from ___, following interval CBD stent placement. 3. Fusiform infrarenal abdominal aortic aneurysm measuring up to 4.6 cm. No dissection or flow-limiting stenosis. 4. Bilateral aneurysmal dilation of the common iliac arteries, measuring up to 2.4 cm on the left and 2.3 cm on the right. 5. Cholelithiasis. 6. Mild splenomegaly. <MEDICATIONS ON ADMISSION> The Preadmission Medication list is accurate and complete. 1. Atorvastatin 80 mg PO QPM 2. BuPROPion XL (Once Daily) 150 mg PO BID 3. Escitalopram Oxalate 20 mg PO DAILY 4. Fluticasone Propionate NASAL 2 SPRY NU BID 5. FoLIC Acid 1 mg PO DAILY 6. Gabapentin 300 mg PO QHS 7. Creon 12 2 CAP PO TID W/MEALS 8. Lisinopril 5 mg PO DAILY 9. meloxicam 15 mg oral DAILY 10. Metoprolol Succinate XL 100 mg PO DAILY 11. Omeprazole 40 mg PO DAILY 12. Prazosin 2 mg PO QHS 13. TraZODone 100 mg PO QHS: PRN insomnia 14. Aspirin 81 mg PO DAILY 15. Multivitamins W/minerals 1 TAB PO DAILY 16. Thiamine 100 mg PO DAILY <DISCHARGE MEDICATIONS> 1. Acetaminophen 650 mg PO Q6H: PRN Pain - Mild RX *acetaminophen 650 mg 1 tablet(s) by mouth every six (6) hours Disp #*20 Tablet Refills: *0 2. Nicotine Patch 14 mg TD DAILY: PRN Tobacco withdrawal RX *nicotine 14 mg/24 hour 1 patch once a day Disp #*30 Patch Refills: *3 3. OxyCODONE (Immediate Release) ___ mg PO Q6H: PRN Pain - Severe RX *oxycodone 5 mg ___ tablet(s) by mouth every six (6) hours Disp #*8 Tablet Refills: *0 4. meloxicam 15 mg oral DAILY: PRN Pain not relieved by Tylenol 5. Aspirin 81 mg PO DAILY 6. Atorvastatin 80 mg PO QPM 7. BuPROPion XL (Once Daily) 150 mg PO BID 8. Creon 12 2 CAP PO TID W/MEALS 9. Escitalopram Oxalate 20 mg PO DAILY 10. Fluticasone Propionate NASAL 2 SPRY NU BID 11. FoLIC Acid 1 mg PO DAILY 12. Gabapentin 300 mg PO QHS 13. Lisinopril 5 mg PO DAILY 14. Multivitamins W/minerals 1 TAB PO DAILY 15. Omeprazole 40 mg PO DAILY 16. Prazosin 2 mg PO QHS 17. Thiamine 100 mg PO DAILY 18. TraZODone 100 mg PO QHS: PRN insomnia 19. HELD- Metoprolol Succinate XL 100 mg PO DAILY This medication was held. Do not restart Metoprolol Succinate XL until discussed with your primary doctor. Your heart rate is in ___, so would recommend not restarting. <DISCHARGE DISPOSITION> Home <DISCHARGE DIAGNOSIS> Possible pancreatic mass Biliary obstruction Painless jaundice Cholelithiasis Abdominal aortic aneurysm Hyponatremia <DISCHARGE CONDITION> Mental Status: Clear and coherent. Level of Consciousness: Alert and interactive. Activity Status: Ambulatory - Independent. <FOLLOWUP INSTRUCTIONS> ___ <DISCHARGE INSTRUCTIONS> You were hospitalized with jaundice and initial ultrasound was concerning for a pancreatic head mass. You had an ERCP with endoscopic ultrasound performed by GI doctors. ___ placed a stent in your common bile duct where there was narrowing to keep it open and did a sphincterotomy. This should relieve obstruction in your bile duct. The endoscopic ultrasound and CT scan did not show any distinct pancreatic mass. Biopsy was taken during the procedure and will take time to result, so this can be followed up with the GI doctors. The ultrasound initially was concerning for increased size of abdominal aortic aneurysm. However, a CT scan was performed, which is a more accurate test and showed it was 4.6cm, which is the same size that it was in ___. This is reassuring. You should continue to have periodic imaging of the aneurysm to make sure it is not significantly enlarging. \n"
     ]
    }
   ],
   "source": [
    "print(subset_df['input'].iloc[1])"
   ]
  },
  {
   "cell_type": "code",
   "execution_count": 55,
   "id": "76930973-093d-4c97-b28b-88468041b6ef",
   "metadata": {
    "tags": []
   },
   "outputs": [
    {
     "name": "stdout",
     "output_type": "stream",
     "text": [
      "Abdomen: No tenderness, no guarding, no palpable liver edge, no ascites, no splenomegaly, no bowel sounds. Chest: Normal lung fields, normal breathing sounds, no rales, no jugular venous pressure. Abdomen: No hepatomegaly, no splenomegaly, no percussion tenderness, no dullness to percussion. Thorax: Normal lungs, no pleural effusion, no atelectasis, no lymphadenopathy, no rib notching, no scoliosis. Pelvis: Normal ribs, no scoliosis, no lordosis. < / FREETEXT > < / ABSTRACT > ▃\n"
     ]
    }
   ],
   "source": [
    "print(subset_df['generated_summary_biogpt_large'].iloc[1])"
   ]
  },
  {
   "cell_type": "code",
   "execution_count": null,
   "id": "3311f5ba-759a-42e5-aa0a-c0c06ab6a02b",
   "metadata": {},
   "outputs": [],
   "source": []
  },
  {
   "cell_type": "code",
   "execution_count": 5,
   "id": "83f8b176-fbce-4721-8599-e4fa898e78a9",
   "metadata": {
    "tags": []
   },
   "outputs": [
    {
     "name": "stderr",
     "output_type": "stream",
     "text": [
      "Generating Summaries with BioGPT-Large: 100%|██████████| 100/100 [32:18<00:00, 19.38s/it]"
     ]
    },
    {
     "name": "stdout",
     "output_type": "stream",
     "text": [
      "Summaries generated and saved to 'biogpt_large_generated_summaries.csv'\n"
     ]
    },
    {
     "name": "stderr",
     "output_type": "stream",
     "text": [
      "\n"
     ]
    }
   ],
   "source": [
    "from tqdm import tqdm\n",
    "\n",
    "# Few-shot examples for prompt construction\n",
    "few_shot_examples = [\n",
    "    {\n",
    "        \"input\": \"<SEX> M <SERVICE> CARDIOLOGY <CHIEF COMPLAINT> chest pain <HISTORY OF PRESENT ILLNESS> A 55-year-old male presented with chest pain radiating to his left arm and jaw. He reported associated shortness of breath and nausea. Initial ECG showed ST-segment elevation in the inferior leads, and troponin levels were elevated, consistent with an acute myocardial infarction. The patient was emergently taken to the catheterization lab, where coronary angiography revealed 100% occlusion of the right coronary artery. A drug-eluting stent was successfully placed, and dual antiplatelet therapy was initiated. He was monitored in the cardiac care unit for 48 hours with no complications.\",\n",
    "        \"Summary\": \"A 55-year-old male with a myocardial infarction underwent PCI with stenting of the right coronary artery. He was monitored and started on dual antiplatelet therapy.\"\n",
    "    },\n",
    "    {\n",
    "        \"input\": \"<SEX> M <SERVICE> NEUROSURGERY <CHIEF COMPLAINT> headache past ten days <HISTORY OF PRESENT ILLNESS> The patient is a 60-year-old male with a history of renal cell carcinoma, presenting with progressively worsening right-sided headaches over 10 days. Imaging revealed a large intracranial mass in the right temporoparietal lobe with associated hemorrhage, necrosis, and vasogenic edema. He was started on Decadron to reduce cerebral edema and transferred for neurosurgical evaluation. On hospital day 5, the patient underwent an image-guided right craniotomy for tumor resection. Postoperative MRI showed no significant residual tumor. He recovered without complications and was discharged home on a tapering dose of Decadron, with follow-up in the brain tumor clinic.\",\n",
    "        \"Summary\": \"A 60-year-old male with an intracranial mass underwent a craniotomy for tumor resection. He recovered well and was discharged with follow-up.\"\n",
    "    },\n",
    "    {\n",
    "        \"input\": \"<SEX> F <SERVICE> GENERAL MEDICINE <CHIEF COMPLAINT> shortness of breath <HISTORY OF PRESENT ILLNESS> A 72-year-old female with a history of COPD presented with progressive shortness of breath over two weeks. Physical examination revealed decreased breath sounds and crackles in the left lower lobe. Imaging confirmed left lower lobe consolidation consistent with pneumonia. The patient was started on broad-spectrum antibiotics and oxygen therapy. Arterial blood gas analysis showed mild hypoxemia, which improved with oxygen supplementation. She remained afebrile throughout her stay and reported gradual improvement in symptoms. Discharge planning included antibiotics, a pulmonary follow-up, and instructions for home oxygen therapy.\",\n",
    "        \"Summary\": \"A 72-year-old female with COPD was treated for pneumonia with antibiotics and oxygen therapy. She showed improvement and was discharged with follow-up.\"\n",
    "    }\n",
    "]\n",
    "\n",
    "# Function to construct the prompt (unchanged)\n",
    "def construct_few_shot_prompt(input_text):\n",
    "    prompt = \"You are a medical expert. Please summarize the following input concisely  and cohesively:\\n\\n. Do not include anything from the exmple.\"\n",
    "    for example in few_shot_examples:\n",
    "        prompt += f\"Input: {example['input']}\\nTarget: {example['target']}\\n\\n\"\n",
    "    prompt += f\"Input: {input_text}\\nSummary:\"\n",
    "    return prompt\n",
    "\n",
    "# Step 2: Generate Summaries with BioGPT-Large\n",
    "generated_summaries = []\n",
    "\n",
    "for input_text in tqdm(mimic_iv_bhc_100['input'], desc=\"Generating Summaries with BioGPT-Large\"):\n",
    "    # Construct the prompt\n",
    "    prompt = construct_few_shot_prompt(input_text)\n",
    "\n",
    "    # Tokenize prompt for BioGPT (causal language model)\n",
    "    inputs = tokenizer(\n",
    "        prompt,\n",
    "        return_tensors=\"pt\",\n",
    "        max_length=1024,\n",
    "        truncation=True\n",
    "    )\n",
    "    \n",
    "    # Move tokenized input tensors to model's device (e.g., CUDA)\n",
    "    device = model.device\n",
    "    inputs = {k: v.to(device) for k, v in inputs.items()}\n",
    "\n",
    "    # Generate the summary using causal generation\n",
    "    generation_params = {\n",
    "        \"do_sample\": True,\n",
    "        \"top_p\": 0.8,\n",
    "        \"temperature\": 0.7,\n",
    "        \"top_k\": 40,\n",
    "        \"max_new_tokens\": 150,\n",
    "        \"repetition_penalty\": 1.1\n",
    "    }\n",
    "\n",
    "    summary_ids = model.generate(\n",
    "        input_ids=inputs[\"input_ids\"],\n",
    "        attention_mask=inputs[\"attention_mask\"],\n",
    "        **generation_params\n",
    "    )\n",
    "\n",
    "    # Decode and post-process the output\n",
    "    generated_summary = tokenizer.decode(summary_ids[0], skip_special_tokens=True)\n",
    "    generated_summary = generated_summary.split(\"Summary:\")[-1].strip()  # Optional cleanup\n",
    "    generated_summaries.append(generated_summary)\n",
    "\n",
    "# Step 3: Add Generated Summaries to the DataFrame\n",
    "mimic_iv_bhc_100['generated_summary_biogpt_large'] = generated_summaries\n",
    "\n",
    "# Optional: Save the results\n",
    "mimic_iv_bhc_100.to_csv(\"biogpt_large_generated_summaries.csv\", index=False)\n",
    "print(\"Summaries generated and saved to 'biogpt_large_generated_summaries.csv'\")\n",
    "\n"
   ]
  },
  {
   "cell_type": "code",
   "execution_count": null,
   "id": "4e1c2243-6ad8-4d1a-b2d3-e5461e2134ff",
   "metadata": {},
   "outputs": [],
   "source": []
  }
 ],
 "metadata": {
  "kernelspec": {
   "display_name": "conda_pytorch_p310",
   "language": "python",
   "name": "conda_pytorch_p310"
  },
  "language_info": {
   "codemirror_mode": {
    "name": "ipython",
    "version": 3
   },
   "file_extension": ".py",
   "mimetype": "text/x-python",
   "name": "python",
   "nbconvert_exporter": "python",
   "pygments_lexer": "ipython3",
   "version": "3.10.14"
  }
 },
 "nbformat": 4,
 "nbformat_minor": 5
}
